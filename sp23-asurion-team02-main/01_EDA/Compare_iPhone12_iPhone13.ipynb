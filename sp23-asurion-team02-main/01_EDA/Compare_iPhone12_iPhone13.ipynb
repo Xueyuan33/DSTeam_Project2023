{
 "cells": [
  {
   "cell_type": "code",
   "execution_count": 32,
   "id": "f4083116",
   "metadata": {},
   "outputs": [],
   "source": [
    "import pandas as pd\n",
    "import numpy as np\n",
    "import datetime as dt\n",
    "import seaborn as sns\n",
    "import matplotlib.pyplot as plt\n",
    "import matplotlib.dates as mdates"
   ]
  },
  {
   "cell_type": "code",
   "execution_count": 2,
   "id": "f1462902",
   "metadata": {},
   "outputs": [],
   "source": [
    "df = pd.read_csv('/data/p_dsi/teams2023/team2/asurion_data/Asurion_data_iPhone_v3.csv', parse_dates=['weeks_monday','month_year'])"
   ]
  },
  {
   "cell_type": "code",
   "execution_count": 21,
   "id": "b5affaae",
   "metadata": {},
   "outputs": [],
   "source": [
    "iphone12_start_period = '2021-07-19'\n",
    "iphone12_end_period = '2021-12-13'\n",
    "\n",
    "iphone13_start_period = '2021-06-27'\n",
    "iphone13_end_period = '2021-11-21'"
   ]
  },
  {
   "cell_type": "code",
   "execution_count": 22,
   "id": "1962f981",
   "metadata": {},
   "outputs": [],
   "source": [
    "iphone12_data = df[(df['phone_generation'] == 'iphone 12') & (df['weeks_monday'] >= iphone12_period_start) & (df['weeks_monday'] <= iphone12_period_end)]\n",
    "iphone13_data = df[(df['phone_generation'] == 'iphone 13') & (df['weeks_monday'] >= iphone13_period_start) & (df['weeks_monday'] <= iphone13_period_end)]"
   ]
  },
  {
   "cell_type": "code",
   "execution_count": 27,
   "id": "a7c30e7e",
   "metadata": {},
   "outputs": [],
   "source": [
    "iphone12_weekly_claims = iphone12_data.groupby('weeks_monday')['claim'].sum().reset_index(drop=True)\n",
    "iphone13_weekly_claims = iphone13_data.groupby('weeks_monday')['claim'].sum().reset_index(drop=True)"
   ]
  },
  {
   "cell_type": "code",
   "execution_count": 34,
   "id": "9ca4dc14",
   "metadata": {},
   "outputs": [
    {
     "name": "stdout",
     "output_type": "stream",
     "text": [
      "Correlation coefficient between iphone 12 and iphone 13 trends during a 5 month period 9 months after their respective release dates: 0.8549275062589464\n"
     ]
    }
   ],
   "source": [
    "corr_coef = np.corrcoef(iphone12_weekly_claims, iphone13_weekly_claims)[0, 1]\n",
    "print('Correlation coefficient between iphone 12 and iphone 13 trends during a 5 month period 9 months after their respective release dates:', corr_coef)"
   ]
  },
  {
   "cell_type": "code",
   "execution_count": null,
   "id": "880da949",
   "metadata": {},
   "outputs": [],
   "source": []
  }
 ],
 "metadata": {
  "kernelspec": {
   "display_name": "Python 3 (ipykernel)",
   "language": "python",
   "name": "python3"
  },
  "language_info": {
   "codemirror_mode": {
    "name": "ipython",
    "version": 3
   },
   "file_extension": ".py",
   "mimetype": "text/x-python",
   "name": "python",
   "nbconvert_exporter": "python",
   "pygments_lexer": "ipython3",
   "version": "3.9.12"
  }
 },
 "nbformat": 4,
 "nbformat_minor": 5
}
