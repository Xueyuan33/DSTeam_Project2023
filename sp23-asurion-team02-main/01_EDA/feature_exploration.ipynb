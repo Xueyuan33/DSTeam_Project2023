{
 "cells": [
  {
   "cell_type": "code",
   "execution_count": 7,
   "id": "6ed7221d",
   "metadata": {},
   "outputs": [
    {
     "data": {
      "text/html": [
       "<div>\n",
       "<style scoped>\n",
       "    .dataframe tbody tr th:only-of-type {\n",
       "        vertical-align: middle;\n",
       "    }\n",
       "\n",
       "    .dataframe tbody tr th {\n",
       "        vertical-align: top;\n",
       "    }\n",
       "\n",
       "    .dataframe thead th {\n",
       "        text-align: right;\n",
       "    }\n",
       "</style>\n",
       "<table border=\"1\" class=\"dataframe\">\n",
       "  <thead>\n",
       "    <tr style=\"text-align: right;\">\n",
       "      <th></th>\n",
       "      <th>phone model</th>\n",
       "      <th>phone size</th>\n",
       "      <th>phone color</th>\n",
       "      <th>claim</th>\n",
       "      <th>weeks_monday</th>\n",
       "    </tr>\n",
       "  </thead>\n",
       "  <tbody>\n",
       "    <tr>\n",
       "      <th>0</th>\n",
       "      <td>alcatel axel</td>\n",
       "      <td>32gb</td>\n",
       "      <td>black</td>\n",
       "      <td>1</td>\n",
       "      <td>2022-01-24</td>\n",
       "    </tr>\n",
       "    <tr>\n",
       "      <th>1</th>\n",
       "      <td>alcatel axel</td>\n",
       "      <td>32gb</td>\n",
       "      <td>black</td>\n",
       "      <td>3</td>\n",
       "      <td>2022-11-14</td>\n",
       "    </tr>\n",
       "    <tr>\n",
       "      <th>2</th>\n",
       "      <td>alcatel axel</td>\n",
       "      <td>32gb</td>\n",
       "      <td>black</td>\n",
       "      <td>1</td>\n",
       "      <td>2022-11-21</td>\n",
       "    </tr>\n",
       "    <tr>\n",
       "      <th>3</th>\n",
       "      <td>alcatel axel</td>\n",
       "      <td>32gb</td>\n",
       "      <td>black</td>\n",
       "      <td>3</td>\n",
       "      <td>2022-11-28</td>\n",
       "    </tr>\n",
       "    <tr>\n",
       "      <th>4</th>\n",
       "      <td>alcatel axel</td>\n",
       "      <td>32gb</td>\n",
       "      <td>black</td>\n",
       "      <td>1</td>\n",
       "      <td>2022-12-12</td>\n",
       "    </tr>\n",
       "    <tr>\n",
       "      <th>5</th>\n",
       "      <td>alcatel smartflip 4052r</td>\n",
       "      <td>4gb</td>\n",
       "      <td>black</td>\n",
       "      <td>1</td>\n",
       "      <td>2022-07-04</td>\n",
       "    </tr>\n",
       "    <tr>\n",
       "      <th>6</th>\n",
       "      <td>alcatel smartflip 4052r</td>\n",
       "      <td>4gb</td>\n",
       "      <td>black</td>\n",
       "      <td>1</td>\n",
       "      <td>2022-07-25</td>\n",
       "    </tr>\n",
       "    <tr>\n",
       "      <th>7</th>\n",
       "      <td>alcatel smartflip 4052r</td>\n",
       "      <td>4gb</td>\n",
       "      <td>black</td>\n",
       "      <td>3</td>\n",
       "      <td>2022-08-01</td>\n",
       "    </tr>\n",
       "    <tr>\n",
       "      <th>8</th>\n",
       "      <td>alcatel smartflip 4052r</td>\n",
       "      <td>4gb</td>\n",
       "      <td>black</td>\n",
       "      <td>1</td>\n",
       "      <td>2022-08-08</td>\n",
       "    </tr>\n",
       "    <tr>\n",
       "      <th>9</th>\n",
       "      <td>alcatel smartflip 4052r</td>\n",
       "      <td>4gb</td>\n",
       "      <td>black</td>\n",
       "      <td>1</td>\n",
       "      <td>2022-08-15</td>\n",
       "    </tr>\n",
       "  </tbody>\n",
       "</table>\n",
       "</div>"
      ],
      "text/plain": [
       "               phone model phone size phone color  claim weeks_monday\n",
       "0             alcatel axel       32gb       black      1   2022-01-24\n",
       "1             alcatel axel       32gb       black      3   2022-11-14\n",
       "2             alcatel axel       32gb       black      1   2022-11-21\n",
       "3             alcatel axel       32gb       black      3   2022-11-28\n",
       "4             alcatel axel       32gb       black      1   2022-12-12\n",
       "5  alcatel smartflip 4052r        4gb       black      1   2022-07-04\n",
       "6  alcatel smartflip 4052r        4gb       black      1   2022-07-25\n",
       "7  alcatel smartflip 4052r        4gb       black      3   2022-08-01\n",
       "8  alcatel smartflip 4052r        4gb       black      1   2022-08-08\n",
       "9  alcatel smartflip 4052r        4gb       black      1   2022-08-15"
      ]
     },
     "execution_count": 7,
     "metadata": {},
     "output_type": "execute_result"
    }
   ],
   "source": [
    "import pandas as pd\n",
    "import numpy as np\n",
    "import seaborn as sns\n",
    "import matplotlib.pyplot as plt\n",
    "%matplotlib inline\n",
    "# read by default 1st sheet of an excel file\n",
    "data = pd.read_excel('/data/p_dsi/teams2023/team2/asurion_data/Asurion_data.xlsx')\n",
    "data=pd.DataFrame(data)\n",
    "data.head(10)"
   ]
  },
  {
   "cell_type": "code",
   "execution_count": 8,
   "id": "40e70d6d",
   "metadata": {},
   "outputs": [],
   "source": [
    "#new_data=pd.read_csv('')"
   ]
  },
  {
   "cell_type": "code",
   "execution_count": 9,
   "id": "9e234362",
   "metadata": {},
   "outputs": [],
   "source": [
    "data=data[data['phone model'].str.startswith('apple')]"
   ]
  },
  {
   "cell_type": "code",
   "execution_count": 10,
   "id": "43e8bc9d",
   "metadata": {},
   "outputs": [
    {
     "data": {
      "text/html": [
       "<div>\n",
       "<style scoped>\n",
       "    .dataframe tbody tr th:only-of-type {\n",
       "        vertical-align: middle;\n",
       "    }\n",
       "\n",
       "    .dataframe tbody tr th {\n",
       "        vertical-align: top;\n",
       "    }\n",
       "\n",
       "    .dataframe thead th {\n",
       "        text-align: right;\n",
       "    }\n",
       "</style>\n",
       "<table border=\"1\" class=\"dataframe\">\n",
       "  <thead>\n",
       "    <tr style=\"text-align: right;\">\n",
       "      <th></th>\n",
       "      <th>phone model</th>\n",
       "      <th>phone size</th>\n",
       "      <th>phone color</th>\n",
       "      <th>claim</th>\n",
       "      <th>weeks_monday</th>\n",
       "    </tr>\n",
       "  </thead>\n",
       "  <tbody>\n",
       "    <tr>\n",
       "      <th>32</th>\n",
       "      <td>apple iphone 11</td>\n",
       "      <td>128gb</td>\n",
       "      <td>black</td>\n",
       "      <td>111</td>\n",
       "      <td>2021-06-28</td>\n",
       "    </tr>\n",
       "    <tr>\n",
       "      <th>33</th>\n",
       "      <td>apple iphone 11</td>\n",
       "      <td>128gb</td>\n",
       "      <td>black</td>\n",
       "      <td>319</td>\n",
       "      <td>2021-07-05</td>\n",
       "    </tr>\n",
       "    <tr>\n",
       "      <th>34</th>\n",
       "      <td>apple iphone 11</td>\n",
       "      <td>128gb</td>\n",
       "      <td>black</td>\n",
       "      <td>320</td>\n",
       "      <td>2021-07-12</td>\n",
       "    </tr>\n",
       "    <tr>\n",
       "      <th>35</th>\n",
       "      <td>apple iphone 11</td>\n",
       "      <td>128gb</td>\n",
       "      <td>black</td>\n",
       "      <td>305</td>\n",
       "      <td>2021-07-19</td>\n",
       "    </tr>\n",
       "    <tr>\n",
       "      <th>36</th>\n",
       "      <td>apple iphone 11</td>\n",
       "      <td>128gb</td>\n",
       "      <td>black</td>\n",
       "      <td>269</td>\n",
       "      <td>2021-07-26</td>\n",
       "    </tr>\n",
       "    <tr>\n",
       "      <th>37</th>\n",
       "      <td>apple iphone 11</td>\n",
       "      <td>128gb</td>\n",
       "      <td>black</td>\n",
       "      <td>301</td>\n",
       "      <td>2021-08-02</td>\n",
       "    </tr>\n",
       "    <tr>\n",
       "      <th>38</th>\n",
       "      <td>apple iphone 11</td>\n",
       "      <td>128gb</td>\n",
       "      <td>black</td>\n",
       "      <td>313</td>\n",
       "      <td>2021-08-09</td>\n",
       "    </tr>\n",
       "    <tr>\n",
       "      <th>39</th>\n",
       "      <td>apple iphone 11</td>\n",
       "      <td>128gb</td>\n",
       "      <td>black</td>\n",
       "      <td>354</td>\n",
       "      <td>2021-08-16</td>\n",
       "    </tr>\n",
       "    <tr>\n",
       "      <th>40</th>\n",
       "      <td>apple iphone 11</td>\n",
       "      <td>128gb</td>\n",
       "      <td>black</td>\n",
       "      <td>253</td>\n",
       "      <td>2021-08-23</td>\n",
       "    </tr>\n",
       "    <tr>\n",
       "      <th>41</th>\n",
       "      <td>apple iphone 11</td>\n",
       "      <td>128gb</td>\n",
       "      <td>black</td>\n",
       "      <td>223</td>\n",
       "      <td>2021-08-30</td>\n",
       "    </tr>\n",
       "  </tbody>\n",
       "</table>\n",
       "</div>"
      ],
      "text/plain": [
       "        phone model phone size phone color  claim weeks_monday\n",
       "32  apple iphone 11      128gb       black    111   2021-06-28\n",
       "33  apple iphone 11      128gb       black    319   2021-07-05\n",
       "34  apple iphone 11      128gb       black    320   2021-07-12\n",
       "35  apple iphone 11      128gb       black    305   2021-07-19\n",
       "36  apple iphone 11      128gb       black    269   2021-07-26\n",
       "37  apple iphone 11      128gb       black    301   2021-08-02\n",
       "38  apple iphone 11      128gb       black    313   2021-08-09\n",
       "39  apple iphone 11      128gb       black    354   2021-08-16\n",
       "40  apple iphone 11      128gb       black    253   2021-08-23\n",
       "41  apple iphone 11      128gb       black    223   2021-08-30"
      ]
     },
     "execution_count": 10,
     "metadata": {},
     "output_type": "execute_result"
    }
   ],
   "source": [
    "data.head(10)"
   ]
  },
  {
   "cell_type": "code",
   "execution_count": 13,
   "id": "80d22a48",
   "metadata": {},
   "outputs": [
    {
     "data": {
      "text/html": [
       "<div>\n",
       "<style scoped>\n",
       "    .dataframe tbody tr th:only-of-type {\n",
       "        vertical-align: middle;\n",
       "    }\n",
       "\n",
       "    .dataframe tbody tr th {\n",
       "        vertical-align: top;\n",
       "    }\n",
       "\n",
       "    .dataframe thead th {\n",
       "        text-align: right;\n",
       "    }\n",
       "</style>\n",
       "<table border=\"1\" class=\"dataframe\">\n",
       "  <thead>\n",
       "    <tr style=\"text-align: right;\">\n",
       "      <th></th>\n",
       "      <th>phone model</th>\n",
       "      <th>phone size</th>\n",
       "      <th>phone color</th>\n",
       "      <th>claim</th>\n",
       "      <th>weeks_monday</th>\n",
       "    </tr>\n",
       "  </thead>\n",
       "  <tbody>\n",
       "    <tr>\n",
       "      <th>phone model</th>\n",
       "      <td>1.000000</td>\n",
       "      <td>0.129150</td>\n",
       "      <td>-0.022444</td>\n",
       "      <td>-0.297598</td>\n",
       "      <td>-0.088515</td>\n",
       "    </tr>\n",
       "    <tr>\n",
       "      <th>phone size</th>\n",
       "      <td>0.129150</td>\n",
       "      <td>1.000000</td>\n",
       "      <td>0.046198</td>\n",
       "      <td>0.033657</td>\n",
       "      <td>-0.047705</td>\n",
       "    </tr>\n",
       "    <tr>\n",
       "      <th>phone color</th>\n",
       "      <td>-0.022444</td>\n",
       "      <td>0.046198</td>\n",
       "      <td>1.000000</td>\n",
       "      <td>-0.252817</td>\n",
       "      <td>-0.003433</td>\n",
       "    </tr>\n",
       "    <tr>\n",
       "      <th>claim</th>\n",
       "      <td>-0.297598</td>\n",
       "      <td>0.033657</td>\n",
       "      <td>-0.252817</td>\n",
       "      <td>1.000000</td>\n",
       "      <td>-0.001572</td>\n",
       "    </tr>\n",
       "    <tr>\n",
       "      <th>weeks_monday</th>\n",
       "      <td>-0.088515</td>\n",
       "      <td>-0.047705</td>\n",
       "      <td>-0.003433</td>\n",
       "      <td>-0.001572</td>\n",
       "      <td>1.000000</td>\n",
       "    </tr>\n",
       "  </tbody>\n",
       "</table>\n",
       "</div>"
      ],
      "text/plain": [
       "              phone model  phone size  phone color     claim  weeks_monday\n",
       "phone model      1.000000    0.129150    -0.022444 -0.297598     -0.088515\n",
       "phone size       0.129150    1.000000     0.046198  0.033657     -0.047705\n",
       "phone color     -0.022444    0.046198     1.000000 -0.252817     -0.003433\n",
       "claim           -0.297598    0.033657    -0.252817  1.000000     -0.001572\n",
       "weeks_monday    -0.088515   -0.047705    -0.003433 -0.001572      1.000000"
      ]
     },
     "execution_count": 13,
     "metadata": {},
     "output_type": "execute_result"
    }
   ],
   "source": [
    "data['phone model']=data['phone model'].astype('category').cat.codes\n",
    "data['phone size']=data['phone size'].astype('category').cat.codes\n",
    "data['phone color']=data['phone color'].astype('category').cat.codes\n",
    "data['weeks_monday']=data['weeks_monday'].astype('category').cat.codes\n",
    "data.corr()\n",
    "\n",
    "#data.head(20)"
   ]
  },
  {
   "cell_type": "code",
   "execution_count": null,
   "id": "21927ad5",
   "metadata": {},
   "outputs": [],
   "source": []
  },
  {
   "cell_type": "code",
   "execution_count": null,
   "id": "f0d14490",
   "metadata": {},
   "outputs": [],
   "source": []
  },
  {
   "cell_type": "markdown",
   "id": "4b820c92",
   "metadata": {},
   "source": [
    "# Correlation between variables "
   ]
  },
  {
   "cell_type": "code",
   "execution_count": 6,
   "id": "4dafc132",
   "metadata": {},
   "outputs": [
    {
     "data": {
      "image/png": "[encoded data removed]",
      "text/plain": [
       "<Figure size 432x288 with 2 Axes>"
      ]
     },
     "metadata": {
      "needs_background": "light"
     },
     "output_type": "display_data"
    }
   ],
   "source": [
    "import seaborn as sns\n",
    "ax = sns.heatmap(data.corr(), annot=True).set_title(\"Correlation for Iphones\")\n",
    "#ax.fig.suptitle('Correlation for Iphones')"
   ]
  },
  {
   "cell_type": "code",
   "execution_count": 7,
   "id": "cd829f2e",
   "metadata": {},
   "outputs": [
    {
     "data": {
      "image/png": "[encoded data removed]",
      "text/plain": [
       "<Figure size 720x504 with 2 Axes>"
      ]
     },
     "metadata": {
      "needs_background": "light"
     },
     "output_type": "display_data"
    }
   ],
   "source": [
    "# import libraries\n",
    "import matplotlib.pyplot as plt\n",
    "import seaborn as sns\n",
    "\n",
    "# set figure size\n",
    "plt.figure(figsize=(10,7))\n",
    "\n",
    "# Generate a mask to onlyshow the bottom triangle\n",
    "mask = np.triu(np.ones_like(data.corr(), dtype=bool))\n",
    "\n",
    "# generate heatmap\n",
    "sns.heatmap(data.corr(), annot=True, mask=mask, vmin=-1, vmax=1)\n",
    "plt.title('Correlation Coefficient Of Iphones')\n",
    "plt.show()"
   ]
  },
  {
   "cell_type": "code",
   "execution_count": 22,
   "id": "73a1fba2",
   "metadata": {},
   "outputs": [],
   "source": [
    "y = data['claim']\n",
    "X = data.drop(['claim'], axis = 1)\n",
    "\n",
    "from sklearn.model_selection import train_test_split\n",
    "X_train, X_test, y_train, y_test = train_test_split(X, y,random_state=100, test_size=0.3)\n"
   ]
  },
  {
   "cell_type": "code",
   "execution_count": null,
   "id": "9e07847b",
   "metadata": {},
   "outputs": [],
   "source": []
  },
  {
   "cell_type": "code",
   "execution_count": null,
   "id": "b48f4b3f",
   "metadata": {},
   "outputs": [],
   "source": []
  },
  {
   "cell_type": "code",
   "execution_count": null,
   "id": "9a7e72e8",
   "metadata": {},
   "outputs": [],
   "source": []
  },
  {
   "cell_type": "markdown",
   "id": "d6121ad5",
   "metadata": {},
   "source": [
    "# Unsupervised methods \n",
    "\n",
    "## Variance Inflation Factor (VIF)"
   ]
  },
  {
   "cell_type": "code",
   "execution_count": 14,
   "id": "72a1989f",
   "metadata": {},
   "outputs": [],
   "source": [
    "# load statmodels functions\n",
    "from statsmodels.stats.outliers_influence import variance_inflation_factor\n",
    "from statsmodels.tools.tools import add_constant\n",
    "\n",
    "# compute the vif for all given features\n",
    "def compute_vif(considered_features):\n",
    "    \n",
    "    X = data[considered_features]\n",
    "    # the calculation of variance inflation requires a constant\n",
    "    X['intercept'] = 1\n",
    "    \n",
    "    # create dataframe to store vif values\n",
    "    vif = pd.DataFrame()\n",
    "    vif[\"Variable\"] = X.columns\n",
    "    vif[\"VIF\"] = [variance_inflation_factor(X.values, i) for i in range(X.shape[1])]\n",
    "    vif = vif[vif['Variable']!='intercept']\n",
    "    return vif"
   ]
  },
  {
   "cell_type": "code",
   "execution_count": 15,
   "id": "31f97bae",
   "metadata": {},
   "outputs": [
    {
     "data": {
      "text/html": [
       "<div>\n",
       "<style scoped>\n",
       "    .dataframe tbody tr th:only-of-type {\n",
       "        vertical-align: middle;\n",
       "    }\n",
       "\n",
       "    .dataframe tbody tr th {\n",
       "        vertical-align: top;\n",
       "    }\n",
       "\n",
       "    .dataframe thead th {\n",
       "        text-align: right;\n",
       "    }\n",
       "</style>\n",
       "<table border=\"1\" class=\"dataframe\">\n",
       "  <thead>\n",
       "    <tr style=\"text-align: right;\">\n",
       "      <th></th>\n",
       "      <th>Variable</th>\n",
       "      <th>VIF</th>\n",
       "    </tr>\n",
       "  </thead>\n",
       "  <tbody>\n",
       "    <tr>\n",
       "      <th>3</th>\n",
       "      <td>claim</td>\n",
       "      <td>1.196126</td>\n",
       "    </tr>\n",
       "    <tr>\n",
       "      <th>0</th>\n",
       "      <td>phone model</td>\n",
       "      <td>1.145025</td>\n",
       "    </tr>\n",
       "    <tr>\n",
       "      <th>2</th>\n",
       "      <td>phone color</td>\n",
       "      <td>1.086324</td>\n",
       "    </tr>\n",
       "    <tr>\n",
       "      <th>1</th>\n",
       "      <td>phone size</td>\n",
       "      <td>1.029571</td>\n",
       "    </tr>\n",
       "    <tr>\n",
       "      <th>4</th>\n",
       "      <td>weeks_monday</td>\n",
       "      <td>1.010108</td>\n",
       "    </tr>\n",
       "  </tbody>\n",
       "</table>\n",
       "</div>"
      ],
      "text/plain": [
       "       Variable       VIF\n",
       "3         claim  1.196126\n",
       "0   phone model  1.145025\n",
       "2   phone color  1.086324\n",
       "1    phone size  1.029571\n",
       "4  weeks_monday  1.010108"
      ]
     },
     "execution_count": 15,
     "metadata": {},
     "output_type": "execute_result"
    }
   ],
   "source": [
    "# features to consider removing\n",
    "considered_features = ['phone model','phone size','phone color','claim','weeks_monday']\n",
    "\n",
    "# compute vif \n",
    "compute_vif(considered_features).sort_values('VIF', ascending=False)"
   ]
  },
  {
   "cell_type": "code",
   "execution_count": null,
   "id": "c91a6506",
   "metadata": {},
   "outputs": [],
   "source": []
  },
  {
   "cell_type": "code",
   "execution_count": null,
   "id": "988bb89c",
   "metadata": {},
   "outputs": [],
   "source": []
  },
  {
   "cell_type": "code",
   "execution_count": null,
   "id": "e8c40377",
   "metadata": {},
   "outputs": [],
   "source": []
  },
  {
   "cell_type": "markdown",
   "id": "06b2bc53",
   "metadata": {},
   "source": [
    "# Supervised methods"
   ]
  },
  {
   "cell_type": "markdown",
   "id": "60558c25",
   "metadata": {},
   "source": [
    "## (1) Wrapper feature selection methods \n",
    "\n",
    "   > Forward Selection — SFS( ) from mlxtend"
   ]
  },
  {
   "cell_type": "code",
   "execution_count": 20,
   "id": "0df634e2",
   "metadata": {},
   "outputs": [
    {
     "data": {
      "text/html": [
       "<div>\n",
       "<style scoped>\n",
       "    .dataframe tbody tr th:only-of-type {\n",
       "        vertical-align: middle;\n",
       "    }\n",
       "\n",
       "    .dataframe tbody tr th {\n",
       "        vertical-align: top;\n",
       "    }\n",
       "\n",
       "    .dataframe thead th {\n",
       "        text-align: right;\n",
       "    }\n",
       "</style>\n",
       "<table border=\"1\" class=\"dataframe\">\n",
       "  <thead>\n",
       "    <tr style=\"text-align: right;\">\n",
       "      <th></th>\n",
       "      <th>feature_idx</th>\n",
       "      <th>cv_scores</th>\n",
       "      <th>avg_score</th>\n",
       "      <th>feature_names</th>\n",
       "    </tr>\n",
       "  </thead>\n",
       "  <tbody>\n",
       "    <tr>\n",
       "      <th>1</th>\n",
       "      <td>(0,)</td>\n",
       "      <td>[0.08856455126238072]</td>\n",
       "      <td>0.088565</td>\n",
       "      <td>(phone model,)</td>\n",
       "    </tr>\n",
       "    <tr>\n",
       "      <th>2</th>\n",
       "      <td>(0, 2)</td>\n",
       "      <td>[0.15593673783851636]</td>\n",
       "      <td>0.155937</td>\n",
       "      <td>(phone model, phone color)</td>\n",
       "    </tr>\n",
       "    <tr>\n",
       "      <th>3</th>\n",
       "      <td>(0, 1, 2)</td>\n",
       "      <td>[0.16327441192533887]</td>\n",
       "      <td>0.163274</td>\n",
       "      <td>(phone model, phone size, phone color)</td>\n",
       "    </tr>\n",
       "    <tr>\n",
       "      <th>4</th>\n",
       "      <td>(0, 1, 2, 3)</td>\n",
       "      <td>[0.1639675767736265]</td>\n",
       "      <td>0.163968</td>\n",
       "      <td>(phone model, phone size, phone color, weeks_m...</td>\n",
       "    </tr>\n",
       "  </tbody>\n",
       "</table>\n",
       "</div>"
      ],
      "text/plain": [
       "    feature_idx              cv_scores avg_score  \\\n",
       "1          (0,)  [0.08856455126238072]  0.088565   \n",
       "2        (0, 2)  [0.15593673783851636]  0.155937   \n",
       "3     (0, 1, 2)  [0.16327441192533887]  0.163274   \n",
       "4  (0, 1, 2, 3)   [0.1639675767736265]  0.163968   \n",
       "\n",
       "                                       feature_names  \n",
       "1                                     (phone model,)  \n",
       "2                         (phone model, phone color)  \n",
       "3             (phone model, phone size, phone color)  \n",
       "4  (phone model, phone size, phone color, weeks_m...  "
      ]
     },
     "execution_count": 20,
     "metadata": {},
     "output_type": "execute_result"
    }
   ],
   "source": [
    "#Load needed libraries\n",
    "from sklearn.datasets import load_boston\n",
    "from mlxtend.feature_selection import SequentialFeatureSelector as SFS\n",
    "from sklearn.linear_model import LinearRegression\n",
    "import pandas as pd\n",
    "import numpy as np\n",
    "\n",
    "# load_boston() sklearn dataset to boston\n",
    "#boston = load_boston()\n",
    "\n",
    "#Define Sequential Forward Selection (sfs)\n",
    "sfs = SFS(LinearRegression(),\n",
    "           k_features=4,\n",
    "           forward=True,\n",
    "           floating=False,\n",
    "           scoring = 'r2',\n",
    "           cv = 0)\n",
    "#Use SFS to select the top 5 features \n",
    "sfs.fit(X, y)\n",
    "\n",
    "#Create a dataframe for the SFS results \n",
    "df_SFS_results = pd.DataFrame(sfs.subsets_).transpose()\n",
    "df_SFS_results"
   ]
  },
  {
   "cell_type": "markdown",
   "id": "340a470e",
   "metadata": {},
   "source": [
    "## (2) Filter feature selection methods"
   ]
  },
  {
   "cell_type": "code",
   "execution_count": 21,
   "id": "9fc1683b",
   "metadata": {},
   "outputs": [
    {
     "name": "stdout",
     "output_type": "stream",
     "text": [
      "          Specs         Score\n",
      "0   phone model  19513.078789\n",
      "3  weeks_monday   6623.726307\n",
      "2   phone color   4008.539650\n",
      "1    phone size   1738.716588\n"
     ]
    }
   ],
   "source": [
    "import pandas as pd\n",
    "import numpy as np\n",
    "from sklearn.feature_selection import SelectKBest\n",
    "from sklearn.feature_selection import chi2\n",
    "\n",
    "#apply SelectKBest class to extract top 4 best features\n",
    "bestfeatures = SelectKBest(score_func=chi2, k='all')\n",
    "fit = bestfeatures.fit(X,y)\n",
    "dfscores = pd.DataFrame(fit.scores_)\n",
    "dfcolumns = pd.DataFrame(X.columns)\n",
    "#concat two dataframes for better visualization \n",
    "featureScores = pd.concat([dfcolumns,dfscores],axis=1)\n",
    "featureScores.columns = ['Specs','Score']  #naming the dataframe columns\n",
    "print(featureScores.nlargest(4,'Score'))  #print 10 best features"
   ]
  },
  {
   "cell_type": "markdown",
   "id": "ec043d74",
   "metadata": {},
   "source": [
    "## (3) linear regression coefficients for feature importance"
   ]
  },
  {
   "cell_type": "code",
   "execution_count": 36,
   "id": "4beef26a",
   "metadata": {},
   "outputs": [
    {
     "name": "stdout",
     "output_type": "stream",
     "text": [
      "Feature: 0, Score: 15.15249\n",
      "Feature: 1, Score: 89.00366\n",
      "Feature: 2, Score: 85.16296\n",
      "Feature: 3, Score: 65.82129\n"
     ]
    },
    {
     "data": {
      "image/png": "[encoded data removed]",
      "text/plain": [
       "<Figure size 432x288 with 1 Axes>"
      ]
     },
     "metadata": {
      "needs_background": "light"
     },
     "output_type": "display_data"
    }
   ],
   "source": [
    "# linear regression feature importance\n",
    "from sklearn.datasets import make_regression\n",
    "from sklearn.linear_model import LinearRegression\n",
    "from matplotlib import pyplot\n",
    "# define dataset\n",
    "X, y = make_regression(n_samples=1000, n_features=4, n_informative=5, random_state=1)\n",
    "# define the model\n",
    "model = LinearRegression()\n",
    "# fit the model\n",
    "model.fit(X, y)\n",
    "# get importance\n",
    "importance = model.coef_\n",
    "# summarize feature importance\n",
    "for i,v in enumerate(importance):\n",
    "    print('Feature: %0d, Score: %.5f' % (i,v))\n",
    "# plot feature importance\n",
    "pyplot.bar([x for x in range(len(importance))], importance)\n",
    "pyplot.show()"
   ]
  },
  {
   "cell_type": "code",
   "execution_count": null,
   "id": "09dda0eb",
   "metadata": {},
   "outputs": [],
   "source": []
  },
  {
   "cell_type": "code",
   "execution_count": null,
   "id": "fd94659e",
   "metadata": {},
   "outputs": [],
   "source": []
  }
 ],
 "metadata": {
  "kernelspec": {
   "display_name": "Python 3 (ipykernel)",
   "language": "python",
   "name": "python3"
  },
  "language_info": {
   "codemirror_mode": {
    "name": "ipython",
    "version": 3
   },
   "file_extension": ".py",
   "mimetype": "text/x-python",
   "name": "python",
   "nbconvert_exporter": "python",
   "pygments_lexer": "ipython3",
   "version": "3.9.12"
  }
 },
 "nbformat": 4,
 "nbformat_minor": 5
}
