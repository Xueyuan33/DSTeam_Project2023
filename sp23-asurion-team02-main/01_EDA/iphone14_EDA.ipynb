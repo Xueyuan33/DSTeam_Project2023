{
 "cells": [
  {
   "cell_type": "code",
   "execution_count": 2,
   "id": "5eb47cfa",
   "metadata": {},
   "outputs": [],
   "source": [
    "import pandas as pd\n",
    "import matplotlib.pyplot as plt"
   ]
  },
  {
   "cell_type": "code",
   "execution_count": 3,
   "id": "bc230db8",
   "metadata": {},
   "outputs": [
    {
     "name": "stdout",
     "output_type": "stream",
     "text": [
      "                     phone model phone size phone color  claim weeks_monday\n",
      "0                   alcatel axel       32gb       black      1   2022-01-24\n",
      "1                   alcatel axel       32gb       black      3   2022-11-14\n",
      "2                   alcatel axel       32gb       black      1   2022-11-21\n",
      "3                   alcatel axel       32gb       black      3   2022-11-28\n",
      "4                   alcatel axel       32gb       black      1   2022-12-12\n",
      "...                          ...        ...         ...    ...          ...\n",
      "26656  samsung galaxy z fold3 5g      256gb      silver     17   2023-01-30\n",
      "26657  samsung galaxy z fold3 5g      256gb      silver     26   2023-02-06\n",
      "26658  samsung galaxy z fold3 5g      256gb      silver      4   2023-02-13\n",
      "26659  samsung galaxy z fold3 5g      512gb       black     61   2023-02-06\n",
      "26660  samsung galaxy z fold3 5g      512gb       black     16   2023-02-13\n",
      "\n",
      "[26661 rows x 5 columns]\n"
     ]
    }
   ],
   "source": [
    "data = pd.read_excel('/data/p_dsi/teams2023/team2/asurion_data/Asurion_data.xlsx')\n",
    "print (data)"
   ]
  },
  {
   "cell_type": "code",
   "execution_count": 4,
   "id": "0f4abac5",
   "metadata": {},
   "outputs": [
    {
     "data": {
      "text/html": [
       "<div>\n",
       "<style scoped>\n",
       "    .dataframe tbody tr th:only-of-type {\n",
       "        vertical-align: middle;\n",
       "    }\n",
       "\n",
       "    .dataframe tbody tr th {\n",
       "        vertical-align: top;\n",
       "    }\n",
       "\n",
       "    .dataframe thead th {\n",
       "        text-align: right;\n",
       "    }\n",
       "</style>\n",
       "<table border=\"1\" class=\"dataframe\">\n",
       "  <thead>\n",
       "    <tr style=\"text-align: right;\">\n",
       "      <th></th>\n",
       "      <th>phone model</th>\n",
       "      <th>phone size</th>\n",
       "      <th>phone color</th>\n",
       "      <th>claim</th>\n",
       "      <th>weeks_monday</th>\n",
       "    </tr>\n",
       "  </thead>\n",
       "  <tbody>\n",
       "    <tr>\n",
       "      <th>0</th>\n",
       "      <td>alcatel axel</td>\n",
       "      <td>32gb</td>\n",
       "      <td>black</td>\n",
       "      <td>1</td>\n",
       "      <td>2022-01-24</td>\n",
       "    </tr>\n",
       "    <tr>\n",
       "      <th>1</th>\n",
       "      <td>alcatel axel</td>\n",
       "      <td>32gb</td>\n",
       "      <td>black</td>\n",
       "      <td>3</td>\n",
       "      <td>2022-11-14</td>\n",
       "    </tr>\n",
       "    <tr>\n",
       "      <th>2</th>\n",
       "      <td>alcatel axel</td>\n",
       "      <td>32gb</td>\n",
       "      <td>black</td>\n",
       "      <td>1</td>\n",
       "      <td>2022-11-21</td>\n",
       "    </tr>\n",
       "    <tr>\n",
       "      <th>3</th>\n",
       "      <td>alcatel axel</td>\n",
       "      <td>32gb</td>\n",
       "      <td>black</td>\n",
       "      <td>3</td>\n",
       "      <td>2022-11-28</td>\n",
       "    </tr>\n",
       "    <tr>\n",
       "      <th>4</th>\n",
       "      <td>alcatel axel</td>\n",
       "      <td>32gb</td>\n",
       "      <td>black</td>\n",
       "      <td>1</td>\n",
       "      <td>2022-12-12</td>\n",
       "    </tr>\n",
       "  </tbody>\n",
       "</table>\n",
       "</div>"
      ],
      "text/plain": [
       "    phone model phone size phone color  claim weeks_monday\n",
       "0  alcatel axel       32gb       black      1   2022-01-24\n",
       "1  alcatel axel       32gb       black      3   2022-11-14\n",
       "2  alcatel axel       32gb       black      1   2022-11-21\n",
       "3  alcatel axel       32gb       black      3   2022-11-28\n",
       "4  alcatel axel       32gb       black      1   2022-12-12"
      ]
     },
     "execution_count": 4,
     "metadata": {},
     "output_type": "execute_result"
    }
   ],
   "source": [
    "data.shape\n",
    "data.head()"
   ]
  },
  {
   "cell_type": "code",
   "execution_count": 5,
   "id": "26b5021e",
   "metadata": {},
   "outputs": [
    {
     "name": "stdout",
     "output_type": "stream",
     "text": [
      "<class 'pandas.core.frame.DataFrame'>\n",
      "RangeIndex: 26661 entries, 0 to 26660\n",
      "Data columns (total 5 columns):\n",
      " #   Column        Non-Null Count  Dtype         \n",
      "---  ------        --------------  -----         \n",
      " 0   phone model   26661 non-null  object        \n",
      " 1   phone size    26661 non-null  object        \n",
      " 2   phone color   26661 non-null  object        \n",
      " 3   claim         26661 non-null  int64         \n",
      " 4   weeks_monday  26661 non-null  datetime64[ns]\n",
      "dtypes: datetime64[ns](1), int64(1), object(3)\n",
      "memory usage: 1.0+ MB\n"
     ]
    }
   ],
   "source": [
    "data.info()"
   ]
  },
  {
   "cell_type": "code",
   "execution_count": 6,
   "id": "af098bb3",
   "metadata": {},
   "outputs": [
    {
     "data": {
      "text/html": [
       "<div>\n",
       "<style scoped>\n",
       "    .dataframe tbody tr th:only-of-type {\n",
       "        vertical-align: middle;\n",
       "    }\n",
       "\n",
       "    .dataframe tbody tr th {\n",
       "        vertical-align: top;\n",
       "    }\n",
       "\n",
       "    .dataframe thead th {\n",
       "        text-align: right;\n",
       "    }\n",
       "</style>\n",
       "<table border=\"1\" class=\"dataframe\">\n",
       "  <thead>\n",
       "    <tr style=\"text-align: right;\">\n",
       "      <th></th>\n",
       "      <th>claim</th>\n",
       "    </tr>\n",
       "  </thead>\n",
       "  <tbody>\n",
       "    <tr>\n",
       "      <th>count</th>\n",
       "      <td>26661.000000</td>\n",
       "    </tr>\n",
       "    <tr>\n",
       "      <th>mean</th>\n",
       "      <td>39.674281</td>\n",
       "    </tr>\n",
       "    <tr>\n",
       "      <th>std</th>\n",
       "      <td>62.150464</td>\n",
       "    </tr>\n",
       "    <tr>\n",
       "      <th>min</th>\n",
       "      <td>1.000000</td>\n",
       "    </tr>\n",
       "    <tr>\n",
       "      <th>25%</th>\n",
       "      <td>4.000000</td>\n",
       "    </tr>\n",
       "    <tr>\n",
       "      <th>50%</th>\n",
       "      <td>14.000000</td>\n",
       "    </tr>\n",
       "    <tr>\n",
       "      <th>75%</th>\n",
       "      <td>49.000000</td>\n",
       "    </tr>\n",
       "    <tr>\n",
       "      <th>max</th>\n",
       "      <td>566.000000</td>\n",
       "    </tr>\n",
       "  </tbody>\n",
       "</table>\n",
       "</div>"
      ],
      "text/plain": [
       "              claim\n",
       "count  26661.000000\n",
       "mean      39.674281\n",
       "std       62.150464\n",
       "min        1.000000\n",
       "25%        4.000000\n",
       "50%       14.000000\n",
       "75%       49.000000\n",
       "max      566.000000"
      ]
     },
     "execution_count": 6,
     "metadata": {},
     "output_type": "execute_result"
    }
   ],
   "source": [
    "data.describe()"
   ]
  },
  {
   "cell_type": "code",
   "execution_count": 7,
   "id": "4f49b7f4",
   "metadata": {},
   "outputs": [
    {
     "data": {
      "text/plain": [
       "0                     alcatel axel\n",
       "1                     alcatel axel\n",
       "2                     alcatel axel\n",
       "3                     alcatel axel\n",
       "4                     alcatel axel\n",
       "                   ...            \n",
       "26656    samsung galaxy z fold3 5g\n",
       "26657    samsung galaxy z fold3 5g\n",
       "26658    samsung galaxy z fold3 5g\n",
       "26659    samsung galaxy z fold3 5g\n",
       "26660    samsung galaxy z fold3 5g\n",
       "Name: phone model, Length: 26661, dtype: object"
      ]
     },
     "execution_count": 7,
     "metadata": {},
     "output_type": "execute_result"
    }
   ],
   "source": [
    "data['phone model']"
   ]
  },
  {
   "cell_type": "code",
   "execution_count": 8,
   "id": "d6db0581",
   "metadata": {},
   "outputs": [
    {
     "data": {
      "text/plain": [
       "0        False\n",
       "1        False\n",
       "2        False\n",
       "3        False\n",
       "4        False\n",
       "         ...  \n",
       "26656    False\n",
       "26657    False\n",
       "26658    False\n",
       "26659    False\n",
       "26660    False\n",
       "Name: phone model, Length: 26661, dtype: bool"
      ]
     },
     "execution_count": 8,
     "metadata": {},
     "output_type": "execute_result"
    }
   ],
   "source": [
    "data['phone model'].str.contains(\"iphone\")"
   ]
  },
  {
   "cell_type": "code",
   "execution_count": 9,
   "id": "42bf1311",
   "metadata": {},
   "outputs": [
    {
     "data": {
      "text/html": [
       "<div>\n",
       "<style scoped>\n",
       "    .dataframe tbody tr th:only-of-type {\n",
       "        vertical-align: middle;\n",
       "    }\n",
       "\n",
       "    .dataframe tbody tr th {\n",
       "        vertical-align: top;\n",
       "    }\n",
       "\n",
       "    .dataframe thead th {\n",
       "        text-align: right;\n",
       "    }\n",
       "</style>\n",
       "<table border=\"1\" class=\"dataframe\">\n",
       "  <thead>\n",
       "    <tr style=\"text-align: right;\">\n",
       "      <th></th>\n",
       "      <th>phone model</th>\n",
       "      <th>phone size</th>\n",
       "      <th>phone color</th>\n",
       "      <th>claim</th>\n",
       "      <th>weeks_monday</th>\n",
       "    </tr>\n",
       "  </thead>\n",
       "  <tbody>\n",
       "    <tr>\n",
       "      <th>7939</th>\n",
       "      <td>apple iphone 14</td>\n",
       "      <td>128gb</td>\n",
       "      <td>black</td>\n",
       "      <td>7</td>\n",
       "      <td>2022-11-14</td>\n",
       "    </tr>\n",
       "    <tr>\n",
       "      <th>7940</th>\n",
       "      <td>apple iphone 14</td>\n",
       "      <td>128gb</td>\n",
       "      <td>black</td>\n",
       "      <td>11</td>\n",
       "      <td>2022-11-21</td>\n",
       "    </tr>\n",
       "    <tr>\n",
       "      <th>7941</th>\n",
       "      <td>apple iphone 14</td>\n",
       "      <td>128gb</td>\n",
       "      <td>black</td>\n",
       "      <td>15</td>\n",
       "      <td>2022-11-28</td>\n",
       "    </tr>\n",
       "    <tr>\n",
       "      <th>7942</th>\n",
       "      <td>apple iphone 14</td>\n",
       "      <td>128gb</td>\n",
       "      <td>black</td>\n",
       "      <td>25</td>\n",
       "      <td>2022-12-05</td>\n",
       "    </tr>\n",
       "    <tr>\n",
       "      <th>7943</th>\n",
       "      <td>apple iphone 14</td>\n",
       "      <td>128gb</td>\n",
       "      <td>black</td>\n",
       "      <td>20</td>\n",
       "      <td>2022-12-12</td>\n",
       "    </tr>\n",
       "    <tr>\n",
       "      <th>...</th>\n",
       "      <td>...</td>\n",
       "      <td>...</td>\n",
       "      <td>...</td>\n",
       "      <td>...</td>\n",
       "      <td>...</td>\n",
       "    </tr>\n",
       "    <tr>\n",
       "      <th>8002</th>\n",
       "      <td>apple iphone 14 pro max</td>\n",
       "      <td>128gb</td>\n",
       "      <td>gold</td>\n",
       "      <td>50</td>\n",
       "      <td>2023-02-06</td>\n",
       "    </tr>\n",
       "    <tr>\n",
       "      <th>8003</th>\n",
       "      <td>apple iphone 14 pro max</td>\n",
       "      <td>128gb</td>\n",
       "      <td>gold</td>\n",
       "      <td>18</td>\n",
       "      <td>2023-02-13</td>\n",
       "    </tr>\n",
       "    <tr>\n",
       "      <th>8004</th>\n",
       "      <td>apple iphone 14 pro max</td>\n",
       "      <td>128gb</td>\n",
       "      <td>purple</td>\n",
       "      <td>68</td>\n",
       "      <td>2023-02-06</td>\n",
       "    </tr>\n",
       "    <tr>\n",
       "      <th>8005</th>\n",
       "      <td>apple iphone 14 pro max</td>\n",
       "      <td>128gb</td>\n",
       "      <td>purple</td>\n",
       "      <td>24</td>\n",
       "      <td>2023-02-13</td>\n",
       "    </tr>\n",
       "    <tr>\n",
       "      <th>8006</th>\n",
       "      <td>apple iphone 14 pro max</td>\n",
       "      <td>128gb</td>\n",
       "      <td>silver</td>\n",
       "      <td>1</td>\n",
       "      <td>2023-02-06</td>\n",
       "    </tr>\n",
       "  </tbody>\n",
       "</table>\n",
       "<p>68 rows × 5 columns</p>\n",
       "</div>"
      ],
      "text/plain": [
       "                  phone model phone size phone color  claim weeks_monday\n",
       "7939          apple iphone 14      128gb       black      7   2022-11-14\n",
       "7940          apple iphone 14      128gb       black     11   2022-11-21\n",
       "7941          apple iphone 14      128gb       black     15   2022-11-28\n",
       "7942          apple iphone 14      128gb       black     25   2022-12-05\n",
       "7943          apple iphone 14      128gb       black     20   2022-12-12\n",
       "...                       ...        ...         ...    ...          ...\n",
       "8002  apple iphone 14 pro max      128gb        gold     50   2023-02-06\n",
       "8003  apple iphone 14 pro max      128gb        gold     18   2023-02-13\n",
       "8004  apple iphone 14 pro max      128gb      purple     68   2023-02-06\n",
       "8005  apple iphone 14 pro max      128gb      purple     24   2023-02-13\n",
       "8006  apple iphone 14 pro max      128gb      silver      1   2023-02-06\n",
       "\n",
       "[68 rows x 5 columns]"
      ]
     },
     "execution_count": 9,
     "metadata": {},
     "output_type": "execute_result"
    }
   ],
   "source": [
    "#create new df of just iphone14 models\n",
    "iphone14 = data[data['phone model'].str.contains(\"iphone 14\")]\n",
    "iphone14"
   ]
  },
  {
   "cell_type": "code",
   "execution_count": 10,
   "id": "db9cabc3",
   "metadata": {},
   "outputs": [
    {
     "ename": "NameError",
     "evalue": "name 'iphone' is not defined",
     "output_type": "error",
     "traceback": [
      "\u001b[0;31m---------------------------------------------------------------------------\u001b[0m",
      "\u001b[0;31mNameError\u001b[0m                                 Traceback (most recent call last)",
      "Input \u001b[0;32mIn [10]\u001b[0m, in \u001b[0;36m<cell line: 2>\u001b[0;34m()\u001b[0m\n\u001b[1;32m      1\u001b[0m \u001b[38;5;28;01mimport\u001b[39;00m \u001b[38;5;21;01mnumpy\u001b[39;00m \u001b[38;5;28;01mas\u001b[39;00m \u001b[38;5;21;01mnp\u001b[39;00m\n\u001b[0;32m----> 2\u001b[0m np\u001b[38;5;241m.\u001b[39munique(\u001b[43miphone\u001b[49m[\u001b[38;5;124m'\u001b[39m\u001b[38;5;124mphone model\u001b[39m\u001b[38;5;124m'\u001b[39m])\n",
      "\u001b[0;31mNameError\u001b[0m: name 'iphone' is not defined"
     ]
    }
   ],
   "source": [
    "import numpy as np\n",
    "np.unique(iphone['phone model'])"
   ]
  },
  {
   "cell_type": "code",
   "execution_count": 11,
   "id": "64937496",
   "metadata": {},
   "outputs": [
    {
     "data": {
      "text/html": [
       "<div>\n",
       "<style scoped>\n",
       "    .dataframe tbody tr th:only-of-type {\n",
       "        vertical-align: middle;\n",
       "    }\n",
       "\n",
       "    .dataframe tbody tr th {\n",
       "        vertical-align: top;\n",
       "    }\n",
       "\n",
       "    .dataframe thead th {\n",
       "        text-align: right;\n",
       "    }\n",
       "</style>\n",
       "<table border=\"1\" class=\"dataframe\">\n",
       "  <thead>\n",
       "    <tr style=\"text-align: right;\">\n",
       "      <th></th>\n",
       "      <th>claim</th>\n",
       "    </tr>\n",
       "  </thead>\n",
       "  <tbody>\n",
       "    <tr>\n",
       "      <th>count</th>\n",
       "      <td>68.000000</td>\n",
       "    </tr>\n",
       "    <tr>\n",
       "      <th>mean</th>\n",
       "      <td>11.867647</td>\n",
       "    </tr>\n",
       "    <tr>\n",
       "      <th>std</th>\n",
       "      <td>14.799056</td>\n",
       "    </tr>\n",
       "    <tr>\n",
       "      <th>min</th>\n",
       "      <td>1.000000</td>\n",
       "    </tr>\n",
       "    <tr>\n",
       "      <th>25%</th>\n",
       "      <td>3.000000</td>\n",
       "    </tr>\n",
       "    <tr>\n",
       "      <th>50%</th>\n",
       "      <td>6.500000</td>\n",
       "    </tr>\n",
       "    <tr>\n",
       "      <th>75%</th>\n",
       "      <td>12.000000</td>\n",
       "    </tr>\n",
       "    <tr>\n",
       "      <th>max</th>\n",
       "      <td>71.000000</td>\n",
       "    </tr>\n",
       "  </tbody>\n",
       "</table>\n",
       "</div>"
      ],
      "text/plain": [
       "           claim\n",
       "count  68.000000\n",
       "mean   11.867647\n",
       "std    14.799056\n",
       "min     1.000000\n",
       "25%     3.000000\n",
       "50%     6.500000\n",
       "75%    12.000000\n",
       "max    71.000000"
      ]
     },
     "execution_count": 11,
     "metadata": {},
     "output_type": "execute_result"
    }
   ],
   "source": [
    "#least amount of claims in a week is 1, max is 71 claims in a week\n",
    "#average amount of claims in a week for iphone14 was 11.868\n",
    "iphone14.describe()"
   ]
  },
  {
   "cell_type": "code",
   "execution_count": 12,
   "id": "a9a32daf",
   "metadata": {},
   "outputs": [
    {
     "ename": "NameError",
     "evalue": "name 'iphone' is not defined",
     "output_type": "error",
     "traceback": [
      "\u001b[0;31m---------------------------------------------------------------------------\u001b[0m",
      "\u001b[0;31mNameError\u001b[0m                                 Traceback (most recent call last)",
      "Input \u001b[0;32mIn [12]\u001b[0m, in \u001b[0;36m<cell line: 1>\u001b[0;34m()\u001b[0m\n\u001b[0;32m----> 1\u001b[0m \u001b[43miphone\u001b[49m[iphone[\u001b[38;5;124m'\u001b[39m\u001b[38;5;124mphone size\u001b[39m\u001b[38;5;124m'\u001b[39m] \u001b[38;5;241m==\u001b[39m \u001b[38;5;124m'\u001b[39m\u001b[38;5;124m128gb\u001b[39m\u001b[38;5;124m'\u001b[39m]\n",
      "\u001b[0;31mNameError\u001b[0m: name 'iphone' is not defined"
     ]
    }
   ],
   "source": [
    "iphone[iphone['phone size'] == '128gb']"
   ]
  },
  {
   "cell_type": "code",
   "execution_count": 13,
   "id": "b2246768",
   "metadata": {},
   "outputs": [
    {
     "data": {
      "text/plain": [
       "128gb    35\n",
       "256gb    29\n",
       "512gb     4\n",
       "Name: phone size, dtype: int64"
      ]
     },
     "execution_count": 13,
     "metadata": {},
     "output_type": "execute_result"
    }
   ],
   "source": [
    "#less storage is more popular\n",
    "iphone14[\"phone size\"].value_counts()"
   ]
  },
  {
   "cell_type": "code",
   "execution_count": 14,
   "id": "e1fa97b3",
   "metadata": {},
   "outputs": [
    {
     "data": {
      "text/plain": [
       "black     31\n",
       "white     26\n",
       "blue       4\n",
       "purple     3\n",
       "gold       2\n",
       "red        1\n",
       "silver     1\n",
       "Name: phone color, dtype: int64"
      ]
     },
     "execution_count": 14,
     "metadata": {},
     "output_type": "execute_result"
    }
   ],
   "source": [
    "#counts of colors of iphone14\n",
    "#black and white are far more popular\n",
    "\n",
    "iphone14[\"phone color\"].value_counts()"
   ]
  },
  {
   "cell_type": "code",
   "execution_count": 15,
   "id": "68e3119b",
   "metadata": {
    "scrolled": true
   },
   "outputs": [
    {
     "data": {
      "text/plain": [
       "<AxesSubplot:>"
      ]
     },
     "execution_count": 15,
     "metadata": {},
     "output_type": "execute_result"
    },
    {
     "data": {
      "image/png": "[encoded data removed]",
      "text/plain": [
       "<Figure size 432x288 with 1 Axes>"
      ]
     },
     "metadata": {
      "needs_background": "light"
     },
     "output_type": "display_data"
    }
   ],
   "source": [
    "#claims for the different iphone 14 models\n",
    "\n",
    "iphone14[\"phone model\"].value_counts().head(10).plot(kind=\"bar\")"
   ]
  },
  {
   "cell_type": "code",
   "execution_count": 16,
   "id": "5650cfc7",
   "metadata": {},
   "outputs": [
    {
     "data": {
      "image/png": "[encoded data removed]",
      "text/plain": [
       "<Figure size 432x288 with 1 Axes>"
      ]
     },
     "metadata": {
      "needs_background": "light"
     },
     "output_type": "display_data"
    }
   ],
   "source": [
    "#Plots in matplotlib reside within a figure object, use plt.figure to create new figure\n",
    "fig=plt.figure()\n",
    "\n",
    "#Create one or more subplots using add_subplot, because you can't create blank figure\n",
    "ax = fig.add_subplot(1,1,1)\n",
    "\n",
    "#Variable\n",
    "ax.hist(iphone14['phone size'],bins = 5)\n",
    "\n",
    "#Labels and Tit\n",
    "plt.title('iPhone 14 Claim Distribution by Storage')\n",
    "plt.xlabel('iPhone14')\n",
    "plt.ylabel('claim')\n",
    "plt.xticks(rotation=45, ha='right')\n",
    "plt.show()"
   ]
  },
  {
   "cell_type": "code",
   "execution_count": 17,
   "id": "7f31dcca",
   "metadata": {},
   "outputs": [
    {
     "data": {
      "image/png": "[encoded data removed]",
      "text/plain": [
       "<Figure size 432x288 with 1 Axes>"
      ]
     },
     "metadata": {
      "needs_background": "light"
     },
     "output_type": "display_data"
    }
   ],
   "source": [
    "fig=plt.figure()\n",
    "\n",
    "ax = fig.add_subplot(1,1,1)\n",
    "\n",
    "#Variable\n",
    "ax.hist(iphone14['phone color'],bins = 5)\n",
    "\n",
    "#Labels and Tit\n",
    "plt.title('iPhone 14 Claim Distribution by Color')\n",
    "plt.xlabel('iPhone14')\n",
    "plt.ylabel('claim')\n",
    "plt.xticks(rotation=45, ha='right')\n",
    "plt.show()"
   ]
  },
  {
   "cell_type": "code",
   "execution_count": 20,
   "id": "1a219642",
   "metadata": {},
   "outputs": [
    {
     "data": {
      "text/html": [
       "<div>\n",
       "<style scoped>\n",
       "    .dataframe tbody tr th:only-of-type {\n",
       "        vertical-align: middle;\n",
       "    }\n",
       "\n",
       "    .dataframe tbody tr th {\n",
       "        vertical-align: top;\n",
       "    }\n",
       "\n",
       "    .dataframe thead th {\n",
       "        text-align: right;\n",
       "    }\n",
       "</style>\n",
       "<table border=\"1\" class=\"dataframe\">\n",
       "  <thead>\n",
       "    <tr style=\"text-align: right;\">\n",
       "      <th></th>\n",
       "      <th></th>\n",
       "      <th>phone model</th>\n",
       "      <th>claim</th>\n",
       "      <th>weeks_monday</th>\n",
       "    </tr>\n",
       "    <tr>\n",
       "      <th>phone color</th>\n",
       "      <th>phone size</th>\n",
       "      <th></th>\n",
       "      <th></th>\n",
       "      <th></th>\n",
       "    </tr>\n",
       "  </thead>\n",
       "  <tbody>\n",
       "    <tr>\n",
       "      <th rowspan=\"3\" valign=\"top\">black</th>\n",
       "      <th>128gb</th>\n",
       "      <td>16</td>\n",
       "      <td>16</td>\n",
       "      <td>16</td>\n",
       "    </tr>\n",
       "    <tr>\n",
       "      <th>256gb</th>\n",
       "      <td>12</td>\n",
       "      <td>12</td>\n",
       "      <td>12</td>\n",
       "    </tr>\n",
       "    <tr>\n",
       "      <th>512gb</th>\n",
       "      <td>3</td>\n",
       "      <td>3</td>\n",
       "      <td>3</td>\n",
       "    </tr>\n",
       "    <tr>\n",
       "      <th>blue</th>\n",
       "      <th>256gb</th>\n",
       "      <td>4</td>\n",
       "      <td>4</td>\n",
       "      <td>4</td>\n",
       "    </tr>\n",
       "    <tr>\n",
       "      <th>gold</th>\n",
       "      <th>128gb</th>\n",
       "      <td>2</td>\n",
       "      <td>2</td>\n",
       "      <td>2</td>\n",
       "    </tr>\n",
       "    <tr>\n",
       "      <th rowspan=\"2\" valign=\"top\">purple</th>\n",
       "      <th>128gb</th>\n",
       "      <td>2</td>\n",
       "      <td>2</td>\n",
       "      <td>2</td>\n",
       "    </tr>\n",
       "    <tr>\n",
       "      <th>256gb</th>\n",
       "      <td>1</td>\n",
       "      <td>1</td>\n",
       "      <td>1</td>\n",
       "    </tr>\n",
       "    <tr>\n",
       "      <th>red</th>\n",
       "      <th>256gb</th>\n",
       "      <td>1</td>\n",
       "      <td>1</td>\n",
       "      <td>1</td>\n",
       "    </tr>\n",
       "    <tr>\n",
       "      <th>silver</th>\n",
       "      <th>128gb</th>\n",
       "      <td>1</td>\n",
       "      <td>1</td>\n",
       "      <td>1</td>\n",
       "    </tr>\n",
       "    <tr>\n",
       "      <th rowspan=\"3\" valign=\"top\">white</th>\n",
       "      <th>128gb</th>\n",
       "      <td>14</td>\n",
       "      <td>14</td>\n",
       "      <td>14</td>\n",
       "    </tr>\n",
       "    <tr>\n",
       "      <th>256gb</th>\n",
       "      <td>11</td>\n",
       "      <td>11</td>\n",
       "      <td>11</td>\n",
       "    </tr>\n",
       "    <tr>\n",
       "      <th>512gb</th>\n",
       "      <td>1</td>\n",
       "      <td>1</td>\n",
       "      <td>1</td>\n",
       "    </tr>\n",
       "  </tbody>\n",
       "</table>\n",
       "</div>"
      ],
      "text/plain": [
       "                        phone model  claim  weeks_monday\n",
       "phone color phone size                                  \n",
       "black       128gb                16     16            16\n",
       "            256gb                12     12            12\n",
       "            512gb                 3      3             3\n",
       "blue        256gb                 4      4             4\n",
       "gold        128gb                 2      2             2\n",
       "purple      128gb                 2      2             2\n",
       "            256gb                 1      1             1\n",
       "red         256gb                 1      1             1\n",
       "silver      128gb                 1      1             1\n",
       "white       128gb                14     14            14\n",
       "            256gb                11     11            11\n",
       "            512gb                 1      1             1"
      ]
     },
     "execution_count": 20,
     "metadata": {},
     "output_type": "execute_result"
    }
   ],
   "source": [
    "new_iphone14 = iphone14.groupby(['phone color','phone size']).count()\n",
    "new_iphone14\n",
    "#find the different claims for all color/storage combinations of iphone 14"
   ]
  },
  {
   "cell_type": "code",
   "execution_count": 21,
   "id": "e882a9d5",
   "metadata": {},
   "outputs": [
    {
     "name": "stderr",
     "output_type": "stream",
     "text": [
      "/tmp/ipykernel_77112/2583222705.py:1: SettingWithCopyWarning: \n",
      "A value is trying to be set on a copy of a slice from a DataFrame.\n",
      "Try using .loc[row_indexer,col_indexer] = value instead\n",
      "\n",
      "See the caveats in the documentation: https://pandas.pydata.org/pandas-docs/stable/user_guide/indexing.html#returning-a-view-versus-a-copy\n",
      "  iphone14['type'] = iphone14['phone color'] + ' ' + iphone14['phone size']\n"
     ]
    },
    {
     "data": {
      "text/html": [
       "<div>\n",
       "<style scoped>\n",
       "    .dataframe tbody tr th:only-of-type {\n",
       "        vertical-align: middle;\n",
       "    }\n",
       "\n",
       "    .dataframe tbody tr th {\n",
       "        vertical-align: top;\n",
       "    }\n",
       "\n",
       "    .dataframe thead th {\n",
       "        text-align: right;\n",
       "    }\n",
       "</style>\n",
       "<table border=\"1\" class=\"dataframe\">\n",
       "  <thead>\n",
       "    <tr style=\"text-align: right;\">\n",
       "      <th></th>\n",
       "      <th>type</th>\n",
       "      <th>claim</th>\n",
       "      <th>weeks_monday</th>\n",
       "    </tr>\n",
       "  </thead>\n",
       "  <tbody>\n",
       "    <tr>\n",
       "      <th>7939</th>\n",
       "      <td>black 128gb</td>\n",
       "      <td>7</td>\n",
       "      <td>2022-11-14</td>\n",
       "    </tr>\n",
       "    <tr>\n",
       "      <th>7940</th>\n",
       "      <td>black 128gb</td>\n",
       "      <td>11</td>\n",
       "      <td>2022-11-21</td>\n",
       "    </tr>\n",
       "    <tr>\n",
       "      <th>7941</th>\n",
       "      <td>black 128gb</td>\n",
       "      <td>15</td>\n",
       "      <td>2022-11-28</td>\n",
       "    </tr>\n",
       "    <tr>\n",
       "      <th>7942</th>\n",
       "      <td>black 128gb</td>\n",
       "      <td>25</td>\n",
       "      <td>2022-12-05</td>\n",
       "    </tr>\n",
       "    <tr>\n",
       "      <th>7943</th>\n",
       "      <td>black 128gb</td>\n",
       "      <td>20</td>\n",
       "      <td>2022-12-12</td>\n",
       "    </tr>\n",
       "    <tr>\n",
       "      <th>7944</th>\n",
       "      <td>black 128gb</td>\n",
       "      <td>20</td>\n",
       "      <td>2022-12-19</td>\n",
       "    </tr>\n",
       "    <tr>\n",
       "      <th>7945</th>\n",
       "      <td>black 128gb</td>\n",
       "      <td>23</td>\n",
       "      <td>2022-12-26</td>\n",
       "    </tr>\n",
       "    <tr>\n",
       "      <th>7946</th>\n",
       "      <td>black 128gb</td>\n",
       "      <td>28</td>\n",
       "      <td>2023-01-02</td>\n",
       "    </tr>\n",
       "    <tr>\n",
       "      <th>7947</th>\n",
       "      <td>black 128gb</td>\n",
       "      <td>37</td>\n",
       "      <td>2023-01-09</td>\n",
       "    </tr>\n",
       "    <tr>\n",
       "      <th>7948</th>\n",
       "      <td>black 128gb</td>\n",
       "      <td>35</td>\n",
       "      <td>2023-01-16</td>\n",
       "    </tr>\n",
       "    <tr>\n",
       "      <th>7949</th>\n",
       "      <td>black 128gb</td>\n",
       "      <td>39</td>\n",
       "      <td>2023-01-23</td>\n",
       "    </tr>\n",
       "    <tr>\n",
       "      <th>7950</th>\n",
       "      <td>black 128gb</td>\n",
       "      <td>33</td>\n",
       "      <td>2023-01-30</td>\n",
       "    </tr>\n",
       "    <tr>\n",
       "      <th>7951</th>\n",
       "      <td>black 128gb</td>\n",
       "      <td>31</td>\n",
       "      <td>2023-02-06</td>\n",
       "    </tr>\n",
       "    <tr>\n",
       "      <th>7952</th>\n",
       "      <td>black 128gb</td>\n",
       "      <td>6</td>\n",
       "      <td>2023-02-13</td>\n",
       "    </tr>\n",
       "    <tr>\n",
       "      <th>7953</th>\n",
       "      <td>white 128gb</td>\n",
       "      <td>2</td>\n",
       "      <td>2022-11-14</td>\n",
       "    </tr>\n",
       "    <tr>\n",
       "      <th>7954</th>\n",
       "      <td>white 128gb</td>\n",
       "      <td>8</td>\n",
       "      <td>2022-11-21</td>\n",
       "    </tr>\n",
       "    <tr>\n",
       "      <th>7955</th>\n",
       "      <td>white 128gb</td>\n",
       "      <td>4</td>\n",
       "      <td>2022-11-28</td>\n",
       "    </tr>\n",
       "    <tr>\n",
       "      <th>7956</th>\n",
       "      <td>white 128gb</td>\n",
       "      <td>8</td>\n",
       "      <td>2022-12-05</td>\n",
       "    </tr>\n",
       "    <tr>\n",
       "      <th>7957</th>\n",
       "      <td>white 128gb</td>\n",
       "      <td>4</td>\n",
       "      <td>2022-12-12</td>\n",
       "    </tr>\n",
       "    <tr>\n",
       "      <th>7958</th>\n",
       "      <td>white 128gb</td>\n",
       "      <td>8</td>\n",
       "      <td>2022-12-19</td>\n",
       "    </tr>\n",
       "  </tbody>\n",
       "</table>\n",
       "</div>"
      ],
      "text/plain": [
       "             type  claim weeks_monday\n",
       "7939  black 128gb      7   2022-11-14\n",
       "7940  black 128gb     11   2022-11-21\n",
       "7941  black 128gb     15   2022-11-28\n",
       "7942  black 128gb     25   2022-12-05\n",
       "7943  black 128gb     20   2022-12-12\n",
       "7944  black 128gb     20   2022-12-19\n",
       "7945  black 128gb     23   2022-12-26\n",
       "7946  black 128gb     28   2023-01-02\n",
       "7947  black 128gb     37   2023-01-09\n",
       "7948  black 128gb     35   2023-01-16\n",
       "7949  black 128gb     39   2023-01-23\n",
       "7950  black 128gb     33   2023-01-30\n",
       "7951  black 128gb     31   2023-02-06\n",
       "7952  black 128gb      6   2023-02-13\n",
       "7953  white 128gb      2   2022-11-14\n",
       "7954  white 128gb      8   2022-11-21\n",
       "7955  white 128gb      4   2022-11-28\n",
       "7956  white 128gb      8   2022-12-05\n",
       "7957  white 128gb      4   2022-12-12\n",
       "7958  white 128gb      8   2022-12-19"
      ]
     },
     "execution_count": 21,
     "metadata": {},
     "output_type": "execute_result"
    }
   ],
   "source": [
    "iphone14['type'] = iphone14['phone color'] + ' ' + iphone14['phone size']\n",
    "iphone14 =iphone14[['type','claim','weeks_monday']]\n",
    "iphone14.head(20)"
   ]
  },
  {
   "cell_type": "code",
   "execution_count": 23,
   "id": "59f55ef3",
   "metadata": {},
   "outputs": [
    {
     "data": {
      "text/plain": [
       "black 128gb     16\n",
       "white 128gb     14\n",
       "black 256gb     12\n",
       "white 256gb     11\n",
       "blue 256gb       4\n",
       "black 512gb      3\n",
       "gold 128gb       2\n",
       "purple 128gb     2\n",
       "purple 256gb     1\n",
       "red 256gb        1\n",
       "white 512gb      1\n",
       "silver 128gb     1\n",
       "Name: type, dtype: int64"
      ]
     },
     "execution_count": 23,
     "metadata": {},
     "output_type": "execute_result"
    }
   ],
   "source": [
    "iphone14[\"type\"].value_counts()\n",
    "#most claims are for black 128gb iphone 14"
   ]
  },
  {
   "cell_type": "code",
   "execution_count": 25,
   "id": "37c0d5f1",
   "metadata": {},
   "outputs": [],
   "source": [
    "# group the data by 'type'\n",
    "grouped = iphone14.groupby('type')"
   ]
  },
  {
   "cell_type": "code",
   "execution_count": 26,
   "id": "729c5594",
   "metadata": {},
   "outputs": [
    {
     "data": {
      "image/png": "[encoded data removed]",
      "text/plain": [
       "<Figure size 432x288 with 1 Axes>"
      ]
     },
     "metadata": {
      "needs_background": "light"
     },
     "output_type": "display_data"
    }
   ],
   "source": [
    "# plot the data for each group\n",
    "for name, group in grouped:\n",
    "    plt.plot(group['weeks_monday'],group['claim'], label=name)\n",
    "    \n",
    "\n",
    "# add a legend and labels for the x and y axis\n",
    "plt.legend()\n",
    "plt.xlabel('Date')\n",
    "plt.ylabel('Claim')\n",
    "plt.title('Iphone14')\n",
    "plt.xticks(rotation=45, ha='right')\n",
    "plt.ylim(0, 500)\n",
    "\n",
    "# show the plot\n",
    "plt.show()"
   ]
  },
  {
   "cell_type": "code",
   "execution_count": null,
   "id": "5095424d",
   "metadata": {},
   "outputs": [],
   "source": []
  }
 ],
 "metadata": {
  "kernelspec": {
   "display_name": "Python 3 (ipykernel)",
   "language": "python",
   "name": "python3"
  },
  "language_info": {
   "codemirror_mode": {
    "name": "ipython",
    "version": 3
   },
   "file_extension": ".py",
   "mimetype": "text/x-python",
   "name": "python",
   "nbconvert_exporter": "python",
   "pygments_lexer": "ipython3",
   "version": "3.9.12"
  }
 },
 "nbformat": 4,
 "nbformat_minor": 5
}
