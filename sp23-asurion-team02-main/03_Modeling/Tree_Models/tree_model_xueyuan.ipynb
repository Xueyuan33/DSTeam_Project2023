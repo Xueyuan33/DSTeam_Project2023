{
 "cells": [
  {
   "cell_type": "code",
   "execution_count": 1,
   "id": "c0e3ce07",
   "metadata": {},
   "outputs": [
    {
     "data": {
      "text/html": [
       "<div>\n",
       "<style scoped>\n",
       "    .dataframe tbody tr th:only-of-type {\n",
       "        vertical-align: middle;\n",
       "    }\n",
       "\n",
       "    .dataframe tbody tr th {\n",
       "        vertical-align: top;\n",
       "    }\n",
       "\n",
       "    .dataframe thead th {\n",
       "        text-align: right;\n",
       "    }\n",
       "</style>\n",
       "<table border=\"1\" class=\"dataframe\">\n",
       "  <thead>\n",
       "    <tr style=\"text-align: right;\">\n",
       "      <th></th>\n",
       "      <th>phone_model</th>\n",
       "      <th>weeks_monday</th>\n",
       "      <th>month</th>\n",
       "      <th>year</th>\n",
       "      <th>month_year</th>\n",
       "      <th>days_since_release_date</th>\n",
       "      <th>claim</th>\n",
       "    </tr>\n",
       "  </thead>\n",
       "  <tbody>\n",
       "    <tr>\n",
       "      <th>0</th>\n",
       "      <td>apple iphone 11</td>\n",
       "      <td>2021-07-05</td>\n",
       "      <td>7</td>\n",
       "      <td>2021</td>\n",
       "      <td>2021-07-01</td>\n",
       "      <td>654</td>\n",
       "      <td>2047</td>\n",
       "    </tr>\n",
       "    <tr>\n",
       "      <th>1</th>\n",
       "      <td>apple iphone x</td>\n",
       "      <td>2021-07-05</td>\n",
       "      <td>7</td>\n",
       "      <td>2021</td>\n",
       "      <td>2021-07-01</td>\n",
       "      <td>1340</td>\n",
       "      <td>555</td>\n",
       "    </tr>\n",
       "    <tr>\n",
       "      <th>2</th>\n",
       "      <td>apple iphone 11</td>\n",
       "      <td>2021-07-12</td>\n",
       "      <td>7</td>\n",
       "      <td>2021</td>\n",
       "      <td>2021-07-01</td>\n",
       "      <td>661</td>\n",
       "      <td>1900</td>\n",
       "    </tr>\n",
       "    <tr>\n",
       "      <th>3</th>\n",
       "      <td>apple iphone x</td>\n",
       "      <td>2021-07-12</td>\n",
       "      <td>7</td>\n",
       "      <td>2021</td>\n",
       "      <td>2021-07-01</td>\n",
       "      <td>1347</td>\n",
       "      <td>496</td>\n",
       "    </tr>\n",
       "    <tr>\n",
       "      <th>4</th>\n",
       "      <td>apple iphone 11</td>\n",
       "      <td>2021-07-19</td>\n",
       "      <td>7</td>\n",
       "      <td>2021</td>\n",
       "      <td>2021-07-01</td>\n",
       "      <td>668</td>\n",
       "      <td>1918</td>\n",
       "    </tr>\n",
       "    <tr>\n",
       "      <th>...</th>\n",
       "      <td>...</td>\n",
       "      <td>...</td>\n",
       "      <td>...</td>\n",
       "      <td>...</td>\n",
       "      <td>...</td>\n",
       "      <td>...</td>\n",
       "      <td>...</td>\n",
       "    </tr>\n",
       "    <tr>\n",
       "      <th>321</th>\n",
       "      <td>apple iphone 14</td>\n",
       "      <td>2023-02-06</td>\n",
       "      <td>2</td>\n",
       "      <td>2023</td>\n",
       "      <td>2023-02-01</td>\n",
       "      <td>143</td>\n",
       "      <td>61</td>\n",
       "    </tr>\n",
       "    <tr>\n",
       "      <th>322</th>\n",
       "      <td>apple iphone 12</td>\n",
       "      <td>2023-02-06</td>\n",
       "      <td>2</td>\n",
       "      <td>2023</td>\n",
       "      <td>2023-02-01</td>\n",
       "      <td>836</td>\n",
       "      <td>1456</td>\n",
       "    </tr>\n",
       "    <tr>\n",
       "      <th>323</th>\n",
       "      <td>apple iphone 13</td>\n",
       "      <td>2023-02-06</td>\n",
       "      <td>2</td>\n",
       "      <td>2023</td>\n",
       "      <td>2023-02-01</td>\n",
       "      <td>470</td>\n",
       "      <td>1191</td>\n",
       "    </tr>\n",
       "    <tr>\n",
       "      <th>324</th>\n",
       "      <td>apple iphone 11</td>\n",
       "      <td>2023-02-06</td>\n",
       "      <td>2</td>\n",
       "      <td>2023</td>\n",
       "      <td>2023-02-01</td>\n",
       "      <td>1235</td>\n",
       "      <td>1307</td>\n",
       "    </tr>\n",
       "    <tr>\n",
       "      <th>325</th>\n",
       "      <td>apple iphone x</td>\n",
       "      <td>2023-02-06</td>\n",
       "      <td>2</td>\n",
       "      <td>2023</td>\n",
       "      <td>2023-02-01</td>\n",
       "      <td>1921</td>\n",
       "      <td>138</td>\n",
       "    </tr>\n",
       "  </tbody>\n",
       "</table>\n",
       "<p>326 rows × 7 columns</p>\n",
       "</div>"
      ],
      "text/plain": [
       "         phone_model weeks_monday  month  year month_year  \\\n",
       "0    apple iphone 11   2021-07-05      7  2021 2021-07-01   \n",
       "1     apple iphone x   2021-07-05      7  2021 2021-07-01   \n",
       "2    apple iphone 11   2021-07-12      7  2021 2021-07-01   \n",
       "3     apple iphone x   2021-07-12      7  2021 2021-07-01   \n",
       "4    apple iphone 11   2021-07-19      7  2021 2021-07-01   \n",
       "..               ...          ...    ...   ...        ...   \n",
       "321  apple iphone 14   2023-02-06      2  2023 2023-02-01   \n",
       "322  apple iphone 12   2023-02-06      2  2023 2023-02-01   \n",
       "323  apple iphone 13   2023-02-06      2  2023 2023-02-01   \n",
       "324  apple iphone 11   2023-02-06      2  2023 2023-02-01   \n",
       "325   apple iphone x   2023-02-06      2  2023 2023-02-01   \n",
       "\n",
       "     days_since_release_date  claim  \n",
       "0                        654   2047  \n",
       "1                       1340    555  \n",
       "2                        661   1900  \n",
       "3                       1347    496  \n",
       "4                        668   1918  \n",
       "..                       ...    ...  \n",
       "321                      143     61  \n",
       "322                      836   1456  \n",
       "323                      470   1191  \n",
       "324                     1235   1307  \n",
       "325                     1921    138  \n",
       "\n",
       "[326 rows x 7 columns]"
      ]
     },
     "execution_count": 1,
     "metadata": {},
     "output_type": "execute_result"
    }
   ],
   "source": [
    "import pandas as pd\n",
    "import numpy as np\n",
    "import datetime as dt\n",
    "import matplotlib.pyplot as plt\n",
    "\n",
    "df=pd.read_csv('/Users/xueyuanli/Desktop/DS-team/time_series_ML_features_final.csv', parse_dates=['weeks_monday','month_year'])\n",
    "df\n"
   ]
  },
  {
   "cell_type": "code",
   "execution_count": 4,
   "id": "3f865996",
   "metadata": {},
   "outputs": [
    {
     "data": {
      "text/html": [
       "<div>\n",
       "<style scoped>\n",
       "    .dataframe tbody tr th:only-of-type {\n",
       "        vertical-align: middle;\n",
       "    }\n",
       "\n",
       "    .dataframe tbody tr th {\n",
       "        vertical-align: top;\n",
       "    }\n",
       "\n",
       "    .dataframe thead th {\n",
       "        text-align: right;\n",
       "    }\n",
       "</style>\n",
       "<table border=\"1\" class=\"dataframe\">\n",
       "  <thead>\n",
       "    <tr style=\"text-align: right;\">\n",
       "      <th></th>\n",
       "      <th>weeks_monday</th>\n",
       "      <th>claim</th>\n",
       "    </tr>\n",
       "  </thead>\n",
       "  <tbody>\n",
       "    <tr>\n",
       "      <th>9</th>\n",
       "      <td>2021-08-02</td>\n",
       "      <td>69</td>\n",
       "    </tr>\n",
       "    <tr>\n",
       "      <th>12</th>\n",
       "      <td>2021-08-09</td>\n",
       "      <td>219</td>\n",
       "    </tr>\n",
       "    <tr>\n",
       "      <th>15</th>\n",
       "      <td>2021-08-16</td>\n",
       "      <td>224</td>\n",
       "    </tr>\n",
       "    <tr>\n",
       "      <th>18</th>\n",
       "      <td>2021-08-23</td>\n",
       "      <td>292</td>\n",
       "    </tr>\n",
       "    <tr>\n",
       "      <th>21</th>\n",
       "      <td>2021-08-30</td>\n",
       "      <td>274</td>\n",
       "    </tr>\n",
       "    <tr>\n",
       "      <th>...</th>\n",
       "      <td>...</td>\n",
       "      <td>...</td>\n",
       "    </tr>\n",
       "    <tr>\n",
       "      <th>302</th>\n",
       "      <td>2023-01-09</td>\n",
       "      <td>1558</td>\n",
       "    </tr>\n",
       "    <tr>\n",
       "      <th>307</th>\n",
       "      <td>2023-01-16</td>\n",
       "      <td>1552</td>\n",
       "    </tr>\n",
       "    <tr>\n",
       "      <th>311</th>\n",
       "      <td>2023-01-23</td>\n",
       "      <td>1407</td>\n",
       "    </tr>\n",
       "    <tr>\n",
       "      <th>317</th>\n",
       "      <td>2023-01-30</td>\n",
       "      <td>1171</td>\n",
       "    </tr>\n",
       "    <tr>\n",
       "      <th>322</th>\n",
       "      <td>2023-02-06</td>\n",
       "      <td>1456</td>\n",
       "    </tr>\n",
       "  </tbody>\n",
       "</table>\n",
       "<p>80 rows × 2 columns</p>\n",
       "</div>"
      ],
      "text/plain": [
       "    weeks_monday  claim\n",
       "9     2021-08-02     69\n",
       "12    2021-08-09    219\n",
       "15    2021-08-16    224\n",
       "18    2021-08-23    292\n",
       "21    2021-08-30    274\n",
       "..           ...    ...\n",
       "302   2023-01-09   1558\n",
       "307   2023-01-16   1552\n",
       "311   2023-01-23   1407\n",
       "317   2023-01-30   1171\n",
       "322   2023-02-06   1456\n",
       "\n",
       "[80 rows x 2 columns]"
      ]
     },
     "execution_count": 4,
     "metadata": {},
     "output_type": "execute_result"
    }
   ],
   "source": [
    "iphone_12= df[df['phone_model'].str.startswith('apple iphone 12')]\n",
    "iphone12_df = iphone_12[['weeks_monday', 'claim']]\n",
    "\n",
    "iphone_13= df[df['phone_model'].str.startswith('apple iphone 13')]\n",
    "iphone13_df = iphone_13[['weeks_monday', 'claim']]\n",
    "\n",
    "iphone_14= df[df['phone_model'].str.startswith('apple iphone 14')]\n",
    "iphone14_df = iphone_14[['weeks_monday', 'claim']]"
   ]
  },
  {
   "cell_type": "code",
   "execution_count": 19,
   "id": "3475d6ba",
   "metadata": {},
   "outputs": [],
   "source": [
    "def prepare_data(df):\n",
    "    iphone12_timeshift = df.copy(deep = True)\n",
    "    iphone12_timeshift['1_week_ago'] = iphone12_timeshift['claim'].shift(1)\n",
    "    iphone12_timeshift['2_week_ago'] = iphone12_timeshift['1_week_ago'].shift(1)\n",
    "    iphone12_timeshift['3_week_ago'] = iphone12_timeshift['2_week_ago'].shift(1)\n",
    "    iphone12_timeshift = iphone12_timeshift.rename(columns={'claim': 'this_week'})\n",
    "    iphone12_timeshift = iphone12_timeshift.drop(iphone12_timeshift.columns[0], axis=1)\n",
    "    iphone12_timeshift =  iphone12_timeshift.dropna()\n",
    "    iphone12_timeshift = iphone12_timeshift.reset_index(drop=True)\n",
    "    \n",
    "    return iphone12_timeshift\n"
   ]
  },
  {
   "cell_type": "code",
   "execution_count": 29,
   "id": "0c8e51e9",
   "metadata": {},
   "outputs": [],
   "source": [
    "def split_train_data(train_data):\n",
    "    X_train = train_data[['1_week_ago', '2_week_ago', '3_week_ago']]\n",
    "    y_train = train_data['this_week']\n",
    "    return X_train, y_train\n",
    "\n",
    "def split_test_data(test_data):\n",
    "    X_test = test_data[['1_week_ago', '2_week_ago', '3_week_ago']]\n",
    "    y_test = test_data['this_week']\n",
    "    return X_test,y_test\n"
   ]
  },
  {
   "cell_type": "code",
   "execution_count": 169,
   "id": "61b05118",
   "metadata": {},
   "outputs": [],
   "source": [
    "def wmape(actual, forecast):\n",
    "    # we take two series and calculate an output a wmape from it, not to be used in a grouping function\n",
    "\n",
    "    # make a series called mape\n",
    "    se_mape = abs(actual-forecast)/actual\n",
    "\n",
    "    # get a float of the sum of the actual\n",
    "    ft_actual_sum = actual.sum()\n",
    "\n",
    "    # get a series of the multiple of the actual & the mape\n",
    "    se_actual_prod_mape = actual * se_mape\n",
    "\n",
    "    # summate the prod of the actual and the mape\n",
    "    ft_actual_prod_mape_sum = se_actual_prod_mape.sum()\n",
    "\n",
    "    # float: wmape of forecast\n",
    "    ft_wmape_forecast = ft_actual_prod_mape_sum / ft_actual_sum\n",
    "\n",
    "    # return a float\n",
    "    return ft_wmape_forecast\n",
    "\n"
   ]
  },
  {
   "cell_type": "markdown",
   "id": "865e5e81",
   "metadata": {},
   "source": [
    "# 1, iphone12-> iphone13\n",
    "\n",
    "## Train iPhone 12 until end of Feb 2022\n",
    "\n",
    "## Validate iPhone 12 March 2022\n",
    "\n",
    "## Test iPhone 13 March 2022"
   ]
  },
  {
   "cell_type": "code",
   "execution_count": 156,
   "id": "711bc12b",
   "metadata": {},
   "outputs": [],
   "source": [
    "iphone12_train = iphone12_df[(iphone12_df['weeks_monday'] <= '2022-02-28')] \n",
    "iphone12_train=prepare_data(iphone12_train)\n",
    "iphone12_validate = iphone12_df[(iphone12_df['weeks_monday'] >= '2022-03-07') & (iphone12_df['weeks_monday'] <= '2022-03-28')].reset_index()\n",
    "iphone12_validate=prepare_data(iphone12_validate)\n",
    "iphone13_test = iphone13_df[(iphone13_df['weeks_monday'] >= '2022-03-07') & (iphone13_df['weeks_monday'] <= '2022-03-28')].reset_index()\n",
    "iphone13_test = prepare_data(iphone13_test)\n",
    "\n",
    "\n",
    "X_train, y_train= split_train_data(iphone12_train)\n",
    "X_validate, y_validate = split_test_data(iphone12_validate)\n",
    "X_test, y_test= split_test_data(iphone13_test)"
   ]
  },
  {
   "cell_type": "code",
   "execution_count": 171,
   "id": "9e18a995",
   "metadata": {},
   "outputs": [
    {
     "name": "stdout",
     "output_type": "stream",
     "text": [
      "  weeks_monday  this_week  1_week_ago  2_week_ago  3_week_ago\n",
      "0   2022-03-28         43       24.00       31.00       32.00\n"
     ]
    }
   ],
   "source": [
    "print(iphone13_test)"
   ]
  },
  {
   "cell_type": "markdown",
   "id": "8700de3b",
   "metadata": {},
   "source": [
    "# XGBoost"
   ]
  },
  {
   "cell_type": "code",
   "execution_count": 157,
   "id": "fa29459c",
   "metadata": {},
   "outputs": [],
   "source": [
    "import xgboost as xgb\n",
    "xgb_model=xgb.XGBRegressor()\n",
    "xgb_model=xgb_model.fit(X_train, y_train)\n",
    "pred=xgb_model.predict(X_validate)\n"
   ]
  },
  {
   "cell_type": "code",
   "execution_count": 158,
   "id": "dc770725",
   "metadata": {},
   "outputs": [
    {
     "name": "stdout",
     "output_type": "stream",
     "text": [
      "MSE: 71023.90912834182\n",
      "WMAPE: 37.75%\n"
     ]
    }
   ],
   "source": [
    "from sklearn.metrics import mean_squared_error, r2_score\n",
    "\n",
    "mse = mean_squared_error(y_validate, pred)\n",
    "print('MSE:', mse)\n",
    "\n",
    "wmape=wmape(y_validate, pred)\n",
    "\n",
    "print(\"WMAPE: {:.2%}\".format(wmape))"
   ]
  },
  {
   "cell_type": "markdown",
   "id": "e97ea5a0",
   "metadata": {},
   "source": [
    "# AdaBoostRegressor"
   ]
  },
  {
   "cell_type": "code",
   "execution_count": 139,
   "id": "9d5d6fa5",
   "metadata": {},
   "outputs": [],
   "source": [
    "from sklearn import ensemble\n",
    "\n",
    "from sklearn.ensemble import AdaBoostRegressor\n",
    "\n",
    "AB_model=AdaBoostRegressor()\n",
    "AB_model.fit(X_train, y_train)\n",
    "\n",
    "pred = AB_model.predict(X_validate)\n"
   ]
  },
  {
   "cell_type": "code",
   "execution_count": 115,
   "id": "9c3c518b",
   "metadata": {},
   "outputs": [
    {
     "name": "stdout",
     "output_type": "stream",
     "text": [
      "MSE: 50700.02777777779\n",
      "WMAPE: 31.89%\n"
     ]
    }
   ],
   "source": [
    "from sklearn.metrics import mean_squared_error, r2_score\n",
    "mse = mean_squared_error(y_validate, pred)\n",
    "print('MSE:', mse)\n",
    "\n",
    "wmape=wmape(y_validate, pred)\n",
    "print(\"WMAPE: {:.2%}\".format(wmape))"
   ]
  },
  {
   "cell_type": "code",
   "execution_count": 131,
   "id": "9989a60c",
   "metadata": {},
   "outputs": [
    {
     "name": "stdout",
     "output_type": "stream",
     "text": [
      "   1_week_ago  2_week_ago  3_week_ago\n",
      "0       24.00       31.00       32.00\n",
      "0    43\n",
      "Name: this_week, dtype: int64\n"
     ]
    }
   ],
   "source": [
    "print(X_test)\n",
    "print(y_test)"
   ]
  },
  {
   "cell_type": "code",
   "execution_count": 140,
   "id": "fe9caf6c",
   "metadata": {},
   "outputs": [
    {
     "name": "stdout",
     "output_type": "stream",
     "text": [
      "[297.5148956]\n",
      "MSE: 64777.83208203697\n",
      "WMAPE: 591.90%\n"
     ]
    }
   ],
   "source": [
    "pred = AB_model.predict(X_test)\n",
    "pred *= avg_growth_decimal\n",
    "\n",
    "print(pred)\n",
    "\n",
    "mse = mean_squared_error(y_test, pred)\n",
    "print('MSE:', mse)\n",
    "\n",
    "wmape=wmape(y_test, pred)\n",
    "print(\"WMAPE: {:.2%}\".format(wmape))"
   ]
  },
  {
   "cell_type": "markdown",
   "id": "166bdca9",
   "metadata": {},
   "source": [
    "# BaggingRegressor"
   ]
  },
  {
   "cell_type": "code",
   "execution_count": 116,
   "id": "0f00a6a4",
   "metadata": {},
   "outputs": [],
   "source": [
    "from sklearn.ensemble import BaggingRegressor\n",
    "\n",
    "BR_model=BaggingRegressor()\n",
    "BR_model.fit(X_train, y_train)\n",
    "\n",
    "pred = BR_model.predict(X_validate)"
   ]
  },
  {
   "cell_type": "code",
   "execution_count": 118,
   "id": "9158ac90",
   "metadata": {},
   "outputs": [
    {
     "name": "stdout",
     "output_type": "stream",
     "text": [
      "MSE: 45454.24\n",
      "WMAPE: 30.20%\n"
     ]
    }
   ],
   "source": [
    "from sklearn.metrics import mean_squared_error, r2_score\n",
    "mse = mean_squared_error(y_validate, pred)\n",
    "print('MSE:', mse)\n",
    "\n",
    "wmape=wmape(y_validate, pred)\n",
    "print(\"WMAPE: {:.2%}\".format(wmape))"
   ]
  },
  {
   "cell_type": "markdown",
   "id": "f6a34803",
   "metadata": {},
   "source": [
    "# DecisionTreeRegressor"
   ]
  },
  {
   "cell_type": "code",
   "execution_count": 119,
   "id": "17ed807c",
   "metadata": {},
   "outputs": [],
   "source": [
    "from sklearn.tree import DecisionTreeRegressor\n",
    "\n",
    "DT_model=DecisionTreeRegressor()\n",
    "DT_model.fit(X_train, y_train)\n",
    "\n",
    "pred = DT_model.predict(X_validate)"
   ]
  },
  {
   "cell_type": "code",
   "execution_count": 121,
   "id": "d4434056",
   "metadata": {},
   "outputs": [
    {
     "name": "stdout",
     "output_type": "stream",
     "text": [
      "MSE: 35721.0\n",
      "WMAPE: 26.77%\n"
     ]
    }
   ],
   "source": [
    "from sklearn.metrics import mean_squared_error, r2_score\n",
    "mse = mean_squared_error(y_validate, pred)\n",
    "print('MSE:', mse)\n",
    "\n",
    "wmape=wmape(y_validate, pred)\n",
    "print(\"WMAPE: {:.2%}\".format(wmape))"
   ]
  },
  {
   "cell_type": "code",
   "execution_count": 122,
   "id": "bf4da18b",
   "metadata": {},
   "outputs": [
    {
     "name": "stdout",
     "output_type": "stream",
     "text": [
      "0    43\n",
      "Name: this_week, dtype: int64\n",
      "   1_week_ago  2_week_ago  3_week_ago\n",
      "0       24.00       31.00       32.00\n"
     ]
    }
   ],
   "source": [
    "print(y_test)\n",
    "print(X_test)"
   ]
  },
  {
   "cell_type": "code",
   "execution_count": 124,
   "id": "57041d30",
   "metadata": {},
   "outputs": [
    {
     "name": "stdout",
     "output_type": "stream",
     "text": [
      "[292.]\n",
      "MSE: 62001.0\n",
      "WMAPE: 579.07%\n"
     ]
    }
   ],
   "source": [
    "dt_pred = DT_model.predict(X_test)\n",
    "print(dt_pred)\n",
    "from sklearn.metrics import mean_squared_error, r2_score\n",
    "mse = mean_squared_error(y_test, dt_pred)\n",
    "print('MSE:', mse)\n",
    "\n",
    "wmape=wmape(y_test, dt_pred)\n",
    "print(\"WMAPE: {:.2%}\".format(wmape))"
   ]
  },
  {
   "cell_type": "markdown",
   "id": "471c0b0f",
   "metadata": {},
   "source": [
    "# RandomForestRegressor"
   ]
  },
  {
   "cell_type": "code",
   "execution_count": 85,
   "id": "8012c947",
   "metadata": {},
   "outputs": [],
   "source": [
    "from sklearn.ensemble import RandomForestRegressor\n",
    "\n",
    "RFR_model=RandomForestRegressor()\n",
    "RFR_model.fit(X_train, y_train)\n",
    "\n",
    "pred = RFR_model.predict(X_validate)"
   ]
  },
  {
   "cell_type": "code",
   "execution_count": 87,
   "id": "9331c6d8",
   "metadata": {},
   "outputs": [
    {
     "name": "stdout",
     "output_type": "stream",
     "text": [
      "MSE: 51510.84159999999\n",
      "WMAPE: 32.15%\n"
     ]
    }
   ],
   "source": [
    "from sklearn.metrics import mean_squared_error, r2_score\n",
    "mse = mean_squared_error(y_validate, pred)\n",
    "print('MSE:', mse)\n",
    "\n",
    "wmape=wmape(y_validate, pred)\n",
    "print(\"WMAPE: {:.2%}\".format(wmape))"
   ]
  },
  {
   "cell_type": "markdown",
   "id": "1f03f5d1",
   "metadata": {},
   "source": [
    "# LinearRegression"
   ]
  },
  {
   "cell_type": "code",
   "execution_count": 142,
   "id": "223ffdd4",
   "metadata": {},
   "outputs": [],
   "source": [
    "from sklearn.linear_model import LinearRegression\n",
    "\n",
    "lin_model = LinearRegression()\n",
    "lin_model.fit(X_train, y_train)\n",
    "\n",
    "pred = lin_model.predict(X_validate)"
   ]
  },
  {
   "cell_type": "code",
   "execution_count": 90,
   "id": "8f19371d",
   "metadata": {},
   "outputs": [
    {
     "name": "stdout",
     "output_type": "stream",
     "text": [
      "MSE: 8607.41076136259\n",
      "WMAPE: 13.14%\n"
     ]
    }
   ],
   "source": [
    "from sklearn.metrics import mean_squared_error, r2_score\n",
    "mse = mean_squared_error(y_validate, pred)\n",
    "print('MSE:', mse)\n",
    "\n",
    "wmape=wmape(y_validate, pred)\n",
    "print(\"WMAPE: {:.2%}\".format(wmape))"
   ]
  },
  {
   "cell_type": "code",
   "execution_count": 143,
   "id": "00771850",
   "metadata": {},
   "outputs": [
    {
     "name": "stdout",
     "output_type": "stream",
     "text": [
      "MSE: 1943.084219882915\n",
      "WMAPE: 102.51%\n"
     ]
    }
   ],
   "source": [
    "lin_pred = lin_model.predict(X_test)\n",
    "\n",
    "from sklearn.metrics import mean_squared_error, r2_score\n",
    "mse = mean_squared_error(y_test, lin_pred)\n",
    "print('MSE:', mse)\n",
    "\n",
    "wmape=wmape(y_test, lin_pred)\n",
    "print(\"WMAPE: {:.2%}\".format(wmape))"
   ]
  },
  {
   "cell_type": "code",
   "execution_count": null,
   "id": "567e5f82",
   "metadata": {},
   "outputs": [],
   "source": []
  },
  {
   "cell_type": "code",
   "execution_count": null,
   "id": "98749b1a",
   "metadata": {},
   "outputs": [],
   "source": []
  },
  {
   "cell_type": "code",
   "execution_count": null,
   "id": "d9bb58b9",
   "metadata": {},
   "outputs": [],
   "source": []
  },
  {
   "cell_type": "markdown",
   "id": "14c72dd8",
   "metadata": {},
   "source": [
    "# 2, iphone13-> iphone14\n",
    "\n",
    "# Train iPhone 13 until end of Dec 2022\n",
    "\n",
    "# Validate iPhone 13 Jan 2023\n",
    "\n",
    "# Test iPhone 14 Jan 2023"
   ]
  },
  {
   "cell_type": "code",
   "execution_count": 160,
   "id": "adbaebf5",
   "metadata": {},
   "outputs": [],
   "source": [
    "iphone13_train = iphone13_df[(iphone13_df['weeks_monday'] < '2023-01-02')] \n",
    "iphone13_train=prepare_data(iphone13_train)\n",
    "iphone13_validate = iphone13_df[(iphone13_df['weeks_monday'] >= '2023-01-02') & (iphone13_df['weeks_monday'] <= '2023-02-06')].reset_index()\n",
    "iphone13_validate=prepare_data(iphone13_validate)\n",
    "iphone14_test = iphone14_df[(iphone14_df['weeks_monday'] >= '2023-01-02') & (iphone14_df['weeks_monday'] <= '2023-02-06')].reset_index()\n",
    "iphone14_test = prepare_data(iphone14_test)\n",
    "\n",
    "\n",
    "X_train, y_train= split_train_data(iphone13_train)\n",
    "X_validate, y_validate = split_test_data(iphone13_validate)\n",
    "X_test, y_test= split_test_data(iphone14_test)"
   ]
  },
  {
   "cell_type": "markdown",
   "id": "c8fafadc",
   "metadata": {},
   "source": [
    "# xgboost"
   ]
  },
  {
   "cell_type": "code",
   "execution_count": 161,
   "id": "d9058367",
   "metadata": {},
   "outputs": [
    {
     "name": "stdout",
     "output_type": "stream",
     "text": [
      "MSE: 165873.69036960602\n",
      "WMAPE: 35.09%\n"
     ]
    }
   ],
   "source": [
    "import xgboost as xgb\n",
    "xgb_model=xgb.XGBRegressor()\n",
    "xgb_model=xgb_model.fit(X_train, y_train)\n",
    "pred=xgb_model.predict(X_validate)\n",
    "\n",
    "from sklearn.metrics import mean_squared_error, r2_score\n",
    "mse = mean_squared_error(y_validate, pred)\n",
    "print('MSE:', mse)\n",
    "\n",
    "wmape=wmape(y_validate, pred)\n",
    "print(\"WMAPE: {:.2%}\".format(wmape))"
   ]
  },
  {
   "cell_type": "code",
   "execution_count": 166,
   "id": "b24de155",
   "metadata": {},
   "outputs": [
    {
     "name": "stdout",
     "output_type": "stream",
     "text": [
      "[206.13737 206.13737 206.13737]\n",
      "MSE: 22150.86500222818\n",
      "WMAPE: 259.54%\n"
     ]
    }
   ],
   "source": [
    "y_pred = xgb_model.predict(X_test)\n",
    "\n",
    "mse = mean_squared_error(y_test, y_pred)\n",
    "print('MSE:', mse)\n",
    "\n",
    "wmape=wmape(y_test, y_pred)\n",
    "print(\"WMAPE: {:.2%}\".format(wmape))"
   ]
  },
  {
   "cell_type": "markdown",
   "id": "fb99bed6",
   "metadata": {},
   "source": [
    "# DecisionTreeRegressor"
   ]
  },
  {
   "cell_type": "code",
   "execution_count": 168,
   "id": "111cb997",
   "metadata": {},
   "outputs": [
    {
     "name": "stdout",
     "output_type": "stream",
     "text": [
      "MSE: 119433.0\n",
      "WMAPE: 29.08%\n"
     ]
    }
   ],
   "source": [
    "from sklearn.tree import DecisionTreeRegressor\n",
    "\n",
    "DT_model=DecisionTreeRegressor()\n",
    "DT_model.fit(X_train, y_train)\n",
    "\n",
    "pred = DT_model.predict(X_validate)\n",
    "\n",
    "from sklearn.metrics import mean_squared_error, r2_score\n",
    "mse = mean_squared_error(y_validate, pred)\n",
    "print('MSE:', mse)\n",
    "\n",
    "wmape=wmape(y_validate, pred)\n",
    "print(\"WMAPE: {:.2%}\".format(wmape))"
   ]
  },
  {
   "cell_type": "code",
   "execution_count": 170,
   "id": "c98735a3",
   "metadata": {},
   "outputs": [
    {
     "name": "stdout",
     "output_type": "stream",
     "text": [
      "MSE: 24867.0\n",
      "WMAPE: 275.00%\n"
     ]
    }
   ],
   "source": [
    "y_pred = DT_model.predict(X_test)\n",
    "\n",
    "mse = mean_squared_error(y_test, y_pred)\n",
    "print('MSE:', mse)\n",
    "\n",
    "wmape=wmape(y_test, y_pred)\n",
    "print(\"WMAPE: {:.2%}\".format(wmape))"
   ]
  },
  {
   "cell_type": "code",
   "execution_count": null,
   "id": "a995c5a0",
   "metadata": {},
   "outputs": [],
   "source": []
  }
 ],
 "metadata": {
  "kernelspec": {
   "display_name": "Python 3 (ipykernel)",
   "language": "python",
   "name": "python3"
  },
  "language_info": {
   "codemirror_mode": {
    "name": "ipython",
    "version": 3
   },
   "file_extension": ".py",
   "mimetype": "text/x-python",
   "name": "python",
   "nbconvert_exporter": "python",
   "pygments_lexer": "ipython3",
   "version": "3.9.12"
  }
 },
 "nbformat": 4,
 "nbformat_minor": 5
}
