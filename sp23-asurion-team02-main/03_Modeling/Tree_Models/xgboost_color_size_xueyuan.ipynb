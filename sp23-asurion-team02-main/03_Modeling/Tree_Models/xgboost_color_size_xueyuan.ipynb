{
 "cells": [
  {
   "cell_type": "markdown",
   "id": "1fe7972d",
   "metadata": {},
   "source": [
    "# Iphone 12"
   ]
  },
  {
   "cell_type": "code",
   "execution_count": 85,
   "id": "fb97fe84",
   "metadata": {},
   "outputs": [],
   "source": [
    "import pandas as pd\n",
    "import numpy as np\n",
    "import datetime as dt\n",
    "import matplotlib.pyplot as plt\n",
    "\n",
    "df = pd.read_csv('/Users/xueyuanli/Desktop/DS-team/Asurion_data_iPhone_v3.csv', parse_dates=['weeks_monday','month_year'])\n",
    "df_12=df[(df['phone_generation'] == 'iphone 12')]"
   ]
  },
  {
   "cell_type": "code",
   "execution_count": 86,
   "id": "9aab3a62",
   "metadata": {},
   "outputs": [
    {
     "name": "stdout",
     "output_type": "stream",
     "text": [
      "     phone_size phone_color  claim\n",
      "3027        128       black     14\n",
      "3028        128       black     43\n",
      "3029        128       black     57\n",
      "3030        128       black     65\n",
      "3031        128       black     59\n",
      "...         ...         ...    ...\n",
      "6241        512      silver      7\n",
      "6242        512      silver      9\n",
      "6243        512      silver      5\n",
      "6244        512      silver      8\n",
      "6245        512      silver     12\n",
      "\n",
      "[3219 rows x 3 columns]\n"
     ]
    }
   ],
   "source": [
    "df_12=df_12[['phone_size', 'phone_color',  'claim' ]]\n",
    "df_12['phone_size'] = df_12['phone_size'].str.replace('gb', '')\n",
    "\n",
    "print(df_12)"
   ]
  },
  {
   "cell_type": "code",
   "execution_count": 87,
   "id": "18db2fe5",
   "metadata": {},
   "outputs": [],
   "source": [
    "from sklearn.model_selection import train_test_split\n",
    "\n",
    "X = df_12[['phone_size','phone_color']]\n",
    "y = df_12['claim']\n",
    "\n",
    "X_train, X_test, y_train, y_test = train_test_split(X, y, test_size=0.2, random_state=42)"
   ]
  },
  {
   "cell_type": "code",
   "execution_count": 88,
   "id": "b4695523",
   "metadata": {},
   "outputs": [
    {
     "name": "stdout",
     "output_type": "stream",
     "text": [
      "     phone_size phone_color\n",
      "5457        128        gold\n",
      "3393        128         red\n",
      "4987        128      silver\n",
      "3056        128       black\n",
      "5713        256        blue\n",
      "...         ...         ...\n",
      "4122         64       white\n",
      "4157        128       black\n",
      "4321        128      purple\n",
      "3887         64       green\n",
      "6201        512      silver\n",
      "\n",
      "[2575 rows x 2 columns]\n"
     ]
    }
   ],
   "source": [
    "print(X_train)"
   ]
  },
  {
   "cell_type": "code",
   "execution_count": 89,
   "id": "8e205905",
   "metadata": {},
   "outputs": [],
   "source": [
    "X_train = pd.get_dummies(X_train, columns=['phone_size','phone_color'])\n",
    "X_test = pd.get_dummies(X_test, columns=['phone_size','phone_color'])"
   ]
  },
  {
   "cell_type": "code",
   "execution_count": 90,
   "id": "3d79cef4",
   "metadata": {},
   "outputs": [
    {
     "name": "stdout",
     "output_type": "stream",
     "text": [
      "(2575, 13)\n"
     ]
    }
   ],
   "source": [
    "print(X_train.shape)"
   ]
  },
  {
   "cell_type": "code",
   "execution_count": 91,
   "id": "82ee14dd",
   "metadata": {},
   "outputs": [
    {
     "name": "stdout",
     "output_type": "stream",
     "text": [
      "(644, 13)\n",
      "      phone_size_128  phone_size_256  phone_size_512  phone_size_64  \\\n",
      "3325               1               0               0              0   \n",
      "3129               1               0               0              0   \n",
      "4859               1               0               0              0   \n",
      "4205               1               0               0              0   \n",
      "5996               0               1               0              0   \n",
      "...              ...             ...             ...            ...   \n",
      "3388               1               0               0              0   \n",
      "3162               1               0               0              0   \n",
      "4469               0               0               0              1   \n",
      "5360               1               0               0              0   \n",
      "3959               0               0               0              1   \n",
      "\n",
      "      phone_color_black  phone_color_blue  phone_color_gold  phone_color_gray  \\\n",
      "3325                  0                 0                 0                 0   \n",
      "3129                  0                 1                 0                 0   \n",
      "4859                  0                 0                 0                 1   \n",
      "4205                  0                 1                 0                 0   \n",
      "5996                  0                 0                 0                 0   \n",
      "...                 ...               ...               ...               ...   \n",
      "3388                  0                 0                 0                 0   \n",
      "3162                  0                 1                 0                 0   \n",
      "4469                  1                 0                 0                 0   \n",
      "5360                  0                 1                 0                 0   \n",
      "3959                  0                 0                 0                 0   \n",
      "\n",
      "      phone_color_green  phone_color_purple  phone_color_red  \\\n",
      "3325                  0                   1                0   \n",
      "3129                  0                   0                0   \n",
      "4859                  0                   0                0   \n",
      "4205                  0                   0                0   \n",
      "5996                  0                   0                0   \n",
      "...                 ...                 ...              ...   \n",
      "3388                  0                   0                1   \n",
      "3162                  0                   0                0   \n",
      "4469                  0                   0                0   \n",
      "5360                  0                   0                0   \n",
      "3959                  0                   1                0   \n",
      "\n",
      "      phone_color_silver  phone_color_white  \n",
      "3325                   0                  0  \n",
      "3129                   0                  0  \n",
      "4859                   0                  0  \n",
      "4205                   0                  0  \n",
      "5996                   1                  0  \n",
      "...                  ...                ...  \n",
      "3388                   0                  0  \n",
      "3162                   0                  0  \n",
      "4469                   0                  0  \n",
      "5360                   0                  0  \n",
      "3959                   0                  0  \n",
      "\n",
      "[644 rows x 13 columns]\n"
     ]
    }
   ],
   "source": [
    "print(X_test.shape)\n",
    "print(X_test)"
   ]
  },
  {
   "cell_type": "code",
   "execution_count": 92,
   "id": "73102d5e",
   "metadata": {},
   "outputs": [
    {
     "name": "stderr",
     "output_type": "stream",
     "text": [
      "100%|███████████████████████████████████████████| 42/42 [01:54<00:00,  2.72s/it]"
     ]
    },
    {
     "name": "stdout",
     "output_type": "stream",
     "text": [
      "                               Adjusted R-Squared  R-Squared   RMSE  \\\n",
      "Model                                                                 \n",
      "RandomForestRegressor                        0.40       0.41  69.05   \n",
      "BaggingRegressor                             0.40       0.41  69.07   \n",
      "MLPRegressor                                 0.40       0.41  69.10   \n",
      "DecisionTreeRegressor                        0.40       0.41  69.13   \n",
      "ExtraTreeRegressor                           0.40       0.41  69.13   \n",
      "ExtraTreesRegressor                          0.40       0.41  69.13   \n",
      "XGBRegressor                                 0.40       0.41  69.13   \n",
      "LGBMRegressor                                0.40       0.41  69.13   \n",
      "HistGradientBoostingRegressor                0.40       0.41  69.13   \n",
      "GaussianProcessRegressor                     0.40       0.41  69.13   \n",
      "GradientBoostingRegressor                    0.40       0.41  69.18   \n",
      "PoissonRegressor                             0.37       0.38  70.82   \n",
      "LassoLarsIC                                  0.36       0.37  71.48   \n",
      "LassoLarsCV                                  0.36       0.37  71.48   \n",
      "Ridge                                        0.36       0.37  71.49   \n",
      "LassoCV                                      0.36       0.37  71.49   \n",
      "RidgeCV                                      0.36       0.37  71.50   \n",
      "BayesianRidge                                0.36       0.37  71.51   \n",
      "TransformedTargetRegressor                   0.36       0.37  71.54   \n",
      "LinearRegression                             0.36       0.37  71.54   \n",
      "ElasticNetCV                                 0.35       0.37  71.61   \n",
      "SGDRegressor                                 0.35       0.37  71.69   \n",
      "Lasso                                        0.35       0.36  71.81   \n",
      "LarsCV                                       0.34       0.35  72.47   \n",
      "OrthogonalMatchingPursuitCV                  0.33       0.34  72.97   \n",
      "AdaBoostRegressor                            0.32       0.33  73.41   \n",
      "KNeighborsRegressor                          0.31       0.33  73.73   \n",
      "ElasticNet                                   0.29       0.31  74.87   \n",
      "HuberRegressor                               0.27       0.29  76.09   \n",
      "TweedieRegressor                             0.25       0.26  77.27   \n",
      "GammaRegressor                               0.23       0.24  78.21   \n",
      "NuSVR                                        0.23       0.24  78.32   \n",
      "LinearSVR                                    0.21       0.23  78.94   \n",
      "PassiveAggressiveRegressor                   0.21       0.23  79.20   \n",
      "SVR                                          0.18       0.19  80.90   \n",
      "OrthogonalMatchingPursuit                    0.05       0.07  86.71   \n",
      "RANSACRegressor                             -0.02       0.00  89.95   \n",
      "DummyRegressor                              -0.02      -0.00  90.00   \n",
      "LassoLars                                   -0.02      -0.00  90.00   \n",
      "QuantileRegressor                           -0.15      -0.13  95.67   \n",
      "KernelRidge                                 -0.41      -0.39 105.93   \n",
      "Lars                                        -7.81      -7.63 264.40   \n",
      "\n",
      "                               Time Taken  \n",
      "Model                                      \n",
      "RandomForestRegressor                0.11  \n",
      "BaggingRegressor                     0.02  \n",
      "MLPRegressor                         0.89  \n",
      "DecisionTreeRegressor                0.01  \n",
      "ExtraTreeRegressor                   0.00  \n",
      "ExtraTreesRegressor                  0.10  \n",
      "XGBRegressor                         0.12  \n",
      "LGBMRegressor                        0.22  \n",
      "HistGradientBoostingRegressor        0.26  \n",
      "GaussianProcessRegressor             0.36  \n",
      "GradientBoostingRegressor            0.06  \n",
      "PoissonRegressor                     0.01  \n",
      "LassoLarsIC                          0.01  \n",
      "LassoLarsCV                          0.01  \n",
      "Ridge                                0.01  \n",
      "LassoCV                              0.05  \n",
      "RidgeCV                              0.01  \n",
      "BayesianRidge                        0.01  \n",
      "TransformedTargetRegressor           0.00  \n",
      "LinearRegression                     0.00  \n",
      "ElasticNetCV                         0.04  \n",
      "SGDRegressor                         0.01  \n",
      "Lasso                                0.00  \n",
      "LarsCV                               0.01  \n",
      "OrthogonalMatchingPursuitCV          0.01  \n",
      "AdaBoostRegressor                    0.03  \n",
      "KNeighborsRegressor                  0.02  \n",
      "ElasticNet                           0.00  \n",
      "HuberRegressor                       0.01  \n",
      "TweedieRegressor                     0.01  \n",
      "GammaRegressor                       0.01  \n",
      "NuSVR                                0.35  \n",
      "LinearSVR                            0.01  \n",
      "PassiveAggressiveRegressor           0.01  \n",
      "SVR                                  0.53  \n",
      "OrthogonalMatchingPursuit            0.00  \n",
      "RANSACRegressor                      0.03  \n",
      "DummyRegressor                       0.00  \n",
      "LassoLars                            0.00  \n",
      "QuantileRegressor                  110.66  \n",
      "KernelRidge                          0.13  \n",
      "Lars                                 0.01  \n"
     ]
    },
    {
     "name": "stderr",
     "output_type": "stream",
     "text": [
      "\n"
     ]
    }
   ],
   "source": [
    "import pandas as pd\n",
    "from sklearn.model_selection import train_test_split\n",
    "from lazypredict.Supervised import LazyRegressor\n",
    "from sklearn.utils import shuffle\n",
    "import numpy as np\n",
    "\n",
    "\n",
    "reg = LazyRegressor(verbose=0, ignore_warnings=True, custom_metric = None)\n",
    "# Train and test the models\n",
    "models,predictions = reg.fit(X_train, X_test, y_train, y_test)\n",
    "\n",
    "print(models)"
   ]
  },
  {
   "cell_type": "code",
   "execution_count": null,
   "id": "b6194ea8",
   "metadata": {},
   "outputs": [],
   "source": []
  },
  {
   "cell_type": "code",
   "execution_count": null,
   "id": "de075d81",
   "metadata": {},
   "outputs": [],
   "source": []
  },
  {
   "cell_type": "code",
   "execution_count": null,
   "id": "29dcca8d",
   "metadata": {},
   "outputs": [],
   "source": []
  },
  {
   "cell_type": "markdown",
   "id": "e8441090",
   "metadata": {},
   "source": [
    "# Predict the claim by phone color and phone size"
   ]
  },
  {
   "cell_type": "markdown",
   "id": "c7be0cde",
   "metadata": {},
   "source": [
    "# Random Forest"
   ]
  },
  {
   "cell_type": "code",
   "execution_count": 97,
   "id": "abcc67d0",
   "metadata": {},
   "outputs": [],
   "source": [
    "from sklearn.ensemble import RandomForestRegressor\n",
    "\n",
    "RFR_model=RandomForestRegressor()\n",
    "RFR_model.fit(X_train, y_train)\n",
    "\n",
    "pred = RFR_model.predict(X_test)"
   ]
  },
  {
   "cell_type": "code",
   "execution_count": 98,
   "id": "d46a4215",
   "metadata": {},
   "outputs": [],
   "source": [
    "def wmape(actual, forecast):\n",
    "    # we take two series and calculate an output a wmape from it, not to be used in a grouping function\n",
    "\n",
    "    # make a series called mape\n",
    "    se_mape = abs(actual-forecast)/actual\n",
    "\n",
    "    # get a float of the sum of the actual\n",
    "    ft_actual_sum = actual.sum()\n",
    "\n",
    "    # get a series of the multiple of the actual & the mape\n",
    "    se_actual_prod_mape = actual * se_mape\n",
    "\n",
    "    # summate the prod of the actual and the mape\n",
    "    ft_actual_prod_mape_sum = se_actual_prod_mape.sum()\n",
    "\n",
    "    # float: wmape of forecast\n",
    "    ft_wmape_forecast = ft_actual_prod_mape_sum / ft_actual_sum\n",
    "\n",
    "    # return a float\n",
    "    return ft_wmape_forecast"
   ]
  },
  {
   "cell_type": "code",
   "execution_count": 99,
   "id": "fffe36ac",
   "metadata": {},
   "outputs": [
    {
     "name": "stdout",
     "output_type": "stream",
     "text": [
      "MSE: 4776.2408446693225\n",
      "WMAPE: 59.51%\n"
     ]
    }
   ],
   "source": [
    "from sklearn.metrics import mean_squared_error, r2_score\n",
    "mse = mean_squared_error(y_test, pred)\n",
    "print('MSE:', mse)\n",
    "\n",
    "wmape=wmape(y_test, pred)\n",
    "print(\"WMAPE: {:.2%}\".format(wmape))"
   ]
  },
  {
   "cell_type": "markdown",
   "id": "6ed34136",
   "metadata": {},
   "source": [
    "# xgboost"
   ]
  },
  {
   "cell_type": "code",
   "execution_count": 100,
   "id": "92bc89e1",
   "metadata": {},
   "outputs": [],
   "source": [
    "from sklearn.linear_model import LinearRegression\n",
    "import xgboost as xgb\n",
    "#model = LinearRegression()\n",
    "model=xgb.XGBRegressor()\n",
    "model.fit(X_train, y_train)\n",
    "y_pred = model.predict(X_test)"
   ]
  },
  {
   "cell_type": "code",
   "execution_count": 101,
   "id": "be2eb627",
   "metadata": {},
   "outputs": [
    {
     "name": "stdout",
     "output_type": "stream",
     "text": [
      "Mean squared error: 4779.20\n",
      "R2 score: 0.41\n"
     ]
    }
   ],
   "source": [
    "from sklearn.metrics import mean_squared_error, r2_score\n",
    "\n",
    "print(\"Mean squared error: %.2f\" % mean_squared_error(y_test, y_pred))\n",
    "print('R2 score: %.2f' % r2_score(y_test, y_pred))"
   ]
  },
  {
   "cell_type": "code",
   "execution_count": 102,
   "id": "151e7dbe",
   "metadata": {},
   "outputs": [],
   "source": [
    "def wmape(actual, forecast):\n",
    "    # we take two series and calculate an output a wmape from it, not to be used in a grouping function\n",
    "\n",
    "    # make a series called mape\n",
    "    se_mape = abs(actual-forecast)/actual\n",
    "\n",
    "    # get a float of the sum of the actual\n",
    "    ft_actual_sum = actual.sum()\n",
    "\n",
    "    # get a series of the multiple of the actual & the mape\n",
    "    se_actual_prod_mape = actual * se_mape\n",
    "\n",
    "    # summate the prod of the actual and the mape\n",
    "    ft_actual_prod_mape_sum = se_actual_prod_mape.sum()\n",
    "\n",
    "    # float: wmape of forecast\n",
    "    ft_wmape_forecast = ft_actual_prod_mape_sum / ft_actual_sum\n",
    "\n",
    "    # return a float\n",
    "    return ft_wmape_forecast\n"
   ]
  },
  {
   "cell_type": "code",
   "execution_count": 103,
   "id": "dce8e823",
   "metadata": {},
   "outputs": [
    {
     "name": "stdout",
     "output_type": "stream",
     "text": [
      "WMAPE: 59.47%\n"
     ]
    }
   ],
   "source": [
    "\n",
    "wmape=wmape(y_test, y_pred)\n",
    "\n",
    "print(\"WMAPE: {:.2%}\".format(wmape))"
   ]
  },
  {
   "cell_type": "markdown",
   "id": "e3f7ab46",
   "metadata": {},
   "source": [
    "# DecisionTreeRegressor"
   ]
  },
  {
   "cell_type": "code",
   "execution_count": 104,
   "id": "e8a5fae0",
   "metadata": {},
   "outputs": [],
   "source": [
    "from sklearn.tree import DecisionTreeRegressor\n",
    "\n",
    "DT_model=DecisionTreeRegressor()\n",
    "DT_model.fit(X_train, y_train)\n",
    "\n",
    "pred = DT_model.predict(X_test)"
   ]
  },
  {
   "cell_type": "code",
   "execution_count": 105,
   "id": "e21923ab",
   "metadata": {},
   "outputs": [],
   "source": [
    "def wmape(actual, forecast):\n",
    "    # we take two series and calculate an output a wmape from it, not to be used in a grouping function\n",
    "\n",
    "    # make a series called mape\n",
    "    se_mape = abs(actual-forecast)/actual\n",
    "\n",
    "    # get a float of the sum of the actual\n",
    "    ft_actual_sum = actual.sum()\n",
    "\n",
    "    # get a series of the multiple of the actual & the mape\n",
    "    se_actual_prod_mape = actual * se_mape\n",
    "\n",
    "    # summate the prod of the actual and the mape\n",
    "    ft_actual_prod_mape_sum = se_actual_prod_mape.sum()\n",
    "\n",
    "    # float: wmape of forecast\n",
    "    ft_wmape_forecast = ft_actual_prod_mape_sum / ft_actual_sum\n",
    "\n",
    "    # return a float\n",
    "    return ft_wmape_forecast\n",
    "\n"
   ]
  },
  {
   "cell_type": "code",
   "execution_count": 106,
   "id": "a77a674c",
   "metadata": {},
   "outputs": [
    {
     "name": "stdout",
     "output_type": "stream",
     "text": [
      "MSE: 4779.199351494688\n",
      "WMAPE: 59.47%\n"
     ]
    }
   ],
   "source": [
    "from sklearn.metrics import mean_squared_error, r2_score\n",
    "mse = mean_squared_error(y_test, pred)\n",
    "print('MSE:', mse)\n",
    "\n",
    "wmape=wmape(y_test, pred)\n",
    "print(\"WMAPE: {:.2%}\".format(wmape))"
   ]
  },
  {
   "cell_type": "code",
   "execution_count": null,
   "id": "424e463f",
   "metadata": {},
   "outputs": [],
   "source": []
  },
  {
   "cell_type": "code",
   "execution_count": null,
   "id": "d4f37c54",
   "metadata": {},
   "outputs": [],
   "source": []
  },
  {
   "cell_type": "code",
   "execution_count": null,
   "id": "b0dc9bd7",
   "metadata": {},
   "outputs": [],
   "source": []
  },
  {
   "cell_type": "markdown",
   "id": "7d775778",
   "metadata": {},
   "source": [
    "# Predict the claim by phone color\n",
    "\n",
    "> xgboost model"
   ]
  },
  {
   "cell_type": "code",
   "execution_count": 107,
   "id": "6c01818e",
   "metadata": {},
   "outputs": [
    {
     "name": "stdout",
     "output_type": "stream",
     "text": [
      "      claim  black  blue  gold  gray  green  purple  red  silver  white\n",
      "3027     14      1     0     0     0      0       0    0       0      0\n",
      "3028     43      1     0     0     0      0       0    0       0      0\n",
      "3029     57      1     0     0     0      0       0    0       0      0\n",
      "3030     65      1     0     0     0      0       0    0       0      0\n",
      "3031     59      1     0     0     0      0       0    0       0      0\n",
      "...     ...    ...   ...   ...   ...    ...     ...  ...     ...    ...\n",
      "6241      7      0     0     0     0      0       0    0       1      0\n",
      "6242      9      0     0     0     0      0       0    0       1      0\n",
      "6243      5      0     0     0     0      0       0    0       1      0\n",
      "6244      8      0     0     0     0      0       0    0       1      0\n",
      "6245     12      0     0     0     0      0       0    0       1      0\n",
      "\n",
      "[3219 rows x 10 columns]\n"
     ]
    }
   ],
   "source": [
    "import pandas as pd\n",
    "from sklearn.model_selection import train_test_split\n",
    "from sklearn.linear_model import LinearRegression\n",
    "\n",
    "# load the dataset\n",
    "df = pd.read_csv('/Users/xueyuanli/Desktop/DS-team/Asurion_data_iPhone_v3.csv')\n",
    "df=df[(df['phone_generation'] == 'iphone 12')]\n",
    "df=df[[ 'phone_color',  'claim' ]]\n",
    "#df['phone_size'] = df['phone_size'].str.replace('gb', '')\n",
    "\n",
    "\n",
    "# preprocess the data\n",
    "one_hot = pd.get_dummies(df['phone_color'])\n",
    "df = pd.concat([df, one_hot], axis=1)\n",
    "#df['phone_size'] = df['phone_size'].str.replace('gb', '').astype(float)\n",
    "\n",
    "df=df.drop(['phone_color'], axis=1)\n",
    "print(df)"
   ]
  },
  {
   "cell_type": "code",
   "execution_count": 108,
   "id": "e91b8ef2",
   "metadata": {},
   "outputs": [
    {
     "name": "stdout",
     "output_type": "stream",
     "text": [
      "The predicted claim volume for the new phone color is 86.86316680908203\n"
     ]
    }
   ],
   "source": [
    "# split the data into features and target\n",
    "X = df.drop('claim', axis=1)\n",
    "y = df['claim']\n",
    "\n",
    "# train a linear regression model\n",
    "#model = LinearRegression()\n",
    "\n",
    "import xgboost as xgb\n",
    "\n",
    "model=xgb.XGBRegressor()\n",
    "model.fit(X, y)\n",
    "\n",
    "# make a prediction for a new phone color (e.g. 'pink')\n",
    "new_color = pd.DataFrame({'black': 1, 'blue': 0, 'gold': 0, 'gray': 0,\n",
    "                           'green': 0, 'purple': 0, 'red': 0, 'silver': 0,\n",
    "                           'white': 0}, index=[0])\n",
    "prediction = model.predict(new_color)\n",
    "\n",
    "print(f\"The predicted claim volume for the new phone color is {prediction[0]}\")"
   ]
  },
  {
   "cell_type": "code",
   "execution_count": 109,
   "id": "8502c4cb",
   "metadata": {},
   "outputs": [
    {
     "name": "stdout",
     "output_type": "stream",
     "text": [
      "MSE: 5659.67\n",
      "RMSE: 75.23\n",
      "R-squared score: 0.28\n"
     ]
    }
   ],
   "source": [
    "# make predictions for the training data\n",
    "y_pred = model.predict(X)\n",
    "\n",
    "# compute the evaluation metrics\n",
    "mse = mean_squared_error(y, y_pred)\n",
    "rmse = mean_squared_error(y, y_pred, squared=False)\n",
    "r2 = r2_score(y, y_pred)\n",
    "\n",
    "print(f\"MSE: {mse:.2f}\")\n",
    "print(f\"RMSE: {rmse:.2f}\")\n",
    "print(f\"R-squared score: {r2:.2f}\")"
   ]
  },
  {
   "cell_type": "code",
   "execution_count": 110,
   "id": "66f8cf67",
   "metadata": {},
   "outputs": [],
   "source": [
    "def wmape(actual, forecast):\n",
    "    # we take two series and calculate an output a wmape from it, not to be used in a grouping function\n",
    "\n",
    "    # make a series called mape\n",
    "    se_mape = abs(actual-forecast)/actual\n",
    "\n",
    "    # get a float of the sum of the actual\n",
    "    ft_actual_sum = actual.sum()\n",
    "\n",
    "    # get a series of the multiple of the actual & the mape\n",
    "    se_actual_prod_mape = actual * se_mape\n",
    "\n",
    "    # summate the prod of the actual and the mape\n",
    "    ft_actual_prod_mape_sum = se_actual_prod_mape.sum()\n",
    "\n",
    "    # float: wmape of forecast\n",
    "    ft_wmape_forecast = ft_actual_prod_mape_sum / ft_actual_sum\n",
    "\n",
    "    # return a float\n",
    "    return ft_wmape_forecast\n",
    "\n",
    "\n",
    "\n"
   ]
  },
  {
   "cell_type": "code",
   "execution_count": 111,
   "id": "1606aa5e",
   "metadata": {},
   "outputs": [
    {
     "name": "stdout",
     "output_type": "stream",
     "text": [
      "WMAPE: 68.35%\n"
     ]
    }
   ],
   "source": [
    "wmape=wmape(y, y_pred)\n",
    "\n",
    "print(\"WMAPE: {:.2%}\".format(wmape))"
   ]
  },
  {
   "cell_type": "code",
   "execution_count": null,
   "id": "32bf1719",
   "metadata": {},
   "outputs": [],
   "source": []
  },
  {
   "cell_type": "code",
   "execution_count": null,
   "id": "08970da1",
   "metadata": {},
   "outputs": [],
   "source": []
  },
  {
   "cell_type": "markdown",
   "id": "2b2d0638",
   "metadata": {},
   "source": [
    "# Predict the claim by phone size\n",
    "\n",
    "> xgboost model"
   ]
  },
  {
   "cell_type": "code",
   "execution_count": 112,
   "id": "9d95da1a",
   "metadata": {},
   "outputs": [
    {
     "name": "stdout",
     "output_type": "stream",
     "text": [
      "      claim  128  256  512  64\n",
      "3027     14    1    0    0   0\n",
      "3028     43    1    0    0   0\n",
      "3029     57    1    0    0   0\n",
      "3030     65    1    0    0   0\n",
      "3031     59    1    0    0   0\n",
      "...     ...  ...  ...  ...  ..\n",
      "6241      7    0    0    1   0\n",
      "6242      9    0    0    1   0\n",
      "6243      5    0    0    1   0\n",
      "6244      8    0    0    1   0\n",
      "6245     12    0    0    1   0\n",
      "\n",
      "[3219 rows x 5 columns]\n"
     ]
    }
   ],
   "source": [
    "import pandas as pd\n",
    "from sklearn.model_selection import train_test_split\n",
    "from sklearn.linear_model import LinearRegression\n",
    "\n",
    "# load the dataset\n",
    "df = pd.read_csv('/Users/xueyuanli/Desktop/DS-team/Asurion_data_iPhone_v3.csv')\n",
    "df=df[(df['phone_generation'] == 'iphone 12')]\n",
    "df=df[[ 'phone_size',  'claim' ]]\n",
    "df['phone_size'] = df['phone_size'].str.replace('gb', '')\n",
    "\n",
    "\n",
    "# preprocess the data\n",
    "one_hot = pd.get_dummies(df['phone_size'])\n",
    "df = pd.concat([df, one_hot], axis=1)\n",
    "df['phone_size'] = df['phone_size'].str.replace('gb', '').astype(float)\n",
    "\n",
    "df=df.drop(['phone_size'], axis=1)\n",
    "print(df)"
   ]
  },
  {
   "cell_type": "code",
   "execution_count": 113,
   "id": "59c79078",
   "metadata": {},
   "outputs": [
    {
     "name": "stdout",
     "output_type": "stream",
     "text": [
      "The predicted claim volume for the new phone size is 90.40621185302734\n"
     ]
    }
   ],
   "source": [
    "# split the data into features and target\n",
    "X = df.drop('claim', axis=1)\n",
    "y = df['claim']\n",
    "\n",
    "# train a linear regression model\n",
    "#model = LinearRegression()\n",
    "model=xgb.XGBRegressor()\n",
    "model.fit(X, y)\n",
    "\n",
    "# make a prediction for a new phone color (e.g. 'pink')\n",
    "new_color = pd.DataFrame({'128': 1, '256': 0, '512': 0, '64': 0}, index=[0])\n",
    "prediction = model.predict(new_color)\n",
    "\n",
    "print(f\"The predicted claim volume for the new phone size is {prediction[0]}\")"
   ]
  },
  {
   "cell_type": "code",
   "execution_count": 114,
   "id": "6ea464df",
   "metadata": {},
   "outputs": [
    {
     "name": "stdout",
     "output_type": "stream",
     "text": [
      "MSE: 7519.19\n",
      "RMSE: 86.71\n",
      "R-squared score: 0.04\n"
     ]
    }
   ],
   "source": [
    "# make predictions for the training data\n",
    "y_pred = model.predict(X)\n",
    "\n",
    "# compute the evaluation metrics\n",
    "mse = mean_squared_error(y, y_pred)\n",
    "rmse = mean_squared_error(y, y_pred, squared=False)\n",
    "r2 = r2_score(y, y_pred)\n",
    "\n",
    "print(f\"MSE: {mse:.2f}\")\n",
    "print(f\"RMSE: {rmse:.2f}\")\n",
    "print(f\"R-squared score: {r2:.2f}\")"
   ]
  },
  {
   "cell_type": "code",
   "execution_count": 115,
   "id": "be520b6a",
   "metadata": {},
   "outputs": [],
   "source": [
    "def wmape(actual, forecast):\n",
    "    # we take two series and calculate an output a wmape from it, not to be used in a grouping function\n",
    "\n",
    "    # make a series called mape\n",
    "    se_mape = abs(actual-forecast)/actual\n",
    "\n",
    "    # get a float of the sum of the actual\n",
    "    ft_actual_sum = actual.sum()\n",
    "\n",
    "    # get a series of the multiple of the actual & the mape\n",
    "    se_actual_prod_mape = actual * se_mape\n",
    "\n",
    "    # summate the prod of the actual and the mape\n",
    "    ft_actual_prod_mape_sum = se_actual_prod_mape.sum()\n",
    "\n",
    "    # float: wmape of forecast\n",
    "    ft_wmape_forecast = ft_actual_prod_mape_sum / ft_actual_sum\n",
    "\n",
    "    # return a float\n",
    "    return ft_wmape_forecast\n",
    "\n",
    "\n"
   ]
  },
  {
   "cell_type": "code",
   "execution_count": 116,
   "id": "26164d0d",
   "metadata": {},
   "outputs": [
    {
     "name": "stdout",
     "output_type": "stream",
     "text": [
      "WMAPE: 81.28%\n"
     ]
    }
   ],
   "source": [
    "wmape=wmape(y, y_pred)\n",
    "\n",
    "print(\"WMAPE: {:.2%}\".format(wmape))"
   ]
  },
  {
   "cell_type": "code",
   "execution_count": null,
   "id": "73a9a326",
   "metadata": {},
   "outputs": [],
   "source": []
  },
  {
   "cell_type": "code",
   "execution_count": null,
   "id": "810a774e",
   "metadata": {},
   "outputs": [],
   "source": []
  },
  {
   "cell_type": "code",
   "execution_count": null,
   "id": "64383bf6",
   "metadata": {},
   "outputs": [],
   "source": []
  },
  {
   "cell_type": "markdown",
   "id": "54130386",
   "metadata": {},
   "source": [
    "# iphone 14\n",
    "> xgboost"
   ]
  },
  {
   "cell_type": "code",
   "execution_count": 144,
   "id": "de4f9f65",
   "metadata": {},
   "outputs": [
    {
     "name": "stdout",
     "output_type": "stream",
     "text": [
      "      claim  black  blue  gold  purple  red  silver  white\n",
      "7907      7      1     0     0       0    0       0      0\n",
      "7908     11      1     0     0       0    0       0      0\n",
      "7909     15      1     0     0       0    0       0      0\n",
      "7910     25      1     0     0       0    0       0      0\n",
      "7911     20      1     0     0       0    0       0      0\n",
      "...     ...    ...   ...   ...     ...  ...     ...    ...\n",
      "7970     50      0     0     1       0    0       0      0\n",
      "7971     18      0     0     1       0    0       0      0\n",
      "7972     68      0     0     0       1    0       0      0\n",
      "7973     24      0     0     0       1    0       0      0\n",
      "7974      1      0     0     0       0    0       1      0\n",
      "\n",
      "[68 rows x 8 columns]\n"
     ]
    }
   ],
   "source": [
    "import pandas as pd\n",
    "from sklearn.model_selection import train_test_split\n",
    "from sklearn.linear_model import LinearRegression\n",
    "\n",
    "# load the dataset\n",
    "df = pd.read_csv('/Users/xueyuanli/Desktop/DS-team/Asurion_data_iPhone_v3.csv')\n",
    "df=df[(df['phone_generation'] == 'iphone 14')]\n",
    "df=df[[ 'phone_color',  'claim' ]]\n",
    "\n",
    "# preprocess the data\n",
    "one_hot = pd.get_dummies(df['phone_color'])\n",
    "df = pd.concat([df, one_hot], axis=1)\n",
    "#df['phone_size'] = df['phone_size'].str.replace('gb', '').astype(float)\n",
    "\n",
    "df=df.drop(['phone_color'], axis=1)\n",
    "print(df)"
   ]
  },
  {
   "cell_type": "code",
   "execution_count": 145,
   "id": "297e4144",
   "metadata": {},
   "outputs": [
    {
     "data": {
      "text/plain": [
       "XGBRegressor(base_score=None, booster=None, callbacks=None,\n",
       "             colsample_bylevel=None, colsample_bynode=None,\n",
       "             colsample_bytree=None, early_stopping_rounds=None,\n",
       "             enable_categorical=False, eval_metric=None, feature_types=None,\n",
       "             gamma=None, gpu_id=None, grow_policy=None, importance_type=None,\n",
       "             interaction_constraints=None, learning_rate=None, max_bin=None,\n",
       "             max_cat_threshold=None, max_cat_to_onehot=None,\n",
       "             max_delta_step=None, max_depth=None, max_leaves=None,\n",
       "             min_child_weight=None, missing=nan, monotone_constraints=None,\n",
       "             n_estimators=100, n_jobs=None, num_parallel_tree=None,\n",
       "             predictor=None, random_state=None, ...)"
      ]
     },
     "execution_count": 145,
     "metadata": {},
     "output_type": "execute_result"
    }
   ],
   "source": [
    "# split the data into features and target\n",
    "X = df.drop('claim', axis=1)\n",
    "y = df['claim']\n",
    "\n",
    "# train a linear regression model\n",
    "model=xgb.XGBRegressor()\n",
    "#model=RandomForestRegressor()\n",
    "#model = LinearRegression()\n",
    "model.fit(X, y)\n"
   ]
  },
  {
   "cell_type": "code",
   "execution_count": 146,
   "id": "4cc82213",
   "metadata": {},
   "outputs": [
    {
     "name": "stdout",
     "output_type": "stream",
     "text": [
      "MSE: 145.09\n",
      "RMSE: 12.05\n",
      "R-squared score: 0.33\n"
     ]
    }
   ],
   "source": [
    "# make predictions for the training data\n",
    "y_pred = model.predict(X)\n",
    "\n",
    "# compute the evaluation metrics\n",
    "mse = mean_squared_error(y, y_pred)\n",
    "rmse = mean_squared_error(y, y_pred, squared=False)\n",
    "r2 = r2_score(y, y_pred)\n",
    "\n",
    "print(f\"MSE: {mse:.2f}\")\n",
    "print(f\"RMSE: {rmse:.2f}\")\n",
    "print(f\"R-squared score: {r2:.2f}\")"
   ]
  },
  {
   "cell_type": "code",
   "execution_count": 147,
   "id": "5395f16b",
   "metadata": {},
   "outputs": [],
   "source": [
    "def wmape(actual, forecast):\n",
    "    # we take two series and calculate an output a wmape from it, not to be used in a grouping function\n",
    "\n",
    "    # make a series called mape\n",
    "    se_mape = abs(actual-forecast)/actual\n",
    "\n",
    "    # get a float of the sum of the actual\n",
    "    ft_actual_sum = actual.sum()\n",
    "\n",
    "    # get a series of the multiple of the actual & the mape\n",
    "    se_actual_prod_mape = actual * se_mape\n",
    "\n",
    "    # summate the prod of the actual and the mape\n",
    "    ft_actual_prod_mape_sum = se_actual_prod_mape.sum()\n",
    "\n",
    "    # float: wmape of forecast\n",
    "    ft_wmape_forecast = ft_actual_prod_mape_sum / ft_actual_sum\n",
    "\n",
    "    # return a float\n",
    "    return ft_wmape_forecast\n",
    "\n"
   ]
  },
  {
   "cell_type": "code",
   "execution_count": 148,
   "id": "c09f3983",
   "metadata": {},
   "outputs": [
    {
     "name": "stdout",
     "output_type": "stream",
     "text": [
      "WMAPE: 65.47%\n"
     ]
    }
   ],
   "source": [
    "wmape=wmape(y, y_pred)\n",
    "\n",
    "print(\"WMAPE: {:.2%}\".format(wmape))"
   ]
  },
  {
   "cell_type": "code",
   "execution_count": null,
   "id": "db6754b1",
   "metadata": {},
   "outputs": [],
   "source": []
  }
 ],
 "metadata": {
  "kernelspec": {
   "display_name": "Python 3 (ipykernel)",
   "language": "python",
   "name": "python3"
  },
  "language_info": {
   "codemirror_mode": {
    "name": "ipython",
    "version": 3
   },
   "file_extension": ".py",
   "mimetype": "text/x-python",
   "name": "python",
   "nbconvert_exporter": "python",
   "pygments_lexer": "ipython3",
   "version": "3.9.12"
  }
 },
 "nbformat": 4,
 "nbformat_minor": 5
}
