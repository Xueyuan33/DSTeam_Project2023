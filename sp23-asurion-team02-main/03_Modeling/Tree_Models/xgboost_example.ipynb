{
 "cells": [
  {
   "cell_type": "code",
   "execution_count": 2,
   "id": "5154fe54",
   "metadata": {},
   "outputs": [
    {
     "data": {
      "text/plain": [
       "<AxesSubplot:xlabel='weeks_monday'>"
      ]
     },
     "execution_count": 2,
     "metadata": {},
     "output_type": "execute_result"
    },
    {
     "data": {
      "image/png": "[encoded data removed]",
      "text/plain": [
       "<Figure size 432x288 with 1 Axes>"
      ]
     },
     "metadata": {
      "needs_background": "light"
     },
     "output_type": "display_data"
    }
   ],
   "source": [
    "# Import necessary libraries\n",
    "import pandas as pd\n",
    "import numpy as np\n",
    "import matplotlib.pyplot as plt\n",
    "from statsmodels.tsa.arima.model import ARIMA\n",
    "from sklearn.model_selection import train_test_split\n",
    "\n",
    "# Load the iPhone 12 dataset\n",
    "df_iphone12  = pd.read_csv('/Users/xueyuanli/Desktop/DS-team/Asurion_data_iPhone_v3.csv', parse_dates=['weeks_monday','month_year'])\n",
    "df_iphone12 = df_iphone12[df_iphone12['phone_generation'] == 'iphone 12']\n",
    "df_iphone12 = df_iphone12.groupby(['weeks_monday'])['claim'].sum().reset_index()\n",
    "df_iphone12 = df_iphone12.sort_values(by='weeks_monday')\n",
    "df_iphone12.set_index('weeks_monday', inplace=True)\n",
    "df_iphone12\n",
    "\n",
    "## first and last week abnormally low so drop\n",
    "df_iphone12= df_iphone12.drop(df_iphone12.index[-1])\n",
    "df_iphone12=df_iphone12.drop(df_iphone12.index[0])\n",
    "\n",
    "df_iphone12.plot()\n",
    "\n",
    "\n"
   ]
  },
  {
   "cell_type": "code",
   "execution_count": 3,
   "id": "efed639e",
   "metadata": {},
   "outputs": [
    {
     "name": "stdout",
     "output_type": "stream",
     "text": [
      "               phone_model phone_generation phone_size phone_color  claim  \\\n",
      "0          apple iphone 11        iphone 11      128gb       black    111   \n",
      "1          apple iphone 11        iphone 11      128gb       black    319   \n",
      "2          apple iphone 11        iphone 11      128gb       black    320   \n",
      "3          apple iphone 11        iphone 11      128gb       black    305   \n",
      "4          apple iphone 11        iphone 11      128gb       black    269   \n",
      "...                    ...              ...        ...         ...    ...   \n",
      "17874  apple iphone xs max         iphone x       64gb      silver     18   \n",
      "17875  apple iphone xs max         iphone x       64gb      silver     19   \n",
      "17876  apple iphone xs max         iphone x       64gb      silver     14   \n",
      "17877  apple iphone xs max         iphone x       64gb      silver     13   \n",
      "17878  apple iphone xs max         iphone x       64gb      silver      1   \n",
      "\n",
      "      weeks_monday  month  year month_year  \n",
      "0       2021-06-28      6  2021 2021-06-01  \n",
      "1       2021-07-05      7  2021 2021-07-01  \n",
      "2       2021-07-12      7  2021 2021-07-01  \n",
      "3       2021-07-19      7  2021 2021-07-01  \n",
      "4       2021-07-26      7  2021 2021-07-01  \n",
      "...            ...    ...   ...        ...  \n",
      "17874   2023-01-16      1  2023 2023-01-01  \n",
      "17875   2023-01-23      1  2023 2023-01-01  \n",
      "17876   2023-01-30      1  2023 2023-01-01  \n",
      "17877   2023-02-06      2  2023 2023-02-01  \n",
      "17878   2023-02-13      2  2023 2023-02-01  \n",
      "\n",
      "[17879 rows x 9 columns]\n"
     ]
    }
   ],
   "source": [
    "df= pd.read_csv('/Users/xueyuanli/Desktop/DS-team/Asurion_data_iPhone_v3.csv', parse_dates=['weeks_monday','month_year'])\n",
    "print(df)\n"
   ]
  },
  {
   "cell_type": "code",
   "execution_count": 4,
   "id": "608f6b81",
   "metadata": {},
   "outputs": [
    {
     "name": "stdout",
     "output_type": "stream",
     "text": [
      "                      phone_model phone_generation phone_size phone_color  \\\n",
      "weeks_monday                                                                \n",
      "2021-06-28        apple iphone 11        iphone 11      128gb       black   \n",
      "2021-07-05        apple iphone 11        iphone 11      128gb       black   \n",
      "2021-07-12        apple iphone 11        iphone 11      128gb       black   \n",
      "2021-07-19        apple iphone 11        iphone 11      128gb       black   \n",
      "2021-07-26        apple iphone 11        iphone 11      128gb       black   \n",
      "...                           ...              ...        ...         ...   \n",
      "2023-01-16    apple iphone xs max         iphone x       64gb      silver   \n",
      "2023-01-23    apple iphone xs max         iphone x       64gb      silver   \n",
      "2023-01-30    apple iphone xs max         iphone x       64gb      silver   \n",
      "2023-02-06    apple iphone xs max         iphone x       64gb      silver   \n",
      "2023-02-13    apple iphone xs max         iphone x       64gb      silver   \n",
      "\n",
      "              claim  month  year month_year  \n",
      "weeks_monday                                 \n",
      "2021-06-28      111      6  2021 2021-06-01  \n",
      "2021-07-05      319      7  2021 2021-07-01  \n",
      "2021-07-12      320      7  2021 2021-07-01  \n",
      "2021-07-19      305      7  2021 2021-07-01  \n",
      "2021-07-26      269      7  2021 2021-07-01  \n",
      "...             ...    ...   ...        ...  \n",
      "2023-01-16       18      1  2023 2023-01-01  \n",
      "2023-01-23       19      1  2023 2023-01-01  \n",
      "2023-01-30       14      1  2023 2023-01-01  \n",
      "2023-02-06       13      2  2023 2023-02-01  \n",
      "2023-02-13        1      2  2023 2023-02-01  \n",
      "\n",
      "[17879 rows x 8 columns]\n"
     ]
    }
   ],
   "source": [
    "df=df.set_index('weeks_monday')\n",
    "df.index=pd.to_datetime(df.index)\n",
    "print(df)"
   ]
  },
  {
   "cell_type": "code",
   "execution_count": 5,
   "id": "4bd6db7d",
   "metadata": {},
   "outputs": [
    {
     "data": {
      "text/plain": [
       "array(['apple iphone 11', 'apple iphone 11 pro',\n",
       "       'apple iphone 11 pro max', 'apple iphone 12',\n",
       "       'apple iphone 12 mini', 'apple iphone 12 pro',\n",
       "       'apple iphone 12 pro max', 'apple iphone 13',\n",
       "       'apple iphone 13 mini', 'apple iphone 13 pro',\n",
       "       'apple iphone 13 pro max', 'apple iphone 14',\n",
       "       'apple iphone 14 pro max', 'apple iphone 3g s', 'apple iphone 4',\n",
       "       'apple iphone 4s', 'apple iphone 5', 'apple iphone 5c',\n",
       "       'apple iphone 5s', 'apple iphone 6', 'apple iphone 6 plus',\n",
       "       'apple iphone 6s', 'apple iphone 6s plus', 'apple iphone 7',\n",
       "       'apple iphone 7 plus', 'apple iphone 8', 'apple iphone 8 plus',\n",
       "       'apple iphone se', 'apple iphone se 2020', 'apple iphone se 2022',\n",
       "       'apple iphone x', 'apple iphone xr', 'apple iphone xs',\n",
       "       'apple iphone xs max'], dtype=object)"
      ]
     },
     "metadata": {},
     "output_type": "display_data"
    },
    {
     "name": "stdout",
     "output_type": "stream",
     "text": [
      "34\n"
     ]
    }
   ],
   "source": [
    "display(df['phone_model'].unique())\n",
    "\n",
    "print(df['phone_model'].nunique())"
   ]
  },
  {
   "cell_type": "code",
   "execution_count": 6,
   "id": "6e999526",
   "metadata": {},
   "outputs": [
    {
     "data": {
      "text/plain": [
       "apple    17879\n",
       "Name: brand, dtype: int64"
      ]
     },
     "execution_count": 6,
     "metadata": {},
     "output_type": "execute_result"
    }
   ],
   "source": [
    "df['brand']=df['phone_model'].str.split().str[0]\n",
    "df['brand'].value_counts()"
   ]
  },
  {
   "cell_type": "code",
   "execution_count": 7,
   "id": "8cdb6038",
   "metadata": {},
   "outputs": [
    {
     "name": "stdout",
     "output_type": "stream",
     "text": [
      "['apple']\n",
      "(1,)\n"
     ]
    }
   ],
   "source": [
    "a=df['brand'].value_counts()[:4].index.values\n",
    "print(a)\n",
    "\n",
    "print(a.shape)"
   ]
  },
  {
   "cell_type": "code",
   "execution_count": 12,
   "id": "0b6b3979",
   "metadata": {},
   "outputs": [
    {
     "name": "stdout",
     "output_type": "stream",
     "text": [
      "apple iphone 11\n"
     ]
    },
    {
     "ename": "UnboundLocalError",
     "evalue": "local variable 'storage' referenced before assignment",
     "output_type": "error",
     "traceback": [
      "\u001b[0;31m---------------------------------------------------------------------------\u001b[0m",
      "\u001b[0;31mUnboundLocalError\u001b[0m                         Traceback (most recent call last)",
      "Input \u001b[0;32mIn [12]\u001b[0m, in \u001b[0;36m<cell line: 29>\u001b[0;34m()\u001b[0m\n\u001b[1;32m     14\u001b[0m models\u001b[38;5;241m=\u001b[39m[\u001b[38;5;124m'\u001b[39m\u001b[38;5;124mapple iphone 11\u001b[39m\u001b[38;5;124m'\u001b[39m, \u001b[38;5;124m'\u001b[39m\u001b[38;5;124mapple iphone 11 pro\u001b[39m\u001b[38;5;124m'\u001b[39m,\n\u001b[1;32m     15\u001b[0m        \u001b[38;5;124m'\u001b[39m\u001b[38;5;124mapple iphone 11 pro max\u001b[39m\u001b[38;5;124m'\u001b[39m, \u001b[38;5;124m'\u001b[39m\u001b[38;5;124mapple iphone 12\u001b[39m\u001b[38;5;124m'\u001b[39m,\n\u001b[1;32m     16\u001b[0m        \u001b[38;5;124m'\u001b[39m\u001b[38;5;124mapple iphone 12 mini\u001b[39m\u001b[38;5;124m'\u001b[39m, \u001b[38;5;124m'\u001b[39m\u001b[38;5;124mapple iphone 12 pro\u001b[39m\u001b[38;5;124m'\u001b[39m,\n\u001b[0;32m   (...)\u001b[0m\n\u001b[1;32m     26\u001b[0m        \u001b[38;5;124m'\u001b[39m\u001b[38;5;124mapple iphone x\u001b[39m\u001b[38;5;124m'\u001b[39m, \u001b[38;5;124m'\u001b[39m\u001b[38;5;124mapple iphone xr\u001b[39m\u001b[38;5;124m'\u001b[39m, \u001b[38;5;124m'\u001b[39m\u001b[38;5;124mapple iphone xs\u001b[39m\u001b[38;5;124m'\u001b[39m,\n\u001b[1;32m     27\u001b[0m        \u001b[38;5;124m'\u001b[39m\u001b[38;5;124mapple iphone xs max\u001b[39m\u001b[38;5;124m'\u001b[39m]\n\u001b[1;32m     29\u001b[0m \u001b[38;5;28;01mfor\u001b[39;00m m \u001b[38;5;129;01min\u001b[39;00m models:\n\u001b[0;32m---> 30\u001b[0m     \u001b[38;5;28mprint\u001b[39m(\u001b[43mprocess_model_name\u001b[49m\u001b[43m(\u001b[49m\u001b[43mm\u001b[49m\u001b[43m)\u001b[49m)\n",
      "Input \u001b[0;32mIn [12]\u001b[0m, in \u001b[0;36mprocess_model_name\u001b[0;34m(m)\u001b[0m\n\u001b[1;32m      8\u001b[0m \u001b[38;5;28;01mdef\u001b[39;00m \u001b[38;5;21mprocess_model_name\u001b[39m(m):\n\u001b[1;32m      9\u001b[0m     model_last_part\u001b[38;5;241m=\u001b[39mm\u001b[38;5;241m.\u001b[39msplit()[\u001b[38;5;241m-\u001b[39m\u001b[38;5;241m1\u001b[39m]\n\u001b[0;32m---> 10\u001b[0m     \u001b[38;5;28;01mif\u001b[39;00m \u001b[43mis_storage_size\u001b[49m\u001b[43m(\u001b[49m\u001b[43mmodel_last_part\u001b[49m\u001b[43m)\u001b[49m:\n\u001b[1;32m     11\u001b[0m         \u001b[38;5;28;01mreturn\u001b[39;00m m\u001b[38;5;241m.\u001b[39mreplace(model_last_part,\u001b[38;5;124m'\u001b[39m\u001b[38;5;124m'\u001b[39m)\n\u001b[1;32m     12\u001b[0m     \u001b[38;5;28;01mreturn\u001b[39;00m m\n",
      "Input \u001b[0;32mIn [12]\u001b[0m, in \u001b[0;36mis_storage_size\u001b[0;34m(s)\u001b[0m\n\u001b[1;32m      2\u001b[0m \u001b[38;5;28;01mif\u001b[39;00m s\u001b[38;5;241m.\u001b[39misdigit() \u001b[38;5;129;01mand\u001b[39;00m \u001b[38;5;241m2\u001b[39m\u001b[38;5;241m<\u001b[39m\u001b[38;5;241m=\u001b[39m\u001b[38;5;28mlen\u001b[39m(s)\u001b[38;5;241m<\u001b[39m\u001b[38;5;241m=\u001b[39m\u001b[38;5;241m3\u001b[39m:\n\u001b[1;32m      3\u001b[0m     storage\u001b[38;5;241m=\u001b[39m\u001b[38;5;28mint\u001b[39m(s)\n\u001b[0;32m----> 4\u001b[0m \u001b[38;5;28;01mif\u001b[39;00m \u001b[43mstorage\u001b[49m \u001b[38;5;241m&\u001b[39m (storage\u001b[38;5;241m-\u001b[39m\u001b[38;5;241m1\u001b[39m) \u001b[38;5;241m==\u001b[39m\u001b[38;5;241m0\u001b[39m:\n\u001b[1;32m      5\u001b[0m     \u001b[38;5;28;01mreturn\u001b[39;00m \u001b[38;5;28;01mTrue\u001b[39;00m\n\u001b[1;32m      6\u001b[0m \u001b[38;5;28;01mreturn\u001b[39;00m \u001b[38;5;28;01mFalse\u001b[39;00m\n",
      "\u001b[0;31mUnboundLocalError\u001b[0m: local variable 'storage' referenced before assignment"
     ]
    }
   ],
   "source": [
    "def is_storage_size(s):\n",
    "    if s.isdigit() and 2<=len(s)<=3:\n",
    "        storage=int(s)\n",
    "    if storage & (storage-1) ==0:\n",
    "        return True\n",
    "    return False\n",
    "\n",
    "def process_model_name(m):\n",
    "    model_last_part=m.split()[-1]\n",
    "    if is_storage_size(model_last_part):\n",
    "        return m.replace(model_last_part,'')\n",
    "    return m\n",
    "\n",
    "models=['apple iphone 11', 'apple iphone 11 pro',\n",
    "       'apple iphone 11 pro max', 'apple iphone 12',\n",
    "       'apple iphone 12 mini', 'apple iphone 12 pro',\n",
    "       'apple iphone 12 pro max', 'apple iphone 13',\n",
    "       'apple iphone 13 mini', 'apple iphone 13 pro',\n",
    "       'apple iphone 13 pro max', 'apple iphone 14',\n",
    "       'apple iphone 14 pro max', 'apple iphone 3g s', 'apple iphone 4',\n",
    "       'apple iphone 4s', 'apple iphone 5', 'apple iphone 5c',\n",
    "       'apple iphone 5s', 'apple iphone 6', 'apple iphone 6 plus',\n",
    "       'apple iphone 6s', 'apple iphone 6s plus', 'apple iphone 7',\n",
    "       'apple iphone 7 plus', 'apple iphone 8', 'apple iphone 8 plus',\n",
    "       'apple iphone se', 'apple iphone se 2020', 'apple iphone se 2022',\n",
    "       'apple iphone x', 'apple iphone xr', 'apple iphone xs',\n",
    "       'apple iphone xs max']\n",
    "\n",
    "for m in models:\n",
    "    print(process_model_name(m))\n"
   ]
  },
  {
   "cell_type": "code",
   "execution_count": 13,
   "id": "65bd01e4",
   "metadata": {},
   "outputs": [
    {
     "ename": "UnboundLocalError",
     "evalue": "local variable 'storage' referenced before assignment",
     "output_type": "error",
     "traceback": [
      "\u001b[0;31m---------------------------------------------------------------------------\u001b[0m",
      "\u001b[0;31mUnboundLocalError\u001b[0m                         Traceback (most recent call last)",
      "Input \u001b[0;32mIn [13]\u001b[0m, in \u001b[0;36m<cell line: 2>\u001b[0;34m()\u001b[0m\n\u001b[1;32m      1\u001b[0m df[\u001b[38;5;124m'\u001b[39m\u001b[38;5;124mtemp_size\u001b[39m\u001b[38;5;124m'\u001b[39m]\u001b[38;5;241m=\u001b[39mdf[\u001b[38;5;124m'\u001b[39m\u001b[38;5;124mphone_model\u001b[39m\u001b[38;5;124m'\u001b[39m]\u001b[38;5;241m.\u001b[39mstr\u001b[38;5;241m.\u001b[39msplit()\u001b[38;5;241m.\u001b[39mstr[\u001b[38;5;241m-\u001b[39m\u001b[38;5;241m1\u001b[39m]\n\u001b[0;32m----> 2\u001b[0m df[\u001b[38;5;124m'\u001b[39m\u001b[38;5;124mmodle\u001b[39m\u001b[38;5;124m'\u001b[39m]\u001b[38;5;241m=\u001b[39m\u001b[43mdf\u001b[49m\u001b[43m[\u001b[49m\u001b[38;5;124;43m'\u001b[39;49m\u001b[38;5;124;43mphone_model\u001b[39;49m\u001b[38;5;124;43m'\u001b[39;49m\u001b[43m]\u001b[49m\u001b[38;5;241;43m.\u001b[39;49m\u001b[43mapply\u001b[49m\u001b[43m(\u001b[49m\u001b[43mprocess_model_name\u001b[49m\u001b[43m)\u001b[49m\n\u001b[1;32m      3\u001b[0m df\u001b[38;5;241m.\u001b[39mdrop(\u001b[38;5;124m'\u001b[39m\u001b[38;5;124mphone_model\u001b[39m\u001b[38;5;124m'\u001b[39m)\n",
      "File \u001b[0;32m~/opt/anaconda3/lib/python3.9/site-packages/pandas/core/series.py:4433\u001b[0m, in \u001b[0;36mSeries.apply\u001b[0;34m(self, func, convert_dtype, args, **kwargs)\u001b[0m\n\u001b[1;32m   4323\u001b[0m \u001b[38;5;28;01mdef\u001b[39;00m \u001b[38;5;21mapply\u001b[39m(\n\u001b[1;32m   4324\u001b[0m     \u001b[38;5;28mself\u001b[39m,\n\u001b[1;32m   4325\u001b[0m     func: AggFuncType,\n\u001b[0;32m   (...)\u001b[0m\n\u001b[1;32m   4328\u001b[0m     \u001b[38;5;241m*\u001b[39m\u001b[38;5;241m*\u001b[39mkwargs,\n\u001b[1;32m   4329\u001b[0m ) \u001b[38;5;241m-\u001b[39m\u001b[38;5;241m>\u001b[39m DataFrame \u001b[38;5;241m|\u001b[39m Series:\n\u001b[1;32m   4330\u001b[0m     \u001b[38;5;124;03m\"\"\"\u001b[39;00m\n\u001b[1;32m   4331\u001b[0m \u001b[38;5;124;03m    Invoke function on values of Series.\u001b[39;00m\n\u001b[1;32m   4332\u001b[0m \n\u001b[0;32m   (...)\u001b[0m\n\u001b[1;32m   4431\u001b[0m \u001b[38;5;124;03m    dtype: float64\u001b[39;00m\n\u001b[1;32m   4432\u001b[0m \u001b[38;5;124;03m    \"\"\"\u001b[39;00m\n\u001b[0;32m-> 4433\u001b[0m     \u001b[38;5;28;01mreturn\u001b[39;00m \u001b[43mSeriesApply\u001b[49m\u001b[43m(\u001b[49m\u001b[38;5;28;43mself\u001b[39;49m\u001b[43m,\u001b[49m\u001b[43m \u001b[49m\u001b[43mfunc\u001b[49m\u001b[43m,\u001b[49m\u001b[43m \u001b[49m\u001b[43mconvert_dtype\u001b[49m\u001b[43m,\u001b[49m\u001b[43m \u001b[49m\u001b[43margs\u001b[49m\u001b[43m,\u001b[49m\u001b[43m \u001b[49m\u001b[43mkwargs\u001b[49m\u001b[43m)\u001b[49m\u001b[38;5;241;43m.\u001b[39;49m\u001b[43mapply\u001b[49m\u001b[43m(\u001b[49m\u001b[43m)\u001b[49m\n",
      "File \u001b[0;32m~/opt/anaconda3/lib/python3.9/site-packages/pandas/core/apply.py:1082\u001b[0m, in \u001b[0;36mSeriesApply.apply\u001b[0;34m(self)\u001b[0m\n\u001b[1;32m   1078\u001b[0m \u001b[38;5;28;01mif\u001b[39;00m \u001b[38;5;28misinstance\u001b[39m(\u001b[38;5;28mself\u001b[39m\u001b[38;5;241m.\u001b[39mf, \u001b[38;5;28mstr\u001b[39m):\n\u001b[1;32m   1079\u001b[0m     \u001b[38;5;66;03m# if we are a string, try to dispatch\u001b[39;00m\n\u001b[1;32m   1080\u001b[0m     \u001b[38;5;28;01mreturn\u001b[39;00m \u001b[38;5;28mself\u001b[39m\u001b[38;5;241m.\u001b[39mapply_str()\n\u001b[0;32m-> 1082\u001b[0m \u001b[38;5;28;01mreturn\u001b[39;00m \u001b[38;5;28;43mself\u001b[39;49m\u001b[38;5;241;43m.\u001b[39;49m\u001b[43mapply_standard\u001b[49m\u001b[43m(\u001b[49m\u001b[43m)\u001b[49m\n",
      "File \u001b[0;32m~/opt/anaconda3/lib/python3.9/site-packages/pandas/core/apply.py:1137\u001b[0m, in \u001b[0;36mSeriesApply.apply_standard\u001b[0;34m(self)\u001b[0m\n\u001b[1;32m   1131\u001b[0m         values \u001b[38;5;241m=\u001b[39m obj\u001b[38;5;241m.\u001b[39mastype(\u001b[38;5;28mobject\u001b[39m)\u001b[38;5;241m.\u001b[39m_values\n\u001b[1;32m   1132\u001b[0m         \u001b[38;5;66;03m# error: Argument 2 to \"map_infer\" has incompatible type\u001b[39;00m\n\u001b[1;32m   1133\u001b[0m         \u001b[38;5;66;03m# \"Union[Callable[..., Any], str, List[Union[Callable[..., Any], str]],\u001b[39;00m\n\u001b[1;32m   1134\u001b[0m         \u001b[38;5;66;03m# Dict[Hashable, Union[Union[Callable[..., Any], str],\u001b[39;00m\n\u001b[1;32m   1135\u001b[0m         \u001b[38;5;66;03m# List[Union[Callable[..., Any], str]]]]]\"; expected\u001b[39;00m\n\u001b[1;32m   1136\u001b[0m         \u001b[38;5;66;03m# \"Callable[[Any], Any]\"\u001b[39;00m\n\u001b[0;32m-> 1137\u001b[0m         mapped \u001b[38;5;241m=\u001b[39m \u001b[43mlib\u001b[49m\u001b[38;5;241;43m.\u001b[39;49m\u001b[43mmap_infer\u001b[49m\u001b[43m(\u001b[49m\n\u001b[1;32m   1138\u001b[0m \u001b[43m            \u001b[49m\u001b[43mvalues\u001b[49m\u001b[43m,\u001b[49m\n\u001b[1;32m   1139\u001b[0m \u001b[43m            \u001b[49m\u001b[43mf\u001b[49m\u001b[43m,\u001b[49m\u001b[43m  \u001b[49m\u001b[38;5;66;43;03m# type: ignore[arg-type]\u001b[39;49;00m\n\u001b[1;32m   1140\u001b[0m \u001b[43m            \u001b[49m\u001b[43mconvert\u001b[49m\u001b[38;5;241;43m=\u001b[39;49m\u001b[38;5;28;43mself\u001b[39;49m\u001b[38;5;241;43m.\u001b[39;49m\u001b[43mconvert_dtype\u001b[49m\u001b[43m,\u001b[49m\n\u001b[1;32m   1141\u001b[0m \u001b[43m        \u001b[49m\u001b[43m)\u001b[49m\n\u001b[1;32m   1143\u001b[0m \u001b[38;5;28;01mif\u001b[39;00m \u001b[38;5;28mlen\u001b[39m(mapped) \u001b[38;5;129;01mand\u001b[39;00m \u001b[38;5;28misinstance\u001b[39m(mapped[\u001b[38;5;241m0\u001b[39m], ABCSeries):\n\u001b[1;32m   1144\u001b[0m     \u001b[38;5;66;03m# GH#43986 Need to do list(mapped) in order to get treated as nested\u001b[39;00m\n\u001b[1;32m   1145\u001b[0m     \u001b[38;5;66;03m#  See also GH#25959 regarding EA support\u001b[39;00m\n\u001b[1;32m   1146\u001b[0m     \u001b[38;5;28;01mreturn\u001b[39;00m obj\u001b[38;5;241m.\u001b[39m_constructor_expanddim(\u001b[38;5;28mlist\u001b[39m(mapped), index\u001b[38;5;241m=\u001b[39mobj\u001b[38;5;241m.\u001b[39mindex)\n",
      "File \u001b[0;32m~/opt/anaconda3/lib/python3.9/site-packages/pandas/_libs/lib.pyx:2870\u001b[0m, in \u001b[0;36mpandas._libs.lib.map_infer\u001b[0;34m()\u001b[0m\n",
      "Input \u001b[0;32mIn [12]\u001b[0m, in \u001b[0;36mprocess_model_name\u001b[0;34m(m)\u001b[0m\n\u001b[1;32m      8\u001b[0m \u001b[38;5;28;01mdef\u001b[39;00m \u001b[38;5;21mprocess_model_name\u001b[39m(m):\n\u001b[1;32m      9\u001b[0m     model_last_part\u001b[38;5;241m=\u001b[39mm\u001b[38;5;241m.\u001b[39msplit()[\u001b[38;5;241m-\u001b[39m\u001b[38;5;241m1\u001b[39m]\n\u001b[0;32m---> 10\u001b[0m     \u001b[38;5;28;01mif\u001b[39;00m \u001b[43mis_storage_size\u001b[49m\u001b[43m(\u001b[49m\u001b[43mmodel_last_part\u001b[49m\u001b[43m)\u001b[49m:\n\u001b[1;32m     11\u001b[0m         \u001b[38;5;28;01mreturn\u001b[39;00m m\u001b[38;5;241m.\u001b[39mreplace(model_last_part,\u001b[38;5;124m'\u001b[39m\u001b[38;5;124m'\u001b[39m)\n\u001b[1;32m     12\u001b[0m     \u001b[38;5;28;01mreturn\u001b[39;00m m\n",
      "Input \u001b[0;32mIn [12]\u001b[0m, in \u001b[0;36mis_storage_size\u001b[0;34m(s)\u001b[0m\n\u001b[1;32m      2\u001b[0m \u001b[38;5;28;01mif\u001b[39;00m s\u001b[38;5;241m.\u001b[39misdigit() \u001b[38;5;129;01mand\u001b[39;00m \u001b[38;5;241m2\u001b[39m\u001b[38;5;241m<\u001b[39m\u001b[38;5;241m=\u001b[39m\u001b[38;5;28mlen\u001b[39m(s)\u001b[38;5;241m<\u001b[39m\u001b[38;5;241m=\u001b[39m\u001b[38;5;241m3\u001b[39m:\n\u001b[1;32m      3\u001b[0m     storage\u001b[38;5;241m=\u001b[39m\u001b[38;5;28mint\u001b[39m(s)\n\u001b[0;32m----> 4\u001b[0m \u001b[38;5;28;01mif\u001b[39;00m \u001b[43mstorage\u001b[49m \u001b[38;5;241m&\u001b[39m (storage\u001b[38;5;241m-\u001b[39m\u001b[38;5;241m1\u001b[39m) \u001b[38;5;241m==\u001b[39m\u001b[38;5;241m0\u001b[39m:\n\u001b[1;32m      5\u001b[0m     \u001b[38;5;28;01mreturn\u001b[39;00m \u001b[38;5;28;01mTrue\u001b[39;00m\n\u001b[1;32m      6\u001b[0m \u001b[38;5;28;01mreturn\u001b[39;00m \u001b[38;5;28;01mFalse\u001b[39;00m\n",
      "\u001b[0;31mUnboundLocalError\u001b[0m: local variable 'storage' referenced before assignment"
     ]
    }
   ],
   "source": [
    "df['temp_size']=df['phone_model'].str.split().str[-1]\n",
    "df['modle']=df['phone_model'].apply(process_model_name)\n",
    "df.drop('phone_model')"
   ]
  },
  {
   "cell_type": "code",
   "execution_count": null,
   "id": "dd168db9",
   "metadata": {},
   "outputs": [],
   "source": [
    "def replace(row):\n",
    "    if row['phone size']=='gb ' and is_storage_size(row['temp_size']):\n",
    "        return row['temp_size']\n",
    "    return row['phone_size'].replace('gb','')\n",
    "\n",
    "df['phone_size']=df.apply(replace,axis=1)\n",
    "df.drop('phone_size')\n"
   ]
  },
  {
   "cell_type": "code",
   "execution_count": null,
   "id": "b5983d67",
   "metadata": {},
   "outputs": [],
   "source": [
    "df_11=df_11.sort_index(ascending=True)\n",
    "\n",
    "df_11['generation']=df_11['model'].str.split().str[-1]\n"
   ]
  },
  {
   "cell_type": "code",
   "execution_count": null,
   "id": "5f99a077",
   "metadata": {},
   "outputs": [],
   "source": [
    "df_11['weekofyear']=df_11.index.isocalendar().week.astype(int)\n",
    "df_11['month']=df_11.index.month\n",
    "df_11['quarter']\n",
    "df_11['year']"
   ]
  },
  {
   "cell_type": "code",
   "execution_count": null,
   "id": "99631717",
   "metadata": {},
   "outputs": [],
   "source": [
    "#change size and generation to int\n",
    "df_11['generation']=df_11['generation'].astype(int)\n",
    "df_11['size']=df_11['size'].astype(int)"
   ]
  },
  {
   "cell_type": "code",
   "execution_count": null,
   "id": "6bfae886",
   "metadata": {},
   "outputs": [],
   "source": [
    "one_hot=pd.get_dummies(df_11['phone color'])"
   ]
  },
  {
   "cell_type": "code",
   "execution_count": null,
   "id": "64f85c99",
   "metadata": {},
   "outputs": [],
   "source": [
    ".to_list()"
   ]
  },
  {
   "cell_type": "code",
   "execution_count": null,
   "id": "50046c2c",
   "metadata": {},
   "outputs": [],
   "source": [
    "#boxplot: x_axis=month y_axis=claim"
   ]
  },
  {
   "cell_type": "code",
   "execution_count": null,
   "id": "09a8fba2",
   "metadata": {},
   "outputs": [],
   "source": [
    "train=df_11.iloc[:int(len(df_11)*0.75)]\n",
    "test=df_11.iloc[int(len(df_11)*0.75)]\n",
    "\n",
    "feature= df_11.columns.to_list()\n",
    "feature.remove('claim')\n",
    "target='claim'\n",
    "\n",
    "\n",
    "X_train=train[feature]\n",
    "y_train=train[target]\n",
    "\n",
    "\n",
    "X_test=test[feature]\n",
    "y_test=test[target]"
   ]
  },
  {
   "cell_type": "code",
   "execution_count": null,
   "id": "da5d9d66",
   "metadata": {},
   "outputs": [],
   "source": [
    "model=xgb.XGBRegressor(base_score=0.2, booster='gbtree', n_estimators=100, objective='reg:linear', max_depth=5, learning_rate=0.01)\n",
    "model=model.fit(X_train, y_train, eval_set[(X_train, y_train),(X_test, y_test)])"
   ]
  },
  {
   "cell_type": "code",
   "execution_count": null,
   "id": "5cd00ab3",
   "metadata": {},
   "outputs": [],
   "source": [
    "test['claim_pred']=model.predict(X_test)\n",
    "\n",
    "rmse = mean_squared_error(test['claim'], test['claim_pred'], squared=False)"
   ]
  },
  {
   "cell_type": "code",
   "execution_count": null,
   "id": "c3ad1375",
   "metadata": {},
   "outputs": [],
   "source": [
    "feature_important="
   ]
  },
  {
   "cell_type": "code",
   "execution_count": null,
   "id": "8ed66b14",
   "metadata": {},
   "outputs": [],
   "source": [
    "test.loc[test['black']==1]&(test['phone_size']==64), 'claim'].plot(figsize=(15,5), title='')\n",
    "test.loc[test['black']==1]&(test['phone_size']==64), 'claim_pred'].plot(style='')"
   ]
  },
  {
   "cell_type": "code",
   "execution_count": null,
   "id": "7e230b8e",
   "metadata": {},
   "outputs": [],
   "source": []
  },
  {
   "cell_type": "code",
   "execution_count": null,
   "id": "fdf29062",
   "metadata": {},
   "outputs": [],
   "source": []
  },
  {
   "cell_type": "code",
   "execution_count": null,
   "id": "d8ce19fb",
   "metadata": {},
   "outputs": [],
   "source": []
  },
  {
   "cell_type": "code",
   "execution_count": null,
   "id": "0820b0f3",
   "metadata": {},
   "outputs": [],
   "source": []
  },
  {
   "cell_type": "code",
   "execution_count": null,
   "id": "e5a47f7a",
   "metadata": {},
   "outputs": [],
   "source": []
  },
  {
   "cell_type": "code",
   "execution_count": null,
   "id": "7e420763",
   "metadata": {},
   "outputs": [],
   "source": []
  },
  {
   "cell_type": "code",
   "execution_count": null,
   "id": "461a4b35",
   "metadata": {},
   "outputs": [],
   "source": []
  },
  {
   "cell_type": "code",
   "execution_count": null,
   "id": "aec08458",
   "metadata": {},
   "outputs": [],
   "source": []
  },
  {
   "cell_type": "code",
   "execution_count": null,
   "id": "35dfa778",
   "metadata": {},
   "outputs": [],
   "source": []
  },
  {
   "cell_type": "code",
   "execution_count": null,
   "id": "4b09274d",
   "metadata": {},
   "outputs": [],
   "source": []
  },
  {
   "cell_type": "code",
   "execution_count": null,
   "id": "319aec3d",
   "metadata": {},
   "outputs": [],
   "source": []
  }
 ],
 "metadata": {
  "kernelspec": {
   "display_name": "Python 3 (ipykernel)",
   "language": "python",
   "name": "python3"
  },
  "language_info": {
   "codemirror_mode": {
    "name": "ipython",
    "version": 3
   },
   "file_extension": ".py",
   "mimetype": "text/x-python",
   "name": "python",
   "nbconvert_exporter": "python",
   "pygments_lexer": "ipython3",
   "version": "3.9.12"
  }
 },
 "nbformat": 4,
 "nbformat_minor": 5
}
