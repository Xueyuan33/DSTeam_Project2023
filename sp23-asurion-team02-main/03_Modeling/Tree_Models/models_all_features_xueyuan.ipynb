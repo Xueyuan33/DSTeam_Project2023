{
 "cells": [
  {
   "cell_type": "markdown",
   "id": "b017fbec",
   "metadata": {},
   "source": [
    "# train data: all iphone 13\n",
    "# test data: all iphone 14"
   ]
  },
  {
   "cell_type": "code",
   "execution_count": 34,
   "id": "c92322c7",
   "metadata": {},
   "outputs": [],
   "source": [
    "import pandas as pd\n",
    "import numpy as np\n",
    "import datetime as dt\n",
    "import matplotlib.pyplot as plt\n",
    "\n",
    "df=pd.read_csv('/Users/xueyuanli/Desktop/DS-team/tree_based_ML_features_final.csv')\n",
    "df['weeks_since_release']=df['days_since_release_date'].floordiv(7)"
   ]
  },
  {
   "cell_type": "markdown",
   "id": "1bb608ab",
   "metadata": {},
   "source": [
    "## Training data"
   ]
  },
  {
   "cell_type": "code",
   "execution_count": 35,
   "id": "76574e86",
   "metadata": {},
   "outputs": [],
   "source": [
    "train_data = df[(df['phone_generation']==13)]\n",
    "#train_data=train_data[['days_since_release_date','holiday','claim', 'black', 'blue',\n",
    "#       'coral', 'gold', 'graphite', 'gray', 'green', 'midnight', 'pink',\n",
    "#      'purple', 'red', 'silver', 'starlight', 'white', 'yellow']]\n",
    "x_train= train_data.drop('claim', axis=1)\n",
    "y_train = train_data['claim']\n"
   ]
  },
  {
   "cell_type": "markdown",
   "id": "e4304c24",
   "metadata": {},
   "source": [
    "## Testing data"
   ]
  },
  {
   "cell_type": "code",
   "execution_count": 36,
   "id": "17d65753",
   "metadata": {},
   "outputs": [],
   "source": [
    "test_data=df[(df['phone_generation']==14)]\n",
    "#test_data=test_data[['days_since_release_date','holiday','claim', 'black', 'blue',\n",
    "#       'coral', 'gold', 'graphite', 'gray', 'green', 'midnight', 'pink',\n",
    "#       'purple', 'red', 'silver', 'starlight', 'white', 'yellow']]\n",
    "#test_data=test_data[['days_since_release_date','holiday','claim', 'black', 'blue',\n",
    "#       'coral', 'gold', 'graphite', 'gray', 'green', 'midnight', 'pink',\n",
    "#      'purple', 'red', 'silver', 'starlight', 'white', 'yellow']]\n",
    "x_test= test_data.drop('claim', axis=1)\n",
    "y_test = test_data['claim']"
   ]
  },
  {
   "cell_type": "code",
   "execution_count": 37,
   "id": "df45d93e",
   "metadata": {},
   "outputs": [],
   "source": [
    "#test_data=df[(df['phone_generation']==14) & (df['year'] == 2023 ) & (df['month']==1) ]\n",
    "#test_data=test_data[['days_since_release_date','phone_size','holiday','claim', 'black', 'blue',\n",
    "#       'coral', 'gold', 'graphite', 'gray', 'green', 'midnight', 'pink',\n",
    "#       'purple', 'red', 'silver', 'starlight', 'white', 'yellow']]\n",
    "#x_test= test_data.drop('claim', axis=1)\n",
    "#y_test = test_data['claim']"
   ]
  },
  {
   "cell_type": "markdown",
   "id": "79bb5105",
   "metadata": {},
   "source": [
    "# Lazy Predict"
   ]
  },
  {
   "cell_type": "code",
   "execution_count": 38,
   "id": "4856b7a5",
   "metadata": {
    "scrolled": false
   },
   "outputs": [
    {
     "name": "stderr",
     "output_type": "stream",
     "text": [
      "100%|███████████████████████████████████████████| 42/42 [00:31<00:00,  1.33it/s]"
     ]
    },
    {
     "name": "stdout",
     "output_type": "stream",
     "text": [
      "                                             Adjusted R-Squared  \\\n",
      "Model                                                             \n",
      "ExtraTreesRegressor                                       -6.77   \n",
      "DecisionTreeRegressor                                     -7.32   \n",
      "RandomForestRegressor                                     -7.51   \n",
      "BaggingRegressor                                          -7.83   \n",
      "XGBRegressor                                              -8.69   \n",
      "ExtraTreeRegressor                                       -12.44   \n",
      "PoissonRegressor                                         -12.45   \n",
      "HistGradientBoostingRegressor                            -13.55   \n",
      "LGBMRegressor                                            -14.38   \n",
      "GaussianProcessRegressor                                 -14.56   \n",
      "MLPRegressor                                             -16.81   \n",
      "ElasticNet                                               -20.54   \n",
      "GammaRegressor                                           -20.89   \n",
      "PassiveAggressiveRegressor                               -26.83   \n",
      "LinearSVR                                                -27.13   \n",
      "SVR                                                      -27.45   \n",
      "HuberRegressor                                           -32.27   \n",
      "ElasticNetCV                                             -32.78   \n",
      "TweedieRegressor                                         -34.82   \n",
      "SGDRegressor                                             -37.42   \n",
      "RidgeCV                                                  -38.88   \n",
      "BayesianRidge                                            -39.96   \n",
      "Ridge                                                    -40.67   \n",
      "GradientBoostingRegressor                                -43.56   \n",
      "Lars                                                     -43.64   \n",
      "AdaBoostRegressor                                        -47.20   \n",
      "LassoCV                                                  -47.67   \n",
      "LassoLarsCV                                              -48.12   \n",
      "NuSVR                                                    -53.03   \n",
      "LassoLarsIC                                              -55.94   \n",
      "QuantileRegressor                                        -58.68   \n",
      "LarsCV                                                   -61.15   \n",
      "Lasso                                                    -83.06   \n",
      "LassoLars                                               -148.20   \n",
      "DummyRegressor                                          -148.20   \n",
      "OrthogonalMatchingPursuit                               -159.82   \n",
      "OrthogonalMatchingPursuitCV                             -159.82   \n",
      "KNeighborsRegressor                                     -176.43   \n",
      "KernelRidge                                             -176.91   \n",
      "RANSACRegressor                -1487243478341081636423073792.00   \n",
      "LinearRegression              -72169171052874514533661540352.00   \n",
      "TransformedTargetRegressor    -72169171052874514533661540352.00   \n",
      "\n",
      "                                                     R-Squared  \\\n",
      "Model                                                            \n",
      "ExtraTreesRegressor                                       0.12   \n",
      "DecisionTreeRegressor                                     0.06   \n",
      "RandomForestRegressor                                     0.04   \n",
      "BaggingRegressor                                          0.00   \n",
      "XGBRegressor                                             -0.09   \n",
      "ExtraTreeRegressor                                       -0.52   \n",
      "PoissonRegressor                                         -0.52   \n",
      "HistGradientBoostingRegressor                            -0.64   \n",
      "LGBMRegressor                                            -0.74   \n",
      "GaussianProcessRegressor                                 -0.76   \n",
      "MLPRegressor                                             -1.01   \n",
      "ElasticNet                                               -1.43   \n",
      "GammaRegressor                                           -1.47   \n",
      "PassiveAggressiveRegressor                               -2.14   \n",
      "LinearSVR                                                -2.18   \n",
      "SVR                                                      -2.21   \n",
      "HuberRegressor                                           -2.76   \n",
      "ElasticNetCV                                             -2.81   \n",
      "TweedieRegressor                                         -3.04   \n",
      "SGDRegressor                                             -3.34   \n",
      "RidgeCV                                                  -3.50   \n",
      "BayesianRidge                                            -3.63   \n",
      "Ridge                                                    -3.71   \n",
      "GradientBoostingRegressor                                -4.03   \n",
      "Lars                                                     -4.04   \n",
      "AdaBoostRegressor                                        -4.44   \n",
      "LassoCV                                                  -4.49   \n",
      "LassoLarsCV                                              -4.55   \n",
      "NuSVR                                                    -5.10   \n",
      "LassoLarsIC                                              -5.43   \n",
      "QuantileRegressor                                        -5.74   \n",
      "LarsCV                                                   -6.02   \n",
      "Lasso                                                    -8.49   \n",
      "LassoLars                                               -15.85   \n",
      "DummyRegressor                                          -15.85   \n",
      "OrthogonalMatchingPursuit                               -17.16   \n",
      "OrthogonalMatchingPursuitCV                             -17.16   \n",
      "KNeighborsRegressor                                     -19.03   \n",
      "KernelRidge                                             -19.09   \n",
      "RANSACRegressor                -167914586264315663086518272.00   \n",
      "LinearRegression              -8148132215647121757404397568.00   \n",
      "TransformedTargetRegressor    -8148132215647121757404397568.00   \n",
      "\n",
      "                                             RMSE  Time Taken  \n",
      "Model                                                          \n",
      "ExtraTreesRegressor                         14.16        0.29  \n",
      "DecisionTreeRegressor                       14.65        0.01  \n",
      "RandomForestRegressor                       14.82        0.32  \n",
      "BaggingRegressor                            15.09        0.04  \n",
      "XGBRegressor                                15.81        0.25  \n",
      "ExtraTreeRegressor                          18.62        0.01  \n",
      "PoissonRegressor                            18.62        0.01  \n",
      "HistGradientBoostingRegressor               19.37        0.42  \n",
      "LGBMRegressor                               19.92        0.21  \n",
      "GaussianProcessRegressor                    20.04        0.15  \n",
      "MLPRegressor                                21.43        0.90  \n",
      "ElasticNet                                  23.57        0.01  \n",
      "GammaRegressor                              23.76        0.01  \n",
      "PassiveAggressiveRegressor                  26.79        0.01  \n",
      "LinearSVR                                   26.94        0.01  \n",
      "SVR                                         27.09        0.21  \n",
      "HuberRegressor                              29.30        0.02  \n",
      "ElasticNetCV                                29.52        0.04  \n",
      "TweedieRegressor                            30.40        0.01  \n",
      "SGDRegressor                                31.48        0.01  \n",
      "RidgeCV                                     32.07        0.01  \n",
      "BayesianRidge                               32.51        0.01  \n",
      "Ridge                                       32.79        0.01  \n",
      "GradientBoostingRegressor                   33.90        0.10  \n",
      "Lars                                        33.93        0.01  \n",
      "AdaBoostRegressor                           35.26        0.10  \n",
      "LassoCV                                     35.43        0.05  \n",
      "LassoLarsCV                                 35.59        0.02  \n",
      "NuSVR                                       37.33        0.14  \n",
      "LassoLarsIC                                 38.32        0.01  \n",
      "QuantileRegressor                           39.23       27.95  \n",
      "LarsCV                                      40.04        0.02  \n",
      "Lasso                                       46.56        0.01  \n",
      "LassoLars                                   62.03        0.01  \n",
      "DummyRegressor                              62.03        0.00  \n",
      "OrthogonalMatchingPursuit                   64.40        0.01  \n",
      "OrthogonalMatchingPursuitCV                 64.40        0.01  \n",
      "KNeighborsRegressor                         67.65        0.01  \n",
      "KernelRidge                                 67.74        0.05  \n",
      "RANSACRegressor                195857092043440.12        0.08  \n",
      "LinearRegression              1364344749735449.50        0.01  \n",
      "TransformedTargetRegressor    1364344749735449.50        0.01  \n"
     ]
    },
    {
     "name": "stderr",
     "output_type": "stream",
     "text": [
      "\n"
     ]
    }
   ],
   "source": [
    "import pandas as pd\n",
    "from lazypredict.Supervised import LazyRegressor\n",
    "from sklearn.model_selection import train_test_split\n",
    "\n",
    "# Create a LazyClassifier object\n",
    "reg = LazyRegressor(verbose=0, ignore_warnings=True, custom_metric = None)\n",
    "# Train and test the models\n",
    "models, predictions = reg.fit(x_train, x_test, y_train, y_test)\n",
    "\n",
    "# Print the summary of performance metrics\n",
    "print(models)"
   ]
  },
  {
   "cell_type": "code",
   "execution_count": null,
   "id": "c1dd8262",
   "metadata": {},
   "outputs": [],
   "source": []
  },
  {
   "cell_type": "markdown",
   "id": "58ca6188",
   "metadata": {},
   "source": [
    "# PoissonRegressor"
   ]
  },
  {
   "cell_type": "code",
   "execution_count": 52,
   "id": "7ecc7de7",
   "metadata": {},
   "outputs": [],
   "source": [
    "from sklearn import linear_model\n",
    "model = linear_model.PoissonRegressor()\n",
    "model.fit(x_train, y_train)\n",
    "\n",
    "pred = model.predict(x_test)"
   ]
  },
  {
   "cell_type": "code",
   "execution_count": 53,
   "id": "00b0acb8",
   "metadata": {},
   "outputs": [],
   "source": [
    "def wmape(actual, forecast):\n",
    "    # we take two series and calculate an output a wmape from it, not to be used in a grouping function\n",
    "\n",
    "    # make a series called mape\n",
    "    se_mape = abs(actual-forecast)/actual\n",
    "\n",
    "    # get a float of the sum of the actual\n",
    "    ft_actual_sum = actual.sum()\n",
    "\n",
    "    # get a series of the multiple of the actual & the mape\n",
    "    se_actual_prod_mape = actual * se_mape\n",
    "\n",
    "    # summate the prod of the actual and the mape\n",
    "    ft_actual_prod_mape_sum = se_actual_prod_mape.sum()\n",
    "\n",
    "    # float: wmape of forecast\n",
    "    ft_wmape_forecast = ft_actual_prod_mape_sum / ft_actual_sum\n",
    "\n",
    "    # return a float\n",
    "    return ft_wmape_forecast"
   ]
  },
  {
   "cell_type": "code",
   "execution_count": 54,
   "id": "d434316b",
   "metadata": {},
   "outputs": [
    {
     "name": "stdout",
     "output_type": "stream",
     "text": [
      "MSE: 217.10215080567096\n",
      "WMAPE: 97.70%\n"
     ]
    }
   ],
   "source": [
    "pred = model.predict(x_test)\n",
    "\n",
    "from sklearn.metrics import mean_squared_error, r2_score\n",
    "mse = mean_squared_error(y_test, pred)\n",
    "print('MSE:', mse)\n",
    "\n",
    "wmape=wmape(y_test, pred)\n",
    "print(\"WMAPE: {:.2%}\".format(wmape))"
   ]
  },
  {
   "cell_type": "markdown",
   "id": "517f5503",
   "metadata": {},
   "source": [
    "# BaggingRegressor"
   ]
  },
  {
   "cell_type": "code",
   "execution_count": 18,
   "id": "09e0d4ee",
   "metadata": {},
   "outputs": [],
   "source": [
    "from sklearn.ensemble import BaggingRegressor\n",
    "model = BaggingRegressor()\n",
    "model.fit(x_train, y_train)\n",
    "\n",
    "pred = model.predict(x_test)\n"
   ]
  },
  {
   "cell_type": "code",
   "execution_count": 19,
   "id": "e1a08e31",
   "metadata": {},
   "outputs": [],
   "source": [
    "def wmape(actual, forecast):\n",
    "    # we take two series and calculate an output a wmape from it, not to be used in a grouping function\n",
    "\n",
    "    # make a series called mape\n",
    "    se_mape = abs(actual-forecast)/actual\n",
    "\n",
    "    # get a float of the sum of the actual\n",
    "    ft_actual_sum = actual.sum()\n",
    "\n",
    "    # get a series of the multiple of the actual & the mape\n",
    "    se_actual_prod_mape = actual * se_mape\n",
    "\n",
    "    # summate the prod of the actual and the mape\n",
    "    ft_actual_prod_mape_sum = se_actual_prod_mape.sum()\n",
    "\n",
    "    # float: wmape of forecast\n",
    "    ft_wmape_forecast = ft_actual_prod_mape_sum / ft_actual_sum\n",
    "\n",
    "    # return a float\n",
    "    return ft_wmape_forecast"
   ]
  },
  {
   "cell_type": "code",
   "execution_count": 20,
   "id": "11680a3c",
   "metadata": {},
   "outputs": [
    {
     "name": "stdout",
     "output_type": "stream",
     "text": [
      "MSE: 395.9149074074074\n",
      "WMAPE: 107.99%\n"
     ]
    }
   ],
   "source": [
    "pred = model.predict(x_test)\n",
    "\n",
    "from sklearn.metrics import mean_squared_error, r2_score\n",
    "mse = mean_squared_error(y_test, pred)\n",
    "print('MSE:', mse)\n",
    "\n",
    "wmape=wmape(y_test, pred)\n",
    "print(\"WMAPE: {:.2%}\".format(wmape))"
   ]
  },
  {
   "cell_type": "code",
   "execution_count": null,
   "id": "06c26182",
   "metadata": {},
   "outputs": [],
   "source": []
  },
  {
   "cell_type": "markdown",
   "id": "5e739abc",
   "metadata": {},
   "source": [
    "# ExtraTreeRegressor"
   ]
  },
  {
   "cell_type": "code",
   "execution_count": 39,
   "id": "6df0a7aa",
   "metadata": {},
   "outputs": [],
   "source": [
    "from sklearn.tree import ExtraTreeRegressor\n",
    "from sklearn.linear_model import LinearRegression\n",
    "from sklearn.ensemble import AdaBoostRegressor\n",
    "\n",
    "#model=AdaBoostRegressor()\n",
    "#model=ExtraTreeRegressor()\n",
    "from sklearn import linear_model\n",
    "model = linear_model.PoissonRegressor()\n",
    "model.fit(x_train, y_train)\n",
    "\n",
    "pred = model.predict(x_test)\n"
   ]
  },
  {
   "cell_type": "code",
   "execution_count": 40,
   "id": "127d9c79",
   "metadata": {},
   "outputs": [],
   "source": [
    "def wmape(actual, forecast):\n",
    "    # we take two series and calculate an output a wmape from it, not to be used in a grouping function\n",
    "\n",
    "    # make a series called mape\n",
    "    se_mape = abs(actual-forecast)/actual\n",
    "\n",
    "    # get a float of the sum of the actual\n",
    "    ft_actual_sum = actual.sum()\n",
    "\n",
    "    # get a series of the multiple of the actual & the mape\n",
    "    se_actual_prod_mape = actual * se_mape\n",
    "\n",
    "    # summate the prod of the actual and the mape\n",
    "    ft_actual_prod_mape_sum = se_actual_prod_mape.sum()\n",
    "\n",
    "    # float: wmape of forecast\n",
    "    ft_wmape_forecast = ft_actual_prod_mape_sum / ft_actual_sum\n",
    "\n",
    "    # return a float\n",
    "    return ft_wmape_forecast\n",
    "\n",
    "\n"
   ]
  },
  {
   "cell_type": "code",
   "execution_count": 41,
   "id": "c083826f",
   "metadata": {},
   "outputs": [
    {
     "name": "stdout",
     "output_type": "stream",
     "text": [
      "MSE: 217.10215080567096\n",
      "WMAPE: 97.70%\n"
     ]
    }
   ],
   "source": [
    "from sklearn.metrics import mean_squared_error, r2_score\n",
    "mse = mean_squared_error(y_test, pred)\n",
    "print('MSE:', mse)\n",
    "\n",
    "wmape=wmape(y_test, pred)\n",
    "print(\"WMAPE: {:.2%}\".format(wmape))\n"
   ]
  },
  {
   "cell_type": "code",
   "execution_count": 42,
   "id": "246f7cd7",
   "metadata": {},
   "outputs": [
    {
     "name": "stdout",
     "output_type": "stream",
     "text": [
      " 1) apple iphone 13 pro max        0.877867\n",
      " 2) blue                           0.832158\n",
      " 3) graphite                       0.586549\n",
      " 4) year                           0.161284\n",
      " 5) midnight                       0.087802\n",
      " 6) apple iphone 13                0.082102\n",
      " 7) quarter                        0.043313\n",
      " 8) claim                          0.004090\n",
      " 9) weeks_since_release            0.000584\n",
      "10) gray                           0.000000\n",
      "11) coral                          0.000000\n",
      "12) black                          0.000000\n",
      "13) white                          0.000000\n",
      "14) yellow                         0.000000\n",
      "15) apple iphone 11                0.000000\n",
      "16) apple iphone 11 pro            0.000000\n",
      "17) apple iphone 11 pro max        0.000000\n",
      "18) apple iphone 12                0.000000\n",
      "19) apple iphone xs max            0.000000\n",
      "20) apple iphone 12 pro            0.000000\n",
      "21) apple iphone 12 pro max        0.000000\n",
      "22) purple                         0.000000\n",
      "23) apple iphone 12 mini           0.000000\n",
      "24) apple iphone 6s                0.000000\n",
      "25) apple iphone 6                 0.000000\n",
      "26) apple iphone 7 plus            0.000000\n",
      "27) apple iphone 8                 0.000000\n",
      "28) apple iphone 8 plus            0.000000\n",
      "29) apple iphone 6 plus            0.000000\n",
      "30) apple iphone x                 0.000000\n",
      "31) apple iphone xr                0.000000\n",
      "32) apple iphone xs                0.000000\n",
      "33) apple iphone 5s                0.000000\n",
      "34) apple iphone 7                 0.000000\n",
      "35) apple iphone 5c                0.000000\n",
      "36) apple iphone 5                 0.000000\n",
      "37) apple iphone 4s                0.000000\n",
      "38) apple iphone 4                 0.000000\n",
      "39) apple iphone 3g s              0.000000\n",
      "40) apple iphone 14 pro max        0.000000\n",
      "41) apple iphone 14                0.000000\n",
      "42) apple iphone 6s plus           0.000000\n",
      "43) phone_size                     -0.000007\n",
      "44) holiday                        -0.000700\n",
      "45) week_of_year                   -0.003745\n",
      "46) gold                           -0.010559\n",
      "47) month                          -0.017357\n",
      "48) pink                           -0.048386\n",
      "49) red                            -0.116397\n",
      "50) days_since_release_date        -0.116900\n",
      "51) starlight                      -0.142522\n",
      "52) apple iphone 13 pro            -0.227263\n",
      "53) silver                         -0.542703\n",
      "54) green                          -0.645944\n",
      "55) apple iphone 13 mini           -0.732707\n"
     ]
    }
   ],
   "source": [
    "import numpy as np\n",
    " \n",
    "importances = model.coef_\n",
    "\n",
    "# Sort the feature importance in descending order\n",
    "\n",
    "sorted_indices = np.argsort(importances)[::-1]\n",
    " \n",
    "feat_labels = df.columns[1:]\n",
    " \n",
    "for f in range(x_train.shape[1]):\n",
    "    print(\"%2d) %-*s %f\" % (f + 1, 30,\n",
    "                            feat_labels[sorted_indices[f]],\n",
    "                            importances[sorted_indices[f]]))"
   ]
  },
  {
   "cell_type": "code",
   "execution_count": null,
   "id": "5fd34531",
   "metadata": {},
   "outputs": [],
   "source": []
  },
  {
   "cell_type": "code",
   "execution_count": null,
   "id": "b83abf96",
   "metadata": {},
   "outputs": [],
   "source": []
  },
  {
   "cell_type": "markdown",
   "id": "cee8d560",
   "metadata": {},
   "source": [
    "# DecisionTreeRegressor"
   ]
  },
  {
   "cell_type": "code",
   "execution_count": 43,
   "id": "37fc47be",
   "metadata": {},
   "outputs": [
    {
     "data": {
      "text/plain": [
       "DecisionTreeRegressor()"
      ]
     },
     "execution_count": 43,
     "metadata": {},
     "output_type": "execute_result"
    }
   ],
   "source": [
    "from sklearn.tree import DecisionTreeRegressor\n",
    "\n",
    "DT_model=DecisionTreeRegressor()\n",
    "DT_model.fit(x_train, y_train)"
   ]
  },
  {
   "cell_type": "code",
   "execution_count": 44,
   "id": "9a716958",
   "metadata": {},
   "outputs": [],
   "source": [
    "def wmape(actual, forecast):\n",
    "    # we take two series and calculate an output a wmape from it, not to be used in a grouping function\n",
    "\n",
    "    # make a series called mape\n",
    "    se_mape = abs(actual-forecast)/actual\n",
    "\n",
    "    # get a float of the sum of the actual\n",
    "    ft_actual_sum = actual.sum()\n",
    "\n",
    "    # get a series of the multiple of the actual & the mape\n",
    "    se_actual_prod_mape = actual * se_mape\n",
    "\n",
    "    # summate the prod of the actual and the mape\n",
    "    ft_actual_prod_mape_sum = se_actual_prod_mape.sum()\n",
    "\n",
    "    # float: wmape of forecast\n",
    "    ft_wmape_forecast = ft_actual_prod_mape_sum / ft_actual_sum\n",
    "\n",
    "    # return a float\n",
    "    return ft_wmape_forecast\n",
    "\n"
   ]
  },
  {
   "cell_type": "code",
   "execution_count": 45,
   "id": "e80a6a1b",
   "metadata": {},
   "outputs": [
    {
     "name": "stdout",
     "output_type": "stream",
     "text": [
      "MSE: 362.23809523809524\n",
      "WMAPE: 118.03%\n"
     ]
    }
   ],
   "source": [
    "dt_pred = DT_model.predict(x_test)\n",
    "\n",
    "from sklearn.metrics import mean_squared_error, r2_score\n",
    "mse = mean_squared_error(y_test, dt_pred)\n",
    "print('MSE:', mse)\n",
    "\n",
    "wmape=wmape(y_test, dt_pred)\n",
    "print(\"WMAPE: {:.2%}\".format(wmape))"
   ]
  },
  {
   "cell_type": "code",
   "execution_count": null,
   "id": "f6fe13cd",
   "metadata": {},
   "outputs": [],
   "source": []
  },
  {
   "cell_type": "code",
   "execution_count": null,
   "id": "03abb5b7",
   "metadata": {},
   "outputs": [],
   "source": []
  },
  {
   "cell_type": "markdown",
   "id": "9814d1b6",
   "metadata": {},
   "source": [
    "# XGBoost"
   ]
  },
  {
   "cell_type": "code",
   "execution_count": 46,
   "id": "6feb32ea",
   "metadata": {},
   "outputs": [],
   "source": [
    "import xgboost as xgb\n",
    "model=xgb.XGBRegressor()\n",
    "model=model.fit(x_train, y_train)"
   ]
  },
  {
   "cell_type": "code",
   "execution_count": 47,
   "id": "0427e1fd",
   "metadata": {},
   "outputs": [],
   "source": [
    "def wmape(actual, forecast):\n",
    "    # we take two series and calculate an output a wmape from it, not to be used in a grouping function\n",
    "\n",
    "    # make a series called mape\n",
    "    se_mape = abs(actual-forecast)/actual\n",
    "\n",
    "    # get a float of the sum of the actual\n",
    "    ft_actual_sum = actual.sum()\n",
    "\n",
    "    # get a series of the multiple of the actual & the mape\n",
    "    se_actual_prod_mape = actual * se_mape\n",
    "\n",
    "    # summate the prod of the actual and the mape\n",
    "    ft_actual_prod_mape_sum = se_actual_prod_mape.sum()\n",
    "\n",
    "    # float: wmape of forecast\n",
    "    ft_wmape_forecast = ft_actual_prod_mape_sum / ft_actual_sum\n",
    "\n",
    "    # return a float\n",
    "    return ft_wmape_forecast\n"
   ]
  },
  {
   "cell_type": "code",
   "execution_count": 48,
   "id": "3bfb14ab",
   "metadata": {},
   "outputs": [
    {
     "name": "stdout",
     "output_type": "stream",
     "text": [
      "WMAPE: 93.70%\n"
     ]
    }
   ],
   "source": [
    "y_pred=model.predict(x_test)\n",
    "\n",
    "wmape=wmape(y_test,y_pred)\n",
    "\n",
    "print(\"WMAPE: {:.2%}\".format(wmape))"
   ]
  },
  {
   "cell_type": "code",
   "execution_count": null,
   "id": "f50e257d",
   "metadata": {},
   "outputs": [],
   "source": []
  },
  {
   "cell_type": "code",
   "execution_count": null,
   "id": "1abce1ef",
   "metadata": {},
   "outputs": [],
   "source": []
  },
  {
   "cell_type": "markdown",
   "id": "27adc48a",
   "metadata": {},
   "source": [
    "# RandomForest"
   ]
  },
  {
   "cell_type": "code",
   "execution_count": 49,
   "id": "675511c2",
   "metadata": {},
   "outputs": [
    {
     "name": "stdout",
     "output_type": "stream",
     "text": [
      "MSE: 422.02\n",
      "RMSE: 20.54\n",
      "R-squared score: -0.85\n"
     ]
    }
   ],
   "source": [
    "from sklearn.ensemble import RandomForestClassifier\n",
    "\n",
    "# Initialize the classifier with the correct hyperparameters\n",
    "rfc = RandomForestClassifier()\n",
    "\n",
    "# Fit the classifier to the training data\n",
    "rfc.fit(x_train, y_train)\n",
    "\n",
    "# Predict the classes of the test data\n",
    "y_pred = rfc.predict(x_test)\n",
    "\n",
    "# Evaluate the performance of the classifier on the test data\n",
    "from sklearn.metrics import mean_squared_error, r2_score\n",
    "\n",
    "# compute the evaluation metrics\n",
    "mse = mean_squared_error(y_test, y_pred)\n",
    "rmse = mean_squared_error(y_test, y_pred, squared=False)\n",
    "r2 = r2_score(y_test, y_pred)\n",
    "\n",
    "print(f\"MSE: {mse:.2f}\")\n",
    "print(f\"RMSE: {rmse:.2f}\")\n",
    "print(f\"R-squared score: {r2:.2f}\")\n"
   ]
  },
  {
   "cell_type": "code",
   "execution_count": 50,
   "id": "a77c7255",
   "metadata": {},
   "outputs": [],
   "source": [
    "def wmape(actual, forecast):\n",
    "    # we take two series and calculate an output a wmape from it, not to be used in a grouping function\n",
    "\n",
    "    # make a series called mape\n",
    "    se_mape = abs(actual-forecast)/actual\n",
    "\n",
    "    # get a float of the sum of the actual\n",
    "    ft_actual_sum = actual.sum()\n",
    "\n",
    "    # get a series of the multiple of the actual & the mape\n",
    "    se_actual_prod_mape = actual * se_mape\n",
    "\n",
    "    # summate the prod of the actual and the mape\n",
    "    ft_actual_prod_mape_sum = se_actual_prod_mape.sum()\n",
    "\n",
    "    # float: wmape of forecast\n",
    "    ft_wmape_forecast = ft_actual_prod_mape_sum / ft_actual_sum\n",
    "\n",
    "    # return a float\n",
    "    return ft_wmape_forecast\n",
    "\n",
    "\n"
   ]
  },
  {
   "cell_type": "code",
   "execution_count": 51,
   "id": "8c6688ab",
   "metadata": {},
   "outputs": [
    {
     "name": "stdout",
     "output_type": "stream",
     "text": [
      "WMAPE: 93.70%\n"
     ]
    }
   ],
   "source": [
    "y_pred=model.predict(x_test)\n",
    "\n",
    "wmape_score=wmape(y_test,y_pred)\n",
    "\n",
    "print(\"WMAPE: {:.2%}\".format(wmape_score))"
   ]
  },
  {
   "cell_type": "code",
   "execution_count": null,
   "id": "38ae6a9a",
   "metadata": {},
   "outputs": [],
   "source": []
  },
  {
   "cell_type": "code",
   "execution_count": null,
   "id": "2ccb6d19",
   "metadata": {},
   "outputs": [],
   "source": []
  }
 ],
 "metadata": {
  "kernelspec": {
   "display_name": "Python 3 (ipykernel)",
   "language": "python",
   "name": "python3"
  },
  "language_info": {
   "codemirror_mode": {
    "name": "ipython",
    "version": 3
   },
   "file_extension": ".py",
   "mimetype": "text/x-python",
   "name": "python",
   "nbconvert_exporter": "python",
   "pygments_lexer": "ipython3",
   "version": "3.9.12"
  }
 },
 "nbformat": 4,
 "nbformat_minor": 5
}
