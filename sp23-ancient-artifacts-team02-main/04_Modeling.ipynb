{
 "cells": [
  {
   "cell_type": "code",
   "execution_count": 1,
   "metadata": {},
   "outputs": [],
   "source": [
    "import pandas as pd\n",
    "import numpy as np\n",
    "import seaborn as sns\n",
    "import matplotlib.pyplot as plt"
   ]
  },
  {
   "cell_type": "code",
   "execution_count": 2,
   "metadata": {},
   "outputs": [],
   "source": [
    "# machine learning libs\n",
    "from sklearn.model_selection import train_test_split, GridSearchCV\n",
    "from sklearn.linear_model import LogisticRegression\n",
    "from sklearn.ensemble import RandomForestClassifier\n",
    "from sklearn.pipeline import Pipeline \n",
    "#from sklearn.compose import ColumnTransformer, make_column_selector\n",
    "#from sklearn.impute import SimpleImputer\n",
    "from sklearn.preprocessing import OneHotEncoder, LabelBinarizer, StandardScaler\n",
    "from sklearn import config_context\n",
    "from sklearn.metrics import classification_report, confusion_matrix"
   ]
  },
  {
   "cell_type": "code",
   "execution_count": 3,
   "metadata": {},
   "outputs": [
    {
     "data": {
      "text/html": [
       "<div>\n",
       "<style scoped>\n",
       "    .dataframe tbody tr th:only-of-type {\n",
       "        vertical-align: middle;\n",
       "    }\n",
       "\n",
       "    .dataframe tbody tr th {\n",
       "        vertical-align: top;\n",
       "    }\n",
       "\n",
       "    .dataframe thead th {\n",
       "        text-align: right;\n",
       "    }\n",
       "</style>\n",
       "<table border=\"1\" class=\"dataframe\">\n",
       "  <thead>\n",
       "    <tr style=\"text-align: right;\">\n",
       "      <th></th>\n",
       "      <th>Da</th>\n",
       "      <th>Dp</th>\n",
       "      <th>FWidth</th>\n",
       "      <th>FLength</th>\n",
       "      <th>FThickness</th>\n",
       "      <th>ELength</th>\n",
       "      <th>EThickness</th>\n",
       "      <th>EWidth</th>\n",
       "      <th>Volume</th>\n",
       "      <th>Area</th>\n",
       "      <th>...</th>\n",
       "      <th>W/L Ratio</th>\n",
       "      <th>W/T Ratio</th>\n",
       "      <th>T/W Ratio</th>\n",
       "      <th>CHull Surface Area</th>\n",
       "      <th>Sieve</th>\n",
       "      <th>Angularity</th>\n",
       "      <th>Ellipticity</th>\n",
       "      <th>Fiber Length</th>\n",
       "      <th>Fiber Width</th>\n",
       "      <th>lithic</th>\n",
       "    </tr>\n",
       "  </thead>\n",
       "  <tbody>\n",
       "    <tr>\n",
       "      <th>409902</th>\n",
       "      <td>0.179</td>\n",
       "      <td>0.193</td>\n",
       "      <td>0.176</td>\n",
       "      <td>0.250</td>\n",
       "      <td>0.139</td>\n",
       "      <td>0.232</td>\n",
       "      <td>0.133</td>\n",
       "      <td>0.169</td>\n",
       "      <td>0.003</td>\n",
       "      <td>0.025</td>\n",
       "      <td>...</td>\n",
       "      <td>0.703</td>\n",
       "      <td>1.269</td>\n",
       "      <td>0.788</td>\n",
       "      <td>0.104</td>\n",
       "      <td>0.157</td>\n",
       "      <td>68.000</td>\n",
       "      <td>1.747</td>\n",
       "      <td>0.000</td>\n",
       "      <td>0.000</td>\n",
       "      <td>0</td>\n",
       "    </tr>\n",
       "    <tr>\n",
       "      <th>409903</th>\n",
       "      <td>0.260</td>\n",
       "      <td>0.285</td>\n",
       "      <td>0.263</td>\n",
       "      <td>0.708</td>\n",
       "      <td>0.145</td>\n",
       "      <td>0.784</td>\n",
       "      <td>0.144</td>\n",
       "      <td>0.256</td>\n",
       "      <td>0.014</td>\n",
       "      <td>0.053</td>\n",
       "      <td>...</td>\n",
       "      <td>0.372</td>\n",
       "      <td>1.809</td>\n",
       "      <td>0.553</td>\n",
       "      <td>0.231</td>\n",
       "      <td>0.204</td>\n",
       "      <td>52.857</td>\n",
       "      <td>5.428</td>\n",
       "      <td>0.789</td>\n",
       "      <td>0.161</td>\n",
       "      <td>0</td>\n",
       "    </tr>\n",
       "    <tr>\n",
       "      <th>409904</th>\n",
       "      <td>0.138</td>\n",
       "      <td>0.141</td>\n",
       "      <td>0.133</td>\n",
       "      <td>0.144</td>\n",
       "      <td>0.133</td>\n",
       "      <td>0.142</td>\n",
       "      <td>0.134</td>\n",
       "      <td>0.134</td>\n",
       "      <td>0.001</td>\n",
       "      <td>0.015</td>\n",
       "      <td>...</td>\n",
       "      <td>0.926</td>\n",
       "      <td>1.000</td>\n",
       "      <td>1.000</td>\n",
       "      <td>0.060</td>\n",
       "      <td>0.133</td>\n",
       "      <td>56.667</td>\n",
       "      <td>1.053</td>\n",
       "      <td>0.000</td>\n",
       "      <td>0.000</td>\n",
       "      <td>0</td>\n",
       "    </tr>\n",
       "    <tr>\n",
       "      <th>409905</th>\n",
       "      <td>0.241</td>\n",
       "      <td>0.252</td>\n",
       "      <td>0.239</td>\n",
       "      <td>0.302</td>\n",
       "      <td>0.160</td>\n",
       "      <td>0.304</td>\n",
       "      <td>0.158</td>\n",
       "      <td>0.247</td>\n",
       "      <td>0.006</td>\n",
       "      <td>0.046</td>\n",
       "      <td>...</td>\n",
       "      <td>0.790</td>\n",
       "      <td>1.489</td>\n",
       "      <td>0.672</td>\n",
       "      <td>0.184</td>\n",
       "      <td>0.200</td>\n",
       "      <td>56.667</td>\n",
       "      <td>1.921</td>\n",
       "      <td>0.000</td>\n",
       "      <td>0.000</td>\n",
       "      <td>0</td>\n",
       "    </tr>\n",
       "    <tr>\n",
       "      <th>409906</th>\n",
       "      <td>0.213</td>\n",
       "      <td>0.217</td>\n",
       "      <td>0.217</td>\n",
       "      <td>0.271</td>\n",
       "      <td>0.136</td>\n",
       "      <td>0.259</td>\n",
       "      <td>0.135</td>\n",
       "      <td>0.221</td>\n",
       "      <td>0.004</td>\n",
       "      <td>0.036</td>\n",
       "      <td>...</td>\n",
       "      <td>0.800</td>\n",
       "      <td>1.599</td>\n",
       "      <td>0.625</td>\n",
       "      <td>0.143</td>\n",
       "      <td>0.176</td>\n",
       "      <td>63.750</td>\n",
       "      <td>1.917</td>\n",
       "      <td>0.000</td>\n",
       "      <td>0.000</td>\n",
       "      <td>0</td>\n",
       "    </tr>\n",
       "  </tbody>\n",
       "</table>\n",
       "<p>5 rows × 38 columns</p>\n",
       "</div>"
      ],
      "text/plain": [
       "           Da     Dp  FWidth  FLength  FThickness  ELength  EThickness  \\\n",
       "409902  0.179  0.193   0.176    0.250       0.139    0.232       0.133   \n",
       "409903  0.260  0.285   0.263    0.708       0.145    0.784       0.144   \n",
       "409904  0.138  0.141   0.133    0.144       0.133    0.142       0.134   \n",
       "409905  0.241  0.252   0.239    0.302       0.160    0.304       0.158   \n",
       "409906  0.213  0.217   0.217    0.271       0.136    0.259       0.135   \n",
       "\n",
       "        EWidth  Volume   Area  ...  W/L Ratio  W/T Ratio  T/W Ratio  \\\n",
       "409902   0.169   0.003  0.025  ...      0.703      1.269      0.788   \n",
       "409903   0.256   0.014  0.053  ...      0.372      1.809      0.553   \n",
       "409904   0.134   0.001  0.015  ...      0.926      1.000      1.000   \n",
       "409905   0.247   0.006  0.046  ...      0.790      1.489      0.672   \n",
       "409906   0.221   0.004  0.036  ...      0.800      1.599      0.625   \n",
       "\n",
       "        CHull Surface Area  Sieve  Angularity  Ellipticity  Fiber Length  \\\n",
       "409902               0.104  0.157      68.000        1.747         0.000   \n",
       "409903               0.231  0.204      52.857        5.428         0.789   \n",
       "409904               0.060  0.133      56.667        1.053         0.000   \n",
       "409905               0.184  0.200      56.667        1.921         0.000   \n",
       "409906               0.143  0.176      63.750        1.917         0.000   \n",
       "\n",
       "        Fiber Width  lithic  \n",
       "409902        0.000       0  \n",
       "409903        0.161       0  \n",
       "409904        0.000       0  \n",
       "409905        0.000       0  \n",
       "409906        0.000       0  \n",
       "\n",
       "[5 rows x 38 columns]"
      ]
     },
     "metadata": {},
     "output_type": "display_data"
    },
    {
     "name": "stdout",
     "output_type": "stream",
     "text": [
      "<class 'pandas.core.frame.DataFrame'>\n",
      "RangeIndex: 409907 entries, 0 to 409906\n",
      "Data columns (total 38 columns):\n",
      " #   Column              Non-Null Count   Dtype  \n",
      "---  ------              --------------   -----  \n",
      " 0   Da                  409907 non-null  float64\n",
      " 1   Dp                  409907 non-null  float64\n",
      " 2   FWidth              409907 non-null  float64\n",
      " 3   FLength             409907 non-null  float64\n",
      " 4   FThickness          409907 non-null  float64\n",
      " 5   ELength             409907 non-null  float64\n",
      " 6   EThickness          409907 non-null  float64\n",
      " 7   EWidth              409907 non-null  float64\n",
      " 8   Volume              409907 non-null  float64\n",
      " 9   Area                409907 non-null  float64\n",
      " 10  Perimeter           409907 non-null  float64\n",
      " 11  CHull  Area         409907 non-null  float64\n",
      " 12  CHull Perimeter     409907 non-null  float64\n",
      " 13  Sphericity          409907 non-null  float64\n",
      " 14  L/T Ratio           409907 non-null  float64\n",
      " 15  T/L Aspect Ratio    409907 non-null  float64\n",
      " 16  Compactness         409907 non-null  float64\n",
      " 17  Roundness           409907 non-null  float64\n",
      " 18  Ellipse Ratio       409907 non-null  float64\n",
      " 19  Circularity         409907 non-null  float64\n",
      " 20  Solidity            409907 non-null  float64\n",
      " 21  Concavity           409907 non-null  float64\n",
      " 22  Convexity           409907 non-null  float64\n",
      " 23  Extent              409907 non-null  float64\n",
      " 24  Transparency        409907 non-null  float64\n",
      " 25  Curvature           409907 non-null  float64\n",
      " 26  Surface Area        409907 non-null  float64\n",
      " 27  L/W Ratio           409907 non-null  float64\n",
      " 28  W/L Ratio           409907 non-null  float64\n",
      " 29  W/T Ratio           409907 non-null  float64\n",
      " 30  T/W Ratio           409907 non-null  float64\n",
      " 31  CHull Surface Area  409907 non-null  float64\n",
      " 32  Sieve               409907 non-null  float64\n",
      " 33  Angularity          409907 non-null  float64\n",
      " 34  Ellipticity         409907 non-null  float64\n",
      " 35  Fiber Length        409907 non-null  float64\n",
      " 36  Fiber Width         409907 non-null  float64\n",
      " 37  lithic              409907 non-null  int64  \n",
      "dtypes: float64(37), int64(1)\n",
      "memory usage: 118.8 MB\n"
     ]
    }
   ],
   "source": [
    "artifacts = pd.read_csv('/data/p_dsi/teams2023/team2/ancient_artifacts_data/lithic_all_soil_joined_final.csv')\n",
    "#artifacts = pd.read_csv('/Users/xueyuanli/Desktop/lithic_soil_joined.csv')\n",
    "artifacts=artifacts.iloc[:,3:]\n",
    "display(artifacts.tail(5))\n",
    "artifacts.info()"
   ]
  },
  {
   "cell_type": "code",
   "execution_count": 4,
   "metadata": {},
   "outputs": [
    {
     "data": {
      "text/html": [
       "<div>\n",
       "<style scoped>\n",
       "    .dataframe tbody tr th:only-of-type {\n",
       "        vertical-align: middle;\n",
       "    }\n",
       "\n",
       "    .dataframe tbody tr th {\n",
       "        vertical-align: top;\n",
       "    }\n",
       "\n",
       "    .dataframe thead th {\n",
       "        text-align: right;\n",
       "    }\n",
       "</style>\n",
       "<table border=\"1\" class=\"dataframe\">\n",
       "  <thead>\n",
       "    <tr style=\"text-align: right;\">\n",
       "      <th></th>\n",
       "      <th>Da</th>\n",
       "      <th>Dp</th>\n",
       "      <th>FWidth</th>\n",
       "      <th>FLength</th>\n",
       "      <th>FThickness</th>\n",
       "      <th>ELength</th>\n",
       "      <th>EThickness</th>\n",
       "      <th>EWidth</th>\n",
       "      <th>Volume</th>\n",
       "      <th>Area</th>\n",
       "      <th>...</th>\n",
       "      <th>W/L Ratio</th>\n",
       "      <th>W/T Ratio</th>\n",
       "      <th>T/W Ratio</th>\n",
       "      <th>CHull Surface Area</th>\n",
       "      <th>Sieve</th>\n",
       "      <th>Angularity</th>\n",
       "      <th>Ellipticity</th>\n",
       "      <th>Fiber Length</th>\n",
       "      <th>Fiber Width</th>\n",
       "      <th>lithic</th>\n",
       "    </tr>\n",
       "  </thead>\n",
       "  <tbody>\n",
       "    <tr>\n",
       "      <th>0</th>\n",
       "      <td>0.246</td>\n",
       "      <td>0.263</td>\n",
       "      <td>0.265</td>\n",
       "      <td>0.359</td>\n",
       "      <td>0.173</td>\n",
       "      <td>0.334</td>\n",
       "      <td>0.166</td>\n",
       "      <td>0.263</td>\n",
       "      <td>0.009</td>\n",
       "      <td>0.047</td>\n",
       "      <td>...</td>\n",
       "      <td>0.738</td>\n",
       "      <td>1.532</td>\n",
       "      <td>0.653</td>\n",
       "      <td>0.195</td>\n",
       "      <td>0.219</td>\n",
       "      <td>57.143</td>\n",
       "      <td>2.014</td>\n",
       "      <td>0.233</td>\n",
       "      <td>0.182</td>\n",
       "      <td>0.0</td>\n",
       "    </tr>\n",
       "    <tr>\n",
       "      <th>1</th>\n",
       "      <td>0.246</td>\n",
       "      <td>0.261</td>\n",
       "      <td>0.271</td>\n",
       "      <td>0.440</td>\n",
       "      <td>0.137</td>\n",
       "      <td>0.429</td>\n",
       "      <td>0.127</td>\n",
       "      <td>0.268</td>\n",
       "      <td>0.009</td>\n",
       "      <td>0.048</td>\n",
       "      <td>...</td>\n",
       "      <td>0.616</td>\n",
       "      <td>1.984</td>\n",
       "      <td>0.504</td>\n",
       "      <td>0.196</td>\n",
       "      <td>0.204</td>\n",
       "      <td>60.000</td>\n",
       "      <td>3.390</td>\n",
       "      <td>0.212</td>\n",
       "      <td>0.118</td>\n",
       "      <td>0.0</td>\n",
       "    </tr>\n",
       "    <tr>\n",
       "      <th>2</th>\n",
       "      <td>0.266</td>\n",
       "      <td>0.314</td>\n",
       "      <td>0.285</td>\n",
       "      <td>0.549</td>\n",
       "      <td>0.140</td>\n",
       "      <td>0.580</td>\n",
       "      <td>0.132</td>\n",
       "      <td>0.253</td>\n",
       "      <td>0.011</td>\n",
       "      <td>0.056</td>\n",
       "      <td>...</td>\n",
       "      <td>0.519</td>\n",
       "      <td>2.026</td>\n",
       "      <td>0.494</td>\n",
       "      <td>0.250</td>\n",
       "      <td>0.212</td>\n",
       "      <td>68.000</td>\n",
       "      <td>4.379</td>\n",
       "      <td>0.627</td>\n",
       "      <td>0.139</td>\n",
       "      <td>0.0</td>\n",
       "    </tr>\n",
       "    <tr>\n",
       "      <th>3</th>\n",
       "      <td>0.252</td>\n",
       "      <td>0.309</td>\n",
       "      <td>0.281</td>\n",
       "      <td>0.585</td>\n",
       "      <td>0.187</td>\n",
       "      <td>0.588</td>\n",
       "      <td>0.190</td>\n",
       "      <td>0.264</td>\n",
       "      <td>0.016</td>\n",
       "      <td>0.050</td>\n",
       "      <td>...</td>\n",
       "      <td>0.480</td>\n",
       "      <td>1.504</td>\n",
       "      <td>0.665</td>\n",
       "      <td>0.233</td>\n",
       "      <td>0.234</td>\n",
       "      <td>60.000</td>\n",
       "      <td>3.094</td>\n",
       "      <td>0.724</td>\n",
       "      <td>0.101</td>\n",
       "      <td>0.0</td>\n",
       "    </tr>\n",
       "    <tr>\n",
       "      <th>4</th>\n",
       "      <td>0.228</td>\n",
       "      <td>0.243</td>\n",
       "      <td>0.204</td>\n",
       "      <td>0.319</td>\n",
       "      <td>0.181</td>\n",
       "      <td>0.323</td>\n",
       "      <td>0.183</td>\n",
       "      <td>0.209</td>\n",
       "      <td>0.006</td>\n",
       "      <td>0.041</td>\n",
       "      <td>...</td>\n",
       "      <td>0.639</td>\n",
       "      <td>1.125</td>\n",
       "      <td>0.889</td>\n",
       "      <td>0.168</td>\n",
       "      <td>0.193</td>\n",
       "      <td>55.000</td>\n",
       "      <td>1.761</td>\n",
       "      <td>0.000</td>\n",
       "      <td>0.000</td>\n",
       "      <td>0.0</td>\n",
       "    </tr>\n",
       "  </tbody>\n",
       "</table>\n",
       "<p>5 rows × 38 columns</p>\n",
       "</div>"
      ],
      "text/plain": [
       "      Da     Dp  FWidth  FLength  FThickness  ELength  EThickness  EWidth  \\\n",
       "0  0.246  0.263   0.265    0.359       0.173    0.334       0.166   0.263   \n",
       "1  0.246  0.261   0.271    0.440       0.137    0.429       0.127   0.268   \n",
       "2  0.266  0.314   0.285    0.549       0.140    0.580       0.132   0.253   \n",
       "3  0.252  0.309   0.281    0.585       0.187    0.588       0.190   0.264   \n",
       "4  0.228  0.243   0.204    0.319       0.181    0.323       0.183   0.209   \n",
       "\n",
       "   Volume   Area  ...  W/L Ratio  W/T Ratio  T/W Ratio  CHull Surface Area  \\\n",
       "0   0.009  0.047  ...      0.738      1.532      0.653               0.195   \n",
       "1   0.009  0.048  ...      0.616      1.984      0.504               0.196   \n",
       "2   0.011  0.056  ...      0.519      2.026      0.494               0.250   \n",
       "3   0.016  0.050  ...      0.480      1.504      0.665               0.233   \n",
       "4   0.006  0.041  ...      0.639      1.125      0.889               0.168   \n",
       "\n",
       "   Sieve  Angularity  Ellipticity  Fiber Length  Fiber Width  lithic  \n",
       "0  0.219      57.143        2.014         0.233        0.182     0.0  \n",
       "1  0.204      60.000        3.390         0.212        0.118     0.0  \n",
       "2  0.212      68.000        4.379         0.627        0.139     0.0  \n",
       "3  0.234      60.000        3.094         0.724        0.101     0.0  \n",
       "4  0.193      55.000        1.761         0.000        0.000     0.0  \n",
       "\n",
       "[5 rows x 38 columns]"
      ]
     },
     "execution_count": 4,
     "metadata": {},
     "output_type": "execute_result"
    }
   ],
   "source": [
    "# Let's make a dataframe that has an equal # of lithic rows and soil rows \n",
    "\n",
    "import random\n",
    "soil_df = artifacts.loc[artifacts.loc[:, 'lithic'] == 0]\n",
    "soil_sample_ids = []\n",
    "soil_df = soil_df.reset_index(drop = True)\n",
    "soil_all_ids = list(soil_df.index.values)\n",
    "\n",
    "for i in range (0, 4867):\n",
    "    random_id = random.choice(soil_all_ids)\n",
    "    soil_sample_ids.append(random_id)\n",
    "    soil_all_ids.remove(random_id)\n",
    "\n",
    "small_soil_df = pd.DataFrame(columns = soil_df.columns)\n",
    "for i in range (0, 4867):\n",
    "    soil_sample_row = soil_df.loc[soil_sample_ids[i]]\n",
    "    small_soil_df.loc[len(small_soil_df)] = soil_sample_row\n",
    "    \n",
    "small_soil_df.head()"
   ]
  },
  {
   "cell_type": "code",
   "execution_count": 5,
   "metadata": {},
   "outputs": [
    {
     "data": {
      "text/html": [
       "<div>\n",
       "<style scoped>\n",
       "    .dataframe tbody tr th:only-of-type {\n",
       "        vertical-align: middle;\n",
       "    }\n",
       "\n",
       "    .dataframe tbody tr th {\n",
       "        vertical-align: top;\n",
       "    }\n",
       "\n",
       "    .dataframe thead th {\n",
       "        text-align: right;\n",
       "    }\n",
       "</style>\n",
       "<table border=\"1\" class=\"dataframe\">\n",
       "  <thead>\n",
       "    <tr style=\"text-align: right;\">\n",
       "      <th></th>\n",
       "      <th>Da</th>\n",
       "      <th>Dp</th>\n",
       "      <th>FWidth</th>\n",
       "      <th>FLength</th>\n",
       "      <th>FThickness</th>\n",
       "      <th>ELength</th>\n",
       "      <th>EThickness</th>\n",
       "      <th>EWidth</th>\n",
       "      <th>Volume</th>\n",
       "      <th>Area</th>\n",
       "      <th>...</th>\n",
       "      <th>W/L Ratio</th>\n",
       "      <th>W/T Ratio</th>\n",
       "      <th>T/W Ratio</th>\n",
       "      <th>CHull Surface Area</th>\n",
       "      <th>Sieve</th>\n",
       "      <th>Angularity</th>\n",
       "      <th>Ellipticity</th>\n",
       "      <th>Fiber Length</th>\n",
       "      <th>Fiber Width</th>\n",
       "      <th>lithic</th>\n",
       "    </tr>\n",
       "  </thead>\n",
       "  <tbody>\n",
       "    <tr>\n",
       "      <th>2014</th>\n",
       "      <td>0.254</td>\n",
       "      <td>0.297</td>\n",
       "      <td>0.283</td>\n",
       "      <td>0.403</td>\n",
       "      <td>0.133</td>\n",
       "      <td>0.396</td>\n",
       "      <td>0.129</td>\n",
       "      <td>0.278</td>\n",
       "      <td>0.008</td>\n",
       "      <td>0.051</td>\n",
       "      <td>...</td>\n",
       "      <td>0.703</td>\n",
       "      <td>2.126</td>\n",
       "      <td>0.470</td>\n",
       "      <td>0.220</td>\n",
       "      <td>0.208</td>\n",
       "      <td>63.333</td>\n",
       "      <td>3.084</td>\n",
       "      <td>0.500</td>\n",
       "      <td>0.103</td>\n",
       "      <td>0.0</td>\n",
       "    </tr>\n",
       "    <tr>\n",
       "      <th>2074</th>\n",
       "      <td>0.213</td>\n",
       "      <td>0.272</td>\n",
       "      <td>0.132</td>\n",
       "      <td>0.388</td>\n",
       "      <td>0.132</td>\n",
       "      <td>0.370</td>\n",
       "      <td>0.121</td>\n",
       "      <td>0.121</td>\n",
       "      <td>0.004</td>\n",
       "      <td>0.036</td>\n",
       "      <td>...</td>\n",
       "      <td>0.341</td>\n",
       "      <td>1.000</td>\n",
       "      <td>1.000</td>\n",
       "      <td>0.145</td>\n",
       "      <td>0.132</td>\n",
       "      <td>64.000</td>\n",
       "      <td>3.048</td>\n",
       "      <td>0.289</td>\n",
       "      <td>0.123</td>\n",
       "      <td>1.0</td>\n",
       "    </tr>\n",
       "    <tr>\n",
       "      <th>428</th>\n",
       "      <td>0.258</td>\n",
       "      <td>0.305</td>\n",
       "      <td>0.282</td>\n",
       "      <td>0.500</td>\n",
       "      <td>0.177</td>\n",
       "      <td>0.503</td>\n",
       "      <td>0.158</td>\n",
       "      <td>0.254</td>\n",
       "      <td>0.013</td>\n",
       "      <td>0.052</td>\n",
       "      <td>...</td>\n",
       "      <td>0.563</td>\n",
       "      <td>1.593</td>\n",
       "      <td>0.628</td>\n",
       "      <td>0.231</td>\n",
       "      <td>0.229</td>\n",
       "      <td>64.167</td>\n",
       "      <td>3.184</td>\n",
       "      <td>0.482</td>\n",
       "      <td>0.182</td>\n",
       "      <td>0.0</td>\n",
       "    </tr>\n",
       "    <tr>\n",
       "      <th>289</th>\n",
       "      <td>0.563</td>\n",
       "      <td>0.692</td>\n",
       "      <td>0.357</td>\n",
       "      <td>0.941</td>\n",
       "      <td>0.357</td>\n",
       "      <td>0.901</td>\n",
       "      <td>0.365</td>\n",
       "      <td>0.365</td>\n",
       "      <td>0.063</td>\n",
       "      <td>0.249</td>\n",
       "      <td>...</td>\n",
       "      <td>0.379</td>\n",
       "      <td>1.000</td>\n",
       "      <td>1.000</td>\n",
       "      <td>1.019</td>\n",
       "      <td>0.357</td>\n",
       "      <td>45.556</td>\n",
       "      <td>2.470</td>\n",
       "      <td>0.741</td>\n",
       "      <td>0.337</td>\n",
       "      <td>1.0</td>\n",
       "    </tr>\n",
       "    <tr>\n",
       "      <th>4140</th>\n",
       "      <td>0.182</td>\n",
       "      <td>0.265</td>\n",
       "      <td>0.200</td>\n",
       "      <td>0.302</td>\n",
       "      <td>0.140</td>\n",
       "      <td>0.346</td>\n",
       "      <td>0.141</td>\n",
       "      <td>0.187</td>\n",
       "      <td>0.004</td>\n",
       "      <td>0.026</td>\n",
       "      <td>...</td>\n",
       "      <td>0.662</td>\n",
       "      <td>1.423</td>\n",
       "      <td>0.703</td>\n",
       "      <td>0.134</td>\n",
       "      <td>0.170</td>\n",
       "      <td>70.909</td>\n",
       "      <td>2.457</td>\n",
       "      <td>0.520</td>\n",
       "      <td>0.047</td>\n",
       "      <td>0.0</td>\n",
       "    </tr>\n",
       "    <tr>\n",
       "      <th>932</th>\n",
       "      <td>0.261</td>\n",
       "      <td>0.271</td>\n",
       "      <td>0.252</td>\n",
       "      <td>0.313</td>\n",
       "      <td>0.222</td>\n",
       "      <td>0.308</td>\n",
       "      <td>0.223</td>\n",
       "      <td>0.254</td>\n",
       "      <td>0.009</td>\n",
       "      <td>0.053</td>\n",
       "      <td>...</td>\n",
       "      <td>0.805</td>\n",
       "      <td>1.135</td>\n",
       "      <td>0.881</td>\n",
       "      <td>0.216</td>\n",
       "      <td>0.237</td>\n",
       "      <td>56.667</td>\n",
       "      <td>1.381</td>\n",
       "      <td>0.000</td>\n",
       "      <td>0.000</td>\n",
       "      <td>0.0</td>\n",
       "    </tr>\n",
       "    <tr>\n",
       "      <th>301</th>\n",
       "      <td>0.254</td>\n",
       "      <td>0.270</td>\n",
       "      <td>0.226</td>\n",
       "      <td>0.354</td>\n",
       "      <td>0.194</td>\n",
       "      <td>0.349</td>\n",
       "      <td>0.188</td>\n",
       "      <td>0.221</td>\n",
       "      <td>0.008</td>\n",
       "      <td>0.051</td>\n",
       "      <td>...</td>\n",
       "      <td>0.639</td>\n",
       "      <td>1.165</td>\n",
       "      <td>0.858</td>\n",
       "      <td>0.205</td>\n",
       "      <td>0.210</td>\n",
       "      <td>55.000</td>\n",
       "      <td>1.858</td>\n",
       "      <td>0.000</td>\n",
       "      <td>0.000</td>\n",
       "      <td>0.0</td>\n",
       "    </tr>\n",
       "    <tr>\n",
       "      <th>4455</th>\n",
       "      <td>0.268</td>\n",
       "      <td>0.362</td>\n",
       "      <td>0.300</td>\n",
       "      <td>0.431</td>\n",
       "      <td>0.159</td>\n",
       "      <td>0.487</td>\n",
       "      <td>0.158</td>\n",
       "      <td>0.269</td>\n",
       "      <td>0.011</td>\n",
       "      <td>0.056</td>\n",
       "      <td>...</td>\n",
       "      <td>0.696</td>\n",
       "      <td>1.889</td>\n",
       "      <td>0.529</td>\n",
       "      <td>0.276</td>\n",
       "      <td>0.229</td>\n",
       "      <td>64.667</td>\n",
       "      <td>3.073</td>\n",
       "      <td>0.652</td>\n",
       "      <td>0.100</td>\n",
       "      <td>0.0</td>\n",
       "    </tr>\n",
       "    <tr>\n",
       "      <th>3333</th>\n",
       "      <td>0.171</td>\n",
       "      <td>0.181</td>\n",
       "      <td>0.170</td>\n",
       "      <td>0.237</td>\n",
       "      <td>0.125</td>\n",
       "      <td>0.224</td>\n",
       "      <td>0.128</td>\n",
       "      <td>0.166</td>\n",
       "      <td>0.003</td>\n",
       "      <td>0.023</td>\n",
       "      <td>...</td>\n",
       "      <td>0.719</td>\n",
       "      <td>1.361</td>\n",
       "      <td>0.735</td>\n",
       "      <td>0.093</td>\n",
       "      <td>0.148</td>\n",
       "      <td>58.571</td>\n",
       "      <td>1.755</td>\n",
       "      <td>0.000</td>\n",
       "      <td>0.000</td>\n",
       "      <td>0.0</td>\n",
       "    </tr>\n",
       "    <tr>\n",
       "      <th>718</th>\n",
       "      <td>0.329</td>\n",
       "      <td>0.352</td>\n",
       "      <td>0.315</td>\n",
       "      <td>0.435</td>\n",
       "      <td>0.263</td>\n",
       "      <td>0.424</td>\n",
       "      <td>0.260</td>\n",
       "      <td>0.301</td>\n",
       "      <td>0.019</td>\n",
       "      <td>0.085</td>\n",
       "      <td>...</td>\n",
       "      <td>0.724</td>\n",
       "      <td>1.200</td>\n",
       "      <td>0.833</td>\n",
       "      <td>0.343</td>\n",
       "      <td>0.289</td>\n",
       "      <td>85.000</td>\n",
       "      <td>1.629</td>\n",
       "      <td>0.000</td>\n",
       "      <td>0.000</td>\n",
       "      <td>1.0</td>\n",
       "    </tr>\n",
       "  </tbody>\n",
       "</table>\n",
       "<p>10 rows × 38 columns</p>\n",
       "</div>"
      ],
      "text/plain": [
       "         Da     Dp  FWidth  FLength  FThickness  ELength  EThickness  EWidth  \\\n",
       "2014  0.254  0.297   0.283    0.403       0.133    0.396       0.129   0.278   \n",
       "2074  0.213  0.272   0.132    0.388       0.132    0.370       0.121   0.121   \n",
       "428   0.258  0.305   0.282    0.500       0.177    0.503       0.158   0.254   \n",
       "289   0.563  0.692   0.357    0.941       0.357    0.901       0.365   0.365   \n",
       "4140  0.182  0.265   0.200    0.302       0.140    0.346       0.141   0.187   \n",
       "932   0.261  0.271   0.252    0.313       0.222    0.308       0.223   0.254   \n",
       "301   0.254  0.270   0.226    0.354       0.194    0.349       0.188   0.221   \n",
       "4455  0.268  0.362   0.300    0.431       0.159    0.487       0.158   0.269   \n",
       "3333  0.171  0.181   0.170    0.237       0.125    0.224       0.128   0.166   \n",
       "718   0.329  0.352   0.315    0.435       0.263    0.424       0.260   0.301   \n",
       "\n",
       "      Volume   Area  ...  W/L Ratio  W/T Ratio  T/W Ratio  CHull Surface Area  \\\n",
       "2014   0.008  0.051  ...      0.703      2.126      0.470               0.220   \n",
       "2074   0.004  0.036  ...      0.341      1.000      1.000               0.145   \n",
       "428    0.013  0.052  ...      0.563      1.593      0.628               0.231   \n",
       "289    0.063  0.249  ...      0.379      1.000      1.000               1.019   \n",
       "4140   0.004  0.026  ...      0.662      1.423      0.703               0.134   \n",
       "932    0.009  0.053  ...      0.805      1.135      0.881               0.216   \n",
       "301    0.008  0.051  ...      0.639      1.165      0.858               0.205   \n",
       "4455   0.011  0.056  ...      0.696      1.889      0.529               0.276   \n",
       "3333   0.003  0.023  ...      0.719      1.361      0.735               0.093   \n",
       "718    0.019  0.085  ...      0.724      1.200      0.833               0.343   \n",
       "\n",
       "      Sieve  Angularity  Ellipticity  Fiber Length  Fiber Width  lithic  \n",
       "2014  0.208      63.333        3.084         0.500        0.103     0.0  \n",
       "2074  0.132      64.000        3.048         0.289        0.123     1.0  \n",
       "428   0.229      64.167        3.184         0.482        0.182     0.0  \n",
       "289   0.357      45.556        2.470         0.741        0.337     1.0  \n",
       "4140  0.170      70.909        2.457         0.520        0.047     0.0  \n",
       "932   0.237      56.667        1.381         0.000        0.000     0.0  \n",
       "301   0.210      55.000        1.858         0.000        0.000     0.0  \n",
       "4455  0.229      64.667        3.073         0.652        0.100     0.0  \n",
       "3333  0.148      58.571        1.755         0.000        0.000     0.0  \n",
       "718   0.289      85.000        1.629         0.000        0.000     1.0  \n",
       "\n",
       "[10 rows x 38 columns]"
      ]
     },
     "execution_count": 5,
     "metadata": {},
     "output_type": "execute_result"
    }
   ],
   "source": [
    "lithic_df = artifacts.loc[artifacts.loc[:, 'lithic'] == 1] \n",
    "\n",
    "equal_sample_df = pd.concat([small_soil_df, lithic_df])\n",
    "equal_sample_df.sample(10)"
   ]
  },
  {
   "cell_type": "markdown",
   "metadata": {},
   "source": [
    "## Splitting the data into test and training sets"
   ]
  },
  {
   "cell_type": "code",
   "execution_count": 6,
   "metadata": {},
   "outputs": [],
   "source": [
    "# machine learning libs\n",
    "from sklearn.model_selection import train_test_split\n",
    "\n",
    "lithic_column = ['lithic']\n",
    "random_seed = 42\n",
    "\n",
    "## USE THIS IF YOU WANT TO SELECT SPECIFIC FEATURES, input strings into feature selections\n",
    "#feature_selection = []\n",
    "#features = artifacts.drop('lithic', axis=1)[[feature_selection]]\n",
    "##\n",
    "\n",
    "feature_selection = ['L/W Ratio', 'T/W Ratio', 'Circularity', 'Angularity', 'Transparency']\n",
    "features = equal_sample_df.drop('lithic', axis=1)[feature_selection]\n",
    "\n",
    "## Delete this after implement code above\n",
    "# features = artifacts.drop('lithic', axis=1).iloc[:,-5:]\n",
    "# features\n",
    "target = equal_sample_df[lithic_column]\n",
    "\n",
    "X_train, X_test, y_train, y_test = train_test_split(features, target, test_size=0.25, \n",
    "                                                    random_state=random_seed, \n",
    "                                                    stratify=equal_sample_df[lithic_column])"
   ]
  },
  {
   "cell_type": "code",
   "execution_count": 7,
   "metadata": {},
   "outputs": [
    {
     "data": {
      "text/html": [
       "<div>\n",
       "<style scoped>\n",
       "    .dataframe tbody tr th:only-of-type {\n",
       "        vertical-align: middle;\n",
       "    }\n",
       "\n",
       "    .dataframe tbody tr th {\n",
       "        vertical-align: top;\n",
       "    }\n",
       "\n",
       "    .dataframe thead th {\n",
       "        text-align: right;\n",
       "    }\n",
       "</style>\n",
       "<table border=\"1\" class=\"dataframe\">\n",
       "  <thead>\n",
       "    <tr style=\"text-align: right;\">\n",
       "      <th></th>\n",
       "      <th>L/W Ratio</th>\n",
       "      <th>T/W Ratio</th>\n",
       "      <th>Circularity</th>\n",
       "      <th>Angularity</th>\n",
       "      <th>Transparency</th>\n",
       "    </tr>\n",
       "  </thead>\n",
       "  <tbody>\n",
       "    <tr>\n",
       "      <th>0</th>\n",
       "      <td>1.355</td>\n",
       "      <td>0.653</td>\n",
       "      <td>0.874</td>\n",
       "      <td>57.143</td>\n",
       "      <td>0.388</td>\n",
       "    </tr>\n",
       "    <tr>\n",
       "      <th>1</th>\n",
       "      <td>1.624</td>\n",
       "      <td>0.504</td>\n",
       "      <td>0.893</td>\n",
       "      <td>60.000</td>\n",
       "      <td>0.404</td>\n",
       "    </tr>\n",
       "    <tr>\n",
       "      <th>2</th>\n",
       "      <td>1.928</td>\n",
       "      <td>0.494</td>\n",
       "      <td>0.721</td>\n",
       "      <td>68.000</td>\n",
       "      <td>0.472</td>\n",
       "    </tr>\n",
       "    <tr>\n",
       "      <th>3</th>\n",
       "      <td>2.082</td>\n",
       "      <td>0.665</td>\n",
       "      <td>0.662</td>\n",
       "      <td>60.000</td>\n",
       "      <td>0.478</td>\n",
       "    </tr>\n",
       "    <tr>\n",
       "      <th>4</th>\n",
       "      <td>1.565</td>\n",
       "      <td>0.889</td>\n",
       "      <td>0.881</td>\n",
       "      <td>55.000</td>\n",
       "      <td>0.501</td>\n",
       "    </tr>\n",
       "    <tr>\n",
       "      <th>...</th>\n",
       "      <td>...</td>\n",
       "      <td>...</td>\n",
       "      <td>...</td>\n",
       "      <td>...</td>\n",
       "      <td>...</td>\n",
       "    </tr>\n",
       "    <tr>\n",
       "      <th>4862</th>\n",
       "      <td>2.000</td>\n",
       "      <td>1.000</td>\n",
       "      <td>0.114</td>\n",
       "      <td>120.000</td>\n",
       "      <td>0.651</td>\n",
       "    </tr>\n",
       "    <tr>\n",
       "      <th>4863</th>\n",
       "      <td>2.500</td>\n",
       "      <td>1.000</td>\n",
       "      <td>0.214</td>\n",
       "      <td>110.000</td>\n",
       "      <td>0.601</td>\n",
       "    </tr>\n",
       "    <tr>\n",
       "      <th>4864</th>\n",
       "      <td>4.000</td>\n",
       "      <td>1.000</td>\n",
       "      <td>0.161</td>\n",
       "      <td>87.500</td>\n",
       "      <td>0.601</td>\n",
       "    </tr>\n",
       "    <tr>\n",
       "      <th>4865</th>\n",
       "      <td>4.000</td>\n",
       "      <td>1.000</td>\n",
       "      <td>0.161</td>\n",
       "      <td>116.667</td>\n",
       "      <td>0.653</td>\n",
       "    </tr>\n",
       "    <tr>\n",
       "      <th>4866</th>\n",
       "      <td>2.500</td>\n",
       "      <td>1.000</td>\n",
       "      <td>0.214</td>\n",
       "      <td>110.000</td>\n",
       "      <td>0.618</td>\n",
       "    </tr>\n",
       "  </tbody>\n",
       "</table>\n",
       "<p>9734 rows × 5 columns</p>\n",
       "</div>"
      ],
      "text/plain": [
       "      L/W Ratio  T/W Ratio  Circularity  Angularity  Transparency\n",
       "0         1.355      0.653        0.874      57.143         0.388\n",
       "1         1.624      0.504        0.893      60.000         0.404\n",
       "2         1.928      0.494        0.721      68.000         0.472\n",
       "3         2.082      0.665        0.662      60.000         0.478\n",
       "4         1.565      0.889        0.881      55.000         0.501\n",
       "...         ...        ...          ...         ...           ...\n",
       "4862      2.000      1.000        0.114     120.000         0.651\n",
       "4863      2.500      1.000        0.214     110.000         0.601\n",
       "4864      4.000      1.000        0.161      87.500         0.601\n",
       "4865      4.000      1.000        0.161     116.667         0.653\n",
       "4866      2.500      1.000        0.214     110.000         0.618\n",
       "\n",
       "[9734 rows x 5 columns]"
      ]
     },
     "execution_count": 7,
     "metadata": {},
     "output_type": "execute_result"
    }
   ],
   "source": [
    "features"
   ]
  },
  {
   "cell_type": "markdown",
   "metadata": {},
   "source": [
    "Check if our target column is removed from testing and training datasets"
   ]
  },
  {
   "cell_type": "code",
   "execution_count": 8,
   "metadata": {},
   "outputs": [
    {
     "name": "stdout",
     "output_type": "stream",
     "text": [
      "On X train: \n",
      "X train dimensions:  (7300, 5)\n"
     ]
    },
    {
     "data": {
      "text/html": [
       "<div>\n",
       "<style scoped>\n",
       "    .dataframe tbody tr th:only-of-type {\n",
       "        vertical-align: middle;\n",
       "    }\n",
       "\n",
       "    .dataframe tbody tr th {\n",
       "        vertical-align: top;\n",
       "    }\n",
       "\n",
       "    .dataframe thead th {\n",
       "        text-align: right;\n",
       "    }\n",
       "</style>\n",
       "<table border=\"1\" class=\"dataframe\">\n",
       "  <thead>\n",
       "    <tr style=\"text-align: right;\">\n",
       "      <th></th>\n",
       "      <th>L/W Ratio</th>\n",
       "      <th>T/W Ratio</th>\n",
       "      <th>Circularity</th>\n",
       "      <th>Angularity</th>\n",
       "      <th>Transparency</th>\n",
       "    </tr>\n",
       "  </thead>\n",
       "  <tbody>\n",
       "    <tr>\n",
       "      <th>489</th>\n",
       "      <td>1.608</td>\n",
       "      <td>0.835</td>\n",
       "      <td>0.869</td>\n",
       "      <td>56.667</td>\n",
       "      <td>0.374</td>\n",
       "    </tr>\n",
       "    <tr>\n",
       "      <th>3012</th>\n",
       "      <td>1.585</td>\n",
       "      <td>0.681</td>\n",
       "      <td>0.866</td>\n",
       "      <td>60.000</td>\n",
       "      <td>0.470</td>\n",
       "    </tr>\n",
       "    <tr>\n",
       "      <th>4431</th>\n",
       "      <td>1.822</td>\n",
       "      <td>0.799</td>\n",
       "      <td>0.738</td>\n",
       "      <td>60.833</td>\n",
       "      <td>0.436</td>\n",
       "    </tr>\n",
       "    <tr>\n",
       "      <th>3781</th>\n",
       "      <td>1.487</td>\n",
       "      <td>0.740</td>\n",
       "      <td>0.879</td>\n",
       "      <td>52.857</td>\n",
       "      <td>0.451</td>\n",
       "    </tr>\n",
       "    <tr>\n",
       "      <th>215</th>\n",
       "      <td>3.625</td>\n",
       "      <td>1.000</td>\n",
       "      <td>0.467</td>\n",
       "      <td>38.333</td>\n",
       "      <td>0.426</td>\n",
       "    </tr>\n",
       "  </tbody>\n",
       "</table>\n",
       "</div>"
      ],
      "text/plain": [
       "      L/W Ratio  T/W Ratio  Circularity  Angularity  Transparency\n",
       "489       1.608      0.835        0.869      56.667         0.374\n",
       "3012      1.585      0.681        0.866      60.000         0.470\n",
       "4431      1.822      0.799        0.738      60.833         0.436\n",
       "3781      1.487      0.740        0.879      52.857         0.451\n",
       "215       3.625      1.000        0.467      38.333         0.426"
      ]
     },
     "metadata": {},
     "output_type": "display_data"
    },
    {
     "name": "stdout",
     "output_type": "stream",
     "text": [
      "\n",
      "On X test: \n",
      "X test dimensions:  (2434, 5)\n"
     ]
    },
    {
     "data": {
      "text/html": [
       "<div>\n",
       "<style scoped>\n",
       "    .dataframe tbody tr th:only-of-type {\n",
       "        vertical-align: middle;\n",
       "    }\n",
       "\n",
       "    .dataframe tbody tr th {\n",
       "        vertical-align: top;\n",
       "    }\n",
       "\n",
       "    .dataframe thead th {\n",
       "        text-align: right;\n",
       "    }\n",
       "</style>\n",
       "<table border=\"1\" class=\"dataframe\">\n",
       "  <thead>\n",
       "    <tr style=\"text-align: right;\">\n",
       "      <th></th>\n",
       "      <th>L/W Ratio</th>\n",
       "      <th>T/W Ratio</th>\n",
       "      <th>Circularity</th>\n",
       "      <th>Angularity</th>\n",
       "      <th>Transparency</th>\n",
       "    </tr>\n",
       "  </thead>\n",
       "  <tbody>\n",
       "    <tr>\n",
       "      <th>1192</th>\n",
       "      <td>2.480</td>\n",
       "      <td>0.926</td>\n",
       "      <td>0.640</td>\n",
       "      <td>66.000</td>\n",
       "      <td>0.500</td>\n",
       "    </tr>\n",
       "    <tr>\n",
       "      <th>1772</th>\n",
       "      <td>1.378</td>\n",
       "      <td>0.722</td>\n",
       "      <td>0.878</td>\n",
       "      <td>58.571</td>\n",
       "      <td>0.530</td>\n",
       "    </tr>\n",
       "    <tr>\n",
       "      <th>4770</th>\n",
       "      <td>1.360</td>\n",
       "      <td>0.627</td>\n",
       "      <td>0.871</td>\n",
       "      <td>56.250</td>\n",
       "      <td>0.393</td>\n",
       "    </tr>\n",
       "    <tr>\n",
       "      <th>4565</th>\n",
       "      <td>1.922</td>\n",
       "      <td>0.610</td>\n",
       "      <td>0.844</td>\n",
       "      <td>58.571</td>\n",
       "      <td>0.381</td>\n",
       "    </tr>\n",
       "    <tr>\n",
       "      <th>2079</th>\n",
       "      <td>1.472</td>\n",
       "      <td>0.781</td>\n",
       "      <td>0.886</td>\n",
       "      <td>66.000</td>\n",
       "      <td>0.491</td>\n",
       "    </tr>\n",
       "  </tbody>\n",
       "</table>\n",
       "</div>"
      ],
      "text/plain": [
       "      L/W Ratio  T/W Ratio  Circularity  Angularity  Transparency\n",
       "1192      2.480      0.926        0.640      66.000         0.500\n",
       "1772      1.378      0.722        0.878      58.571         0.530\n",
       "4770      1.360      0.627        0.871      56.250         0.393\n",
       "4565      1.922      0.610        0.844      58.571         0.381\n",
       "2079      1.472      0.781        0.886      66.000         0.491"
      ]
     },
     "metadata": {},
     "output_type": "display_data"
    }
   ],
   "source": [
    "# X Train\n",
    "print('On X train: ')\n",
    "print('X train dimensions: ', X_train.shape)\n",
    "display(X_train.head())\n",
    "\n",
    "# X test\n",
    "print('\\nOn X test: ')\n",
    "print('X test dimensions: ', X_test.shape)\n",
    "display(X_test.head())"
   ]
  },
  {
   "cell_type": "code",
   "execution_count": 9,
   "metadata": {},
   "outputs": [
    {
     "name": "stdout",
     "output_type": "stream",
     "text": [
      "On y train: \n",
      "y train dimensions:  (7300, 1)\n"
     ]
    },
    {
     "data": {
      "text/html": [
       "<div>\n",
       "<style scoped>\n",
       "    .dataframe tbody tr th:only-of-type {\n",
       "        vertical-align: middle;\n",
       "    }\n",
       "\n",
       "    .dataframe tbody tr th {\n",
       "        vertical-align: top;\n",
       "    }\n",
       "\n",
       "    .dataframe thead th {\n",
       "        text-align: right;\n",
       "    }\n",
       "</style>\n",
       "<table border=\"1\" class=\"dataframe\">\n",
       "  <thead>\n",
       "    <tr style=\"text-align: right;\">\n",
       "      <th></th>\n",
       "      <th>lithic</th>\n",
       "    </tr>\n",
       "  </thead>\n",
       "  <tbody>\n",
       "    <tr>\n",
       "      <th>489</th>\n",
       "      <td>0.0</td>\n",
       "    </tr>\n",
       "    <tr>\n",
       "      <th>3012</th>\n",
       "      <td>0.0</td>\n",
       "    </tr>\n",
       "    <tr>\n",
       "      <th>4431</th>\n",
       "      <td>0.0</td>\n",
       "    </tr>\n",
       "    <tr>\n",
       "      <th>3781</th>\n",
       "      <td>0.0</td>\n",
       "    </tr>\n",
       "    <tr>\n",
       "      <th>215</th>\n",
       "      <td>1.0</td>\n",
       "    </tr>\n",
       "  </tbody>\n",
       "</table>\n",
       "</div>"
      ],
      "text/plain": [
       "      lithic\n",
       "489      0.0\n",
       "3012     0.0\n",
       "4431     0.0\n",
       "3781     0.0\n",
       "215      1.0"
      ]
     },
     "metadata": {},
     "output_type": "display_data"
    },
    {
     "name": "stdout",
     "output_type": "stream",
     "text": [
      "\n",
      "On y test: \n",
      "y test dimensions:  (2434, 1)\n"
     ]
    },
    {
     "data": {
      "text/html": [
       "<div>\n",
       "<style scoped>\n",
       "    .dataframe tbody tr th:only-of-type {\n",
       "        vertical-align: middle;\n",
       "    }\n",
       "\n",
       "    .dataframe tbody tr th {\n",
       "        vertical-align: top;\n",
       "    }\n",
       "\n",
       "    .dataframe thead th {\n",
       "        text-align: right;\n",
       "    }\n",
       "</style>\n",
       "<table border=\"1\" class=\"dataframe\">\n",
       "  <thead>\n",
       "    <tr style=\"text-align: right;\">\n",
       "      <th></th>\n",
       "      <th>lithic</th>\n",
       "    </tr>\n",
       "  </thead>\n",
       "  <tbody>\n",
       "    <tr>\n",
       "      <th>1192</th>\n",
       "      <td>1.0</td>\n",
       "    </tr>\n",
       "    <tr>\n",
       "      <th>1772</th>\n",
       "      <td>0.0</td>\n",
       "    </tr>\n",
       "    <tr>\n",
       "      <th>4770</th>\n",
       "      <td>0.0</td>\n",
       "    </tr>\n",
       "    <tr>\n",
       "      <th>4565</th>\n",
       "      <td>0.0</td>\n",
       "    </tr>\n",
       "    <tr>\n",
       "      <th>2079</th>\n",
       "      <td>0.0</td>\n",
       "    </tr>\n",
       "  </tbody>\n",
       "</table>\n",
       "</div>"
      ],
      "text/plain": [
       "      lithic\n",
       "1192     1.0\n",
       "1772     0.0\n",
       "4770     0.0\n",
       "4565     0.0\n",
       "2079     0.0"
      ]
     },
     "metadata": {},
     "output_type": "display_data"
    }
   ],
   "source": [
    "# Y Train\n",
    "print('On y train: ')\n",
    "print('y train dimensions: ', y_train.shape)\n",
    "display(y_train.head())\n",
    "\n",
    "# Y test\n",
    "print('\\nOn y test: ')\n",
    "print('y test dimensions: ', y_test.shape)\n",
    "display(y_test.head())"
   ]
  },
  {
   "cell_type": "markdown",
   "metadata": {},
   "source": [
    "## Data Preprocessing - Imputation"
   ]
  },
  {
   "cell_type": "code",
   "execution_count": 10,
   "metadata": {},
   "outputs": [],
   "source": [
    "#from sklearn.impute import SimpleImputer\n",
    "from sklearn.preprocessing import StandardScaler, LabelEncoder\n",
    "\n",
    "# fill missing values with medians\n",
    "# imputer = SimpleImputer(strategy='median')\n",
    "# X_train_transformed = imputer.fit_transform(X_train)\n",
    "# scale the data\n",
    "scale = StandardScaler()\n",
    "X_train_transformed = scale.fit_transform(X_train)\n",
    "\n",
    "# apply imputer and scaler to test data. But here we will not apply the\n",
    "# fit method because we do not want the model to learn anything from the test data!\n",
    "# X_test_transformed = imputer.transform(X_test)\n",
    "X_test_transformed = scale.transform(X_test)\n",
    "\n",
    "# Encode the target as well since it's categorical - we can also transform the target column using pandas\n",
    "le = LabelEncoder()\n",
    "le.fit(y_train.values.ravel())\n",
    "y_train_transformed = le.transform(y_train.values.ravel())\n",
    "y_test_transformed = le.transform(y_test.values.ravel())\n",
    "#le.classes_"
   ]
  },
  {
   "cell_type": "markdown",
   "metadata": {},
   "source": [
    "## Modeling and Evaluation"
   ]
  },
  {
   "cell_type": "markdown",
   "metadata": {},
   "source": [
    "#### Model 1: Random Forest"
   ]
  },
  {
   "cell_type": "code",
   "execution_count": 11,
   "metadata": {},
   "outputs": [
    {
     "data": {
      "text/plain": [
       "array([0, 1])"
      ]
     },
     "execution_count": 11,
     "metadata": {},
     "output_type": "execute_result"
    }
   ],
   "source": [
    "np.unique(y_train_transformed)"
   ]
  },
  {
   "cell_type": "code",
   "execution_count": 12,
   "metadata": {},
   "outputs": [
    {
     "data": {
      "text/plain": [
       "array([[-4.84461079e-01,  1.02146371e-01,  8.45261349e-01,\n",
       "        -6.87837169e-01, -1.19152570e+00],\n",
       "       [-5.06333787e-01, -6.61731195e-01,  8.27745449e-01,\n",
       "        -4.85259322e-01, -2.83491099e-02],\n",
       "       [-2.80949793e-01, -7.64224103e-02,  8.04003806e-02,\n",
       "        -4.34630055e-01, -4.40307486e-01],\n",
       "       ...,\n",
       "       [ 2.33661492e-02,  9.20586620e-01,  1.50463981e-01,\n",
       "         9.76134330e-04,  6.98636260e-01],\n",
       "       [ 3.34326288e+00,  9.20586620e-01, -2.33679382e+00,\n",
       "         1.18617506e+00,  6.50170569e-01],\n",
       "       [-6.80364466e-01, -1.48017144e+00, -3.22465320e-01,\n",
       "        -7.89156482e-01, -6.82635943e-01]])"
      ]
     },
     "execution_count": 12,
     "metadata": {},
     "output_type": "execute_result"
    }
   ],
   "source": [
    "X_train_transformed"
   ]
  },
  {
   "cell_type": "code",
   "execution_count": 13,
   "metadata": {},
   "outputs": [
    {
     "name": "stdout",
     "output_type": "stream",
     "text": [
      "Accuracy of RF classifier on training set: 1.00\n",
      "Accuracy of RF classifier on test set: 0.95\n",
      "              precision    recall  f1-score   support\n",
      "\n",
      "           0       0.95      0.96      0.95      1217\n",
      "           1       0.96      0.94      0.95      1217\n",
      "\n",
      "    accuracy                           0.95      2434\n",
      "   macro avg       0.95      0.95      0.95      2434\n",
      "weighted avg       0.95      0.95      0.95      2434\n",
      "\n"
     ]
    },
    {
     "data": {
      "image/png": "[encoded data removed]",
      "text/plain": [
       "<Figure size 432x288 with 2 Axes>"
      ]
     },
     "metadata": {
      "needs_background": "light"
     },
     "output_type": "display_data"
    }
   ],
   "source": [
    "from sklearn.ensemble import RandomForestClassifier\n",
    "from sklearn.metrics import ConfusionMatrixDisplay\n",
    "random_seed = 42\n",
    "\n",
    "rf = RandomForestClassifier()\n",
    "rf.fit(X_train_transformed, y_train_transformed)\n",
    "print('Accuracy of RF classifier on training set: {:.2f}'.format(rf.score(X_train_transformed, y_train_transformed)))\n",
    "print('Accuracy of RF classifier on test set: {:.2f}'.format(rf.score(X_test_transformed, y_test_transformed)))\n",
    "\n",
    "pred = rf.predict(X_test_transformed)\n",
    "\n",
    "print(classification_report(y_test_transformed, pred))\n",
    "\n",
    "cm = confusion_matrix(y_test_transformed, rf.predict(X_test_transformed))\n",
    "disp = ConfusionMatrixDisplay(confusion_matrix=cm, display_labels=rf.classes_)\n",
    "disp.plot()\n",
    "\n",
    "plt.show()"
   ]
  },
  {
   "cell_type": "markdown",
   "metadata": {},
   "source": [
    "#### Model 2: SVC"
   ]
  },
  {
   "cell_type": "code",
   "execution_count": 14,
   "metadata": {},
   "outputs": [
    {
     "name": "stdout",
     "output_type": "stream",
     "text": [
      "Accuracy of SVM classifier on training set: 0.96\n",
      "Accuracy of SVM classifier on test set: 0.95\n",
      "              precision    recall  f1-score   support\n",
      "\n",
      "           0       0.94      0.96      0.95      1217\n",
      "           1       0.96      0.94      0.95      1217\n",
      "\n",
      "    accuracy                           0.95      2434\n",
      "   macro avg       0.95      0.95      0.95      2434\n",
      "weighted avg       0.95      0.95      0.95      2434\n",
      "\n"
     ]
    },
    {
     "data": {
      "image/png": "[encoded data removed]",
      "text/plain": [
       "<Figure size 432x288 with 2 Axes>"
      ]
     },
     "metadata": {
      "needs_background": "light"
     },
     "output_type": "display_data"
    }
   ],
   "source": [
    "from sklearn.svm import SVC\n",
    "\n",
    "#svc = SVC(gamma='auto',probability=True)\n",
    "svc = SVC(probability=True)\n",
    "\n",
    "svc.fit(X_train_transformed, y_train_transformed)\n",
    "\n",
    "pred_svc = svc.predict(X_test_transformed)\n",
    "\n",
    "print('Accuracy of SVM classifier on training set: {:.2f}'.format(svc.score(X_train_transformed, y_train_transformed)))\n",
    "print('Accuracy of SVM classifier on test set: {:.2f}'.format(svc.score(X_test_transformed, y_test_transformed)))\n",
    "\n",
    "print(classification_report(y_test_transformed, pred_svc))\n",
    "\n",
    "cm_svc = confusion_matrix(y_test_transformed, svc.predict(X_test_transformed))\n",
    "disp = ConfusionMatrixDisplay(confusion_matrix=cm_svc, display_labels=svc.classes_)\n",
    "disp.plot()\n",
    "\n",
    "plt.show()\n"
   ]
  },
  {
   "cell_type": "code",
   "execution_count": 15,
   "metadata": {},
   "outputs": [
    {
     "data": {
      "text/plain": [
       "array([0, 0, 0, ..., 1, 1, 0])"
      ]
     },
     "execution_count": 15,
     "metadata": {},
     "output_type": "execute_result"
    }
   ],
   "source": [
    "y_train_transformed"
   ]
  },
  {
   "cell_type": "markdown",
   "metadata": {},
   "source": [
    "#### Model 3: XGBoost"
   ]
  },
  {
   "cell_type": "code",
   "execution_count": 23,
   "metadata": {},
   "outputs": [
    {
     "name": "stdout",
     "output_type": "stream",
     "text": [
      "Defaulting to user installation because normal site-packages is not writeable\n",
      "Requirement already satisfied: xgboost in /gpfs52/home/lix73/.local/lib/python3.9/site-packages (1.7.3)\n",
      "Requirement already satisfied: numpy in /cvmfs/oasis.opensciencegrid.org/accre/mirror/common/easybuild/software/Anaconda3/2022.05/lib/python3.9/site-packages (from xgboost) (1.21.5)\n",
      "Requirement already satisfied: scipy in /cvmfs/oasis.opensciencegrid.org/accre/mirror/common/easybuild/software/Anaconda3/2022.05/lib/python3.9/site-packages (from xgboost) (1.7.3)\n"
     ]
    }
   ],
   "source": [
    "!pip install xgboost"
   ]
  },
  {
   "cell_type": "code",
   "execution_count": 16,
   "metadata": {},
   "outputs": [
    {
     "name": "stdout",
     "output_type": "stream",
     "text": [
      "Accuracy of XGBoost classifier on training set: 1.00\n",
      "Accuracy of XGBoost classifier on test set: 0.95\n",
      "              precision    recall  f1-score   support\n",
      "\n",
      "           0       0.94      0.96      0.95      1217\n",
      "           1       0.96      0.94      0.95      1217\n",
      "\n",
      "    accuracy                           0.95      2434\n",
      "   macro avg       0.95      0.95      0.95      2434\n",
      "weighted avg       0.95      0.95      0.95      2434\n",
      "\n"
     ]
    },
    {
     "data": {
      "image/png": "[encoded data removed]",
      "text/plain": [
       "<Figure size 432x288 with 2 Axes>"
      ]
     },
     "metadata": {
      "needs_background": "light"
     },
     "output_type": "display_data"
    }
   ],
   "source": [
    "import xgboost as xgb\n",
    "from xgboost import XGBClassifier\n",
    "from sklearn.metrics import ConfusionMatrixDisplay\n",
    "\n",
    "# fit model no training data\n",
    "xgb = XGBClassifier()\n",
    "xgb.fit(X_train_transformed, y_train_transformed)\n",
    "\n",
    "pred_xgb = xgb.predict(X_test_transformed)\n",
    "\n",
    "\n",
    "print('Accuracy of XGBoost classifier on training set: {:.2f}'.format(xgb.score(X_train_transformed, y_train_transformed)))\n",
    "print('Accuracy of XGBoost classifier on test set: {:.2f}'.format(xgb.score(X_test_transformed, y_test_transformed)))\n",
    "\n",
    "print(classification_report(y_test_transformed, pred_xgb))\n",
    "\n",
    "cm_xgb = confusion_matrix(y_test_transformed, xgb.predict(X_test_transformed))\n",
    "disp = ConfusionMatrixDisplay(confusion_matrix=cm_xgb, display_labels=svc.classes_)\n",
    "disp.plot()\n",
    "\n",
    "plt.show()\n"
   ]
  },
  {
   "cell_type": "markdown",
   "metadata": {},
   "source": [
    "#### Model4: Logistic Regression"
   ]
  },
  {
   "cell_type": "code",
   "execution_count": 17,
   "metadata": {},
   "outputs": [],
   "source": [
    "from sklearn.preprocessing import MinMaxScaler  \n",
    "from sklearn.model_selection import train_test_split  \n",
    "from sklearn.linear_model import LogisticRegression  \n",
    "\n",
    "# Imports required for model evaluation   \n",
    "from sklearn.metrics import roc_auc_score  \n",
    "from sklearn.metrics import roc_curve,auc  \n",
    "from sklearn.metrics import confusion_matrix, classification_report, accuracy_score\n",
    "\n",
    "scaler = MinMaxScaler()   \n",
    "X_train = scaler.fit_transform(X_train)  \n",
    "X_test = scaler.transform(X_test)  \n",
    "\n",
    "# Prepare the model  \n",
    "log_reg = LogisticRegression(solver=\"lbfgs\")    \n",
    "# Fit the model  \n",
    "log_reg.fit(X_train, y_train.values.ravel())     \n",
    "# Predict the target vectors  \n",
    "y_pred_log_reg = log_reg.predict(X_test) "
   ]
  },
  {
   "cell_type": "code",
   "execution_count": 18,
   "metadata": {},
   "outputs": [
    {
     "data": {
      "image/png": "[encoded data removed]",
      "text/plain": [
       "<Figure size 432x288 with 2 Axes>"
      ]
     },
     "metadata": {
      "needs_background": "light"
     },
     "output_type": "display_data"
    }
   ],
   "source": [
    "# Plot out a confusion matrix    \n",
    "cm_xgb = confusion_matrix(y_test, y_pred_log_reg)\n",
    "disp = ConfusionMatrixDisplay(confusion_matrix=cm_xgb, display_labels=log_reg.classes_)\n",
    "disp.plot()\n",
    "plt.show()"
   ]
  },
  {
   "cell_type": "code",
   "execution_count": 19,
   "metadata": {},
   "outputs": [
    {
     "name": "stdout",
     "output_type": "stream",
     "text": [
      "Accuracy of Logistic regression classifier on training set: 0.89\n",
      "Accuracy of Logistic regression classifier on test set: 0.88\n",
      "Logistic regression accuracy: 88%\n",
      "              precision    recall  f1-score   support\n",
      "\n",
      "         0.0       0.86      0.92      0.89      1217\n",
      "         1.0       0.91      0.85      0.88      1217\n",
      "\n",
      "    accuracy                           0.88      2434\n",
      "   macro avg       0.89      0.88      0.88      2434\n",
      "weighted avg       0.89      0.88      0.88      2434\n",
      "\n"
     ]
    }
   ],
   "source": [
    "# Print the precision, recall and f1-scores  \n",
    "print('Accuracy of Logistic regression classifier on training set: {:.2f}'.format(log_reg .score(X_train, y_train)))\n",
    "print('Accuracy of Logistic regression classifier on test set: {:.2f}'.format(log_reg .score(X_test, y_test)))\n",
    "\n",
    "log_reg_accuracy = accuracy_score(y_pred_log_reg, y_test)  \n",
    "print(f\"Logistic regression accuracy: {round(log_reg_accuracy * 100)}%\")  \n",
    "\n",
    "#print(classification_report(y_test_transformed, pred_xgb))\n",
    "print(classification_report(y_test, y_pred_log_reg))  "
   ]
  },
  {
   "cell_type": "markdown",
   "metadata": {},
   "source": [
    "The ROC curve, along with the AUC score, confirms the previous assumptions. Even though the accuracy rate is a pretty good 83.8% and the ROC curve and AUC score support the success of this model, the difference in the recall rates and the F1 scores are worth investigating."
   ]
  },
  {
   "cell_type": "markdown",
   "metadata": {},
   "source": [
    "## Pipeline"
   ]
  },
  {
   "cell_type": "code",
   "execution_count": 28,
   "metadata": {},
   "outputs": [],
   "source": [
    "# we need to build two separate pipes, one for handling numeric data and the other for categorical data\n",
    "# Available strategies: https://scikit-learn.org/stable/modules/generated/sklearn.impute.SimpleImputer.html\n",
    "\n",
    "num_pipeline = Pipeline(steps=[('scale_num', StandardScaler())])"
   ]
  },
  {
   "cell_type": "code",
   "execution_count": 29,
   "metadata": {},
   "outputs": [],
   "source": [
    "# now we establish preprocessing pipe by columns\n",
    "from sklearn.compose import ColumnTransformer\n",
    "#num_cols = feature_selection\n",
    "num_cols = features.select_dtypes(include=\"object\").columns\n",
    "#preproc = ColumnTransformer([('num_pipe', num_pipeline, feature_selection)],remainder='passthrough')\n",
    "preproc = ColumnTransformer([('num_pipe', num_pipeline, features)],remainder='passthrough')"
   ]
  },
  {
   "cell_type": "markdown",
   "metadata": {},
   "source": [
    "#### Random Forest Pipeline"
   ]
  },
  {
   "cell_type": "code",
   "execution_count": 30,
   "metadata": {},
   "outputs": [
    {
     "data": {
      "text/html": [
       "<style>#sk-c43a1e6f-44f6-4a3d-b154-484d5b820479 {color: black;background-color: white;}#sk-c43a1e6f-44f6-4a3d-b154-484d5b820479 pre{padding: 0;}#sk-c43a1e6f-44f6-4a3d-b154-484d5b820479 div.sk-toggleable {background-color: white;}#sk-c43a1e6f-44f6-4a3d-b154-484d5b820479 label.sk-toggleable__label {cursor: pointer;display: block;width: 100%;margin-bottom: 0;padding: 0.3em;box-sizing: border-box;text-align: center;}#sk-c43a1e6f-44f6-4a3d-b154-484d5b820479 label.sk-toggleable__label-arrow:before {content: \"▸\";float: left;margin-right: 0.25em;color: #696969;}#sk-c43a1e6f-44f6-4a3d-b154-484d5b820479 label.sk-toggleable__label-arrow:hover:before {color: black;}#sk-c43a1e6f-44f6-4a3d-b154-484d5b820479 div.sk-estimator:hover label.sk-toggleable__label-arrow:before {color: black;}#sk-c43a1e6f-44f6-4a3d-b154-484d5b820479 div.sk-toggleable__content {max-height: 0;max-width: 0;overflow: hidden;text-align: left;background-color: #f0f8ff;}#sk-c43a1e6f-44f6-4a3d-b154-484d5b820479 div.sk-toggleable__content pre {margin: 0.2em;color: black;border-radius: 0.25em;background-color: #f0f8ff;}#sk-c43a1e6f-44f6-4a3d-b154-484d5b820479 input.sk-toggleable__control:checked~div.sk-toggleable__content {max-height: 200px;max-width: 100%;overflow: auto;}#sk-c43a1e6f-44f6-4a3d-b154-484d5b820479 input.sk-toggleable__control:checked~label.sk-toggleable__label-arrow:before {content: \"▾\";}#sk-c43a1e6f-44f6-4a3d-b154-484d5b820479 div.sk-estimator input.sk-toggleable__control:checked~label.sk-toggleable__label {background-color: #d4ebff;}#sk-c43a1e6f-44f6-4a3d-b154-484d5b820479 div.sk-label input.sk-toggleable__control:checked~label.sk-toggleable__label {background-color: #d4ebff;}#sk-c43a1e6f-44f6-4a3d-b154-484d5b820479 input.sk-hidden--visually {border: 0;clip: rect(1px 1px 1px 1px);clip: rect(1px, 1px, 1px, 1px);height: 1px;margin: -1px;overflow: hidden;padding: 0;position: absolute;width: 1px;}#sk-c43a1e6f-44f6-4a3d-b154-484d5b820479 div.sk-estimator {font-family: monospace;background-color: #f0f8ff;border: 1px dotted black;border-radius: 0.25em;box-sizing: border-box;margin-bottom: 0.5em;}#sk-c43a1e6f-44f6-4a3d-b154-484d5b820479 div.sk-estimator:hover {background-color: #d4ebff;}#sk-c43a1e6f-44f6-4a3d-b154-484d5b820479 div.sk-parallel-item::after {content: \"\";width: 100%;border-bottom: 1px solid gray;flex-grow: 1;}#sk-c43a1e6f-44f6-4a3d-b154-484d5b820479 div.sk-label:hover label.sk-toggleable__label {background-color: #d4ebff;}#sk-c43a1e6f-44f6-4a3d-b154-484d5b820479 div.sk-serial::before {content: \"\";position: absolute;border-left: 1px solid gray;box-sizing: border-box;top: 2em;bottom: 0;left: 50%;}#sk-c43a1e6f-44f6-4a3d-b154-484d5b820479 div.sk-serial {display: flex;flex-direction: column;align-items: center;background-color: white;padding-right: 0.2em;padding-left: 0.2em;}#sk-c43a1e6f-44f6-4a3d-b154-484d5b820479 div.sk-item {z-index: 1;}#sk-c43a1e6f-44f6-4a3d-b154-484d5b820479 div.sk-parallel {display: flex;align-items: stretch;justify-content: center;background-color: white;}#sk-c43a1e6f-44f6-4a3d-b154-484d5b820479 div.sk-parallel::before {content: \"\";position: absolute;border-left: 1px solid gray;box-sizing: border-box;top: 2em;bottom: 0;left: 50%;}#sk-c43a1e6f-44f6-4a3d-b154-484d5b820479 div.sk-parallel-item {display: flex;flex-direction: column;position: relative;background-color: white;}#sk-c43a1e6f-44f6-4a3d-b154-484d5b820479 div.sk-parallel-item:first-child::after {align-self: flex-end;width: 50%;}#sk-c43a1e6f-44f6-4a3d-b154-484d5b820479 div.sk-parallel-item:last-child::after {align-self: flex-start;width: 50%;}#sk-c43a1e6f-44f6-4a3d-b154-484d5b820479 div.sk-parallel-item:only-child::after {width: 0;}#sk-c43a1e6f-44f6-4a3d-b154-484d5b820479 div.sk-dashed-wrapped {border: 1px dashed gray;margin: 0 0.4em 0.5em 0.4em;box-sizing: border-box;padding-bottom: 0.4em;background-color: white;position: relative;}#sk-c43a1e6f-44f6-4a3d-b154-484d5b820479 div.sk-label label {font-family: monospace;font-weight: bold;background-color: white;display: inline-block;line-height: 1.2em;}#sk-c43a1e6f-44f6-4a3d-b154-484d5b820479 div.sk-label-container {position: relative;z-index: 2;text-align: center;}#sk-c43a1e6f-44f6-4a3d-b154-484d5b820479 div.sk-container {/* jupyter's `normalize.less` sets `[hidden] { display: none; }` but bootstrap.min.css set `[hidden] { display: none !important; }` so we also need the `!important` here to be able to override the default hidden behavior on the sphinx rendered scikit-learn.org. See: https://github.com/scikit-learn/scikit-learn/issues/21755 */display: inline-block !important;position: relative;}#sk-c43a1e6f-44f6-4a3d-b154-484d5b820479 div.sk-text-repr-fallback {display: none;}</style><div id=\"sk-c43a1e6f-44f6-4a3d-b154-484d5b820479\" class=\"sk-top-container\"><div class=\"sk-text-repr-fallback\"><pre>Pipeline(steps=[(&#x27;preproc&#x27;,\n",
       "                 ColumnTransformer(remainder=&#x27;passthrough&#x27;,\n",
       "                                   transformers=[(&#x27;num_pipe&#x27;,\n",
       "                                                  Pipeline(steps=[(&#x27;scale_num&#x27;,\n",
       "                                                                   StandardScaler())]),\n",
       "                                                        L/W Ratio  T/W Ratio  Circularity  Angularity  Transparency\n",
       "0         1.436      0.956        0.907      50.000         0.475\n",
       "1         1.152      1.000        0.346      83.333         0.591\n",
       "2         2.142      0.575        0.627      55.000         0.413\n",
       "3         1.156      0.854        0.923      57.143         0.432\n",
       "4         1.525      0.699        0.828      61.667         0.492\n",
       "...         ...        ...          ...         ...           ...\n",
       "4862      2.000      1.000        0.114     120.000         0.651\n",
       "4863      2.500      1.000        0.214     110.000         0.601\n",
       "4864      4.000      1.000        0.161      87.500         0.601\n",
       "4865      4.000      1.000        0.161     116.667         0.653\n",
       "4866      2.500      1.000        0.214     110.000         0.618\n",
       "\n",
       "[9734 rows x 5 columns])])),\n",
       "                (&#x27;rfmdl&#x27;, RandomForestClassifier())])</pre><b>Please rerun this cell to show the HTML repr or trust the notebook.</b></div><div class=\"sk-container\" hidden><div class=\"sk-item sk-dashed-wrapped\"><div class=\"sk-label-container\"><div class=\"sk-label sk-toggleable\"><input class=\"sk-toggleable__control sk-hidden--visually\" id=\"0dccf0b3-a7bf-4469-9378-a646bfed536c\" type=\"checkbox\" ><label for=\"0dccf0b3-a7bf-4469-9378-a646bfed536c\" class=\"sk-toggleable__label sk-toggleable__label-arrow\">Pipeline</label><div class=\"sk-toggleable__content\"><pre>Pipeline(steps=[(&#x27;preproc&#x27;,\n",
       "                 ColumnTransformer(remainder=&#x27;passthrough&#x27;,\n",
       "                                   transformers=[(&#x27;num_pipe&#x27;,\n",
       "                                                  Pipeline(steps=[(&#x27;scale_num&#x27;,\n",
       "                                                                   StandardScaler())]),\n",
       "                                                        L/W Ratio  T/W Ratio  Circularity  Angularity  Transparency\n",
       "0         1.436      0.956        0.907      50.000         0.475\n",
       "1         1.152      1.000        0.346      83.333         0.591\n",
       "2         2.142      0.575        0.627      55.000         0.413\n",
       "3         1.156      0.854        0.923      57.143         0.432\n",
       "4         1.525      0.699        0.828      61.667         0.492\n",
       "...         ...        ...          ...         ...           ...\n",
       "4862      2.000      1.000        0.114     120.000         0.651\n",
       "4863      2.500      1.000        0.214     110.000         0.601\n",
       "4864      4.000      1.000        0.161      87.500         0.601\n",
       "4865      4.000      1.000        0.161     116.667         0.653\n",
       "4866      2.500      1.000        0.214     110.000         0.618\n",
       "\n",
       "[9734 rows x 5 columns])])),\n",
       "                (&#x27;rfmdl&#x27;, RandomForestClassifier())])</pre></div></div></div><div class=\"sk-serial\"><div class=\"sk-item sk-dashed-wrapped\"><div class=\"sk-label-container\"><div class=\"sk-label sk-toggleable\"><input class=\"sk-toggleable__control sk-hidden--visually\" id=\"e364b42a-f128-4586-9ad0-08f7d552a22e\" type=\"checkbox\" ><label for=\"e364b42a-f128-4586-9ad0-08f7d552a22e\" class=\"sk-toggleable__label sk-toggleable__label-arrow\">preproc: ColumnTransformer</label><div class=\"sk-toggleable__content\"><pre>ColumnTransformer(remainder=&#x27;passthrough&#x27;,\n",
       "                  transformers=[(&#x27;num_pipe&#x27;,\n",
       "                                 Pipeline(steps=[(&#x27;scale_num&#x27;,\n",
       "                                                  StandardScaler())]),\n",
       "                                       L/W Ratio  T/W Ratio  Circularity  Angularity  Transparency\n",
       "0         1.436      0.956        0.907      50.000         0.475\n",
       "1         1.152      1.000        0.346      83.333         0.591\n",
       "2         2.142      0.575        0.627      55.000         0.413\n",
       "3         1.156      0.854        0.923      57.143         0.432\n",
       "4         1.525      0.699        0.828      61.667         0.492\n",
       "...         ...        ...          ...         ...           ...\n",
       "4862      2.000      1.000        0.114     120.000         0.651\n",
       "4863      2.500      1.000        0.214     110.000         0.601\n",
       "4864      4.000      1.000        0.161      87.500         0.601\n",
       "4865      4.000      1.000        0.161     116.667         0.653\n",
       "4866      2.500      1.000        0.214     110.000         0.618\n",
       "\n",
       "[9734 rows x 5 columns])])</pre></div></div></div><div class=\"sk-parallel\"><div class=\"sk-parallel-item\"><div class=\"sk-item\"><div class=\"sk-label-container\"><div class=\"sk-label sk-toggleable\"><input class=\"sk-toggleable__control sk-hidden--visually\" id=\"4e6174dc-d84c-46c1-b096-c20005e00bad\" type=\"checkbox\" ><label for=\"4e6174dc-d84c-46c1-b096-c20005e00bad\" class=\"sk-toggleable__label sk-toggleable__label-arrow\">num_pipe</label><div class=\"sk-toggleable__content\"><pre>      L/W Ratio  T/W Ratio  Circularity  Angularity  Transparency\n",
       "0         1.436      0.956        0.907      50.000         0.475\n",
       "1         1.152      1.000        0.346      83.333         0.591\n",
       "2         2.142      0.575        0.627      55.000         0.413\n",
       "3         1.156      0.854        0.923      57.143         0.432\n",
       "4         1.525      0.699        0.828      61.667         0.492\n",
       "...         ...        ...          ...         ...           ...\n",
       "4862      2.000      1.000        0.114     120.000         0.651\n",
       "4863      2.500      1.000        0.214     110.000         0.601\n",
       "4864      4.000      1.000        0.161      87.500         0.601\n",
       "4865      4.000      1.000        0.161     116.667         0.653\n",
       "4866      2.500      1.000        0.214     110.000         0.618\n",
       "\n",
       "[9734 rows x 5 columns]</pre></div></div></div><div class=\"sk-serial\"><div class=\"sk-item\"><div class=\"sk-serial\"><div class=\"sk-item\"><div class=\"sk-estimator sk-toggleable\"><input class=\"sk-toggleable__control sk-hidden--visually\" id=\"b2e08e2d-dec5-4cac-82bc-0449858b2f64\" type=\"checkbox\" ><label for=\"b2e08e2d-dec5-4cac-82bc-0449858b2f64\" class=\"sk-toggleable__label sk-toggleable__label-arrow\">StandardScaler</label><div class=\"sk-toggleable__content\"><pre>StandardScaler()</pre></div></div></div></div></div></div></div></div><div class=\"sk-parallel-item\"><div class=\"sk-item\"><div class=\"sk-label-container\"><div class=\"sk-label sk-toggleable\"><input class=\"sk-toggleable__control sk-hidden--visually\" id=\"2fcf8873-d311-457c-bb5c-8734389acdbe\" type=\"checkbox\" ><label for=\"2fcf8873-d311-457c-bb5c-8734389acdbe\" class=\"sk-toggleable__label sk-toggleable__label-arrow\">remainder</label><div class=\"sk-toggleable__content\"><pre></pre></div></div></div><div class=\"sk-serial\"><div class=\"sk-item\"><div class=\"sk-estimator sk-toggleable\"><input class=\"sk-toggleable__control sk-hidden--visually\" id=\"c2feceea-15ec-4bbf-8f33-ba9b845d0e17\" type=\"checkbox\" ><label for=\"c2feceea-15ec-4bbf-8f33-ba9b845d0e17\" class=\"sk-toggleable__label sk-toggleable__label-arrow\">passthrough</label><div class=\"sk-toggleable__content\"><pre>passthrough</pre></div></div></div></div></div></div></div></div><div class=\"sk-item\"><div class=\"sk-estimator sk-toggleable\"><input class=\"sk-toggleable__control sk-hidden--visually\" id=\"e328de3f-b5ab-47ab-bb4d-60742000878e\" type=\"checkbox\" ><label for=\"e328de3f-b5ab-47ab-bb4d-60742000878e\" class=\"sk-toggleable__label sk-toggleable__label-arrow\">RandomForestClassifier</label><div class=\"sk-toggleable__content\"><pre>RandomForestClassifier()</pre></div></div></div></div></div></div></div>"
      ],
      "text/plain": [
       "Pipeline(steps=[('preproc',\n",
       "                 ColumnTransformer(remainder='passthrough',\n",
       "                                   transformers=[('num_pipe',\n",
       "                                                  Pipeline(steps=[('scale_num',\n",
       "                                                                   StandardScaler())]),\n",
       "                                                        L/W Ratio  T/W Ratio  Circularity  Angularity  Transparency\n",
       "0         1.436      0.956        0.907      50.000         0.475\n",
       "1         1.152      1.000        0.346      83.333         0.591\n",
       "2         2.142      0.575        0.627      55.000         0.413\n",
       "3         1.156      0.854        0.923      57.143         0.432\n",
       "4         1.525      0.699        0.828      61.667         0.492\n",
       "...         ...        ...          ...         ...           ...\n",
       "4862      2.000      1.000        0.114     120.000         0.651\n",
       "4863      2.500      1.000        0.214     110.000         0.601\n",
       "4864      4.000      1.000        0.161      87.500         0.601\n",
       "4865      4.000      1.000        0.161     116.667         0.653\n",
       "4866      2.500      1.000        0.214     110.000         0.618\n",
       "\n",
       "[9734 rows x 5 columns])])),\n",
       "                ('rfmdl', RandomForestClassifier())])"
      ]
     },
     "metadata": {},
     "output_type": "display_data"
    }
   ],
   "source": [
    "# Generate the entire training pipeline with preprocessing and modeling\n",
    "rf_pipe = Pipeline(steps=[('preproc', preproc),\n",
    "                       ('rfmdl', RandomForestClassifier())])\n",
    "\n",
    "# visualization of the pipeline\n",
    "with config_context(display='diagram'):\n",
    "    display(rf_pipe)"
   ]
  },
  {
   "cell_type": "markdown",
   "metadata": {},
   "source": [
    "#### SVM"
   ]
  },
  {
   "cell_type": "code",
   "execution_count": 31,
   "metadata": {},
   "outputs": [
    {
     "data": {
      "text/html": [
       "<style>#sk-3c4c79bb-e8c6-4d61-991d-396900e5f37e {color: black;background-color: white;}#sk-3c4c79bb-e8c6-4d61-991d-396900e5f37e pre{padding: 0;}#sk-3c4c79bb-e8c6-4d61-991d-396900e5f37e div.sk-toggleable {background-color: white;}#sk-3c4c79bb-e8c6-4d61-991d-396900e5f37e label.sk-toggleable__label {cursor: pointer;display: block;width: 100%;margin-bottom: 0;padding: 0.3em;box-sizing: border-box;text-align: center;}#sk-3c4c79bb-e8c6-4d61-991d-396900e5f37e label.sk-toggleable__label-arrow:before {content: \"▸\";float: left;margin-right: 0.25em;color: #696969;}#sk-3c4c79bb-e8c6-4d61-991d-396900e5f37e label.sk-toggleable__label-arrow:hover:before {color: black;}#sk-3c4c79bb-e8c6-4d61-991d-396900e5f37e div.sk-estimator:hover label.sk-toggleable__label-arrow:before {color: black;}#sk-3c4c79bb-e8c6-4d61-991d-396900e5f37e div.sk-toggleable__content {max-height: 0;max-width: 0;overflow: hidden;text-align: left;background-color: #f0f8ff;}#sk-3c4c79bb-e8c6-4d61-991d-396900e5f37e div.sk-toggleable__content pre {margin: 0.2em;color: black;border-radius: 0.25em;background-color: #f0f8ff;}#sk-3c4c79bb-e8c6-4d61-991d-396900e5f37e input.sk-toggleable__control:checked~div.sk-toggleable__content {max-height: 200px;max-width: 100%;overflow: auto;}#sk-3c4c79bb-e8c6-4d61-991d-396900e5f37e input.sk-toggleable__control:checked~label.sk-toggleable__label-arrow:before {content: \"▾\";}#sk-3c4c79bb-e8c6-4d61-991d-396900e5f37e div.sk-estimator input.sk-toggleable__control:checked~label.sk-toggleable__label {background-color: #d4ebff;}#sk-3c4c79bb-e8c6-4d61-991d-396900e5f37e div.sk-label input.sk-toggleable__control:checked~label.sk-toggleable__label {background-color: #d4ebff;}#sk-3c4c79bb-e8c6-4d61-991d-396900e5f37e input.sk-hidden--visually {border: 0;clip: rect(1px 1px 1px 1px);clip: rect(1px, 1px, 1px, 1px);height: 1px;margin: -1px;overflow: hidden;padding: 0;position: absolute;width: 1px;}#sk-3c4c79bb-e8c6-4d61-991d-396900e5f37e div.sk-estimator {font-family: monospace;background-color: #f0f8ff;border: 1px dotted black;border-radius: 0.25em;box-sizing: border-box;margin-bottom: 0.5em;}#sk-3c4c79bb-e8c6-4d61-991d-396900e5f37e div.sk-estimator:hover {background-color: #d4ebff;}#sk-3c4c79bb-e8c6-4d61-991d-396900e5f37e div.sk-parallel-item::after {content: \"\";width: 100%;border-bottom: 1px solid gray;flex-grow: 1;}#sk-3c4c79bb-e8c6-4d61-991d-396900e5f37e div.sk-label:hover label.sk-toggleable__label {background-color: #d4ebff;}#sk-3c4c79bb-e8c6-4d61-991d-396900e5f37e div.sk-serial::before {content: \"\";position: absolute;border-left: 1px solid gray;box-sizing: border-box;top: 2em;bottom: 0;left: 50%;}#sk-3c4c79bb-e8c6-4d61-991d-396900e5f37e div.sk-serial {display: flex;flex-direction: column;align-items: center;background-color: white;padding-right: 0.2em;padding-left: 0.2em;}#sk-3c4c79bb-e8c6-4d61-991d-396900e5f37e div.sk-item {z-index: 1;}#sk-3c4c79bb-e8c6-4d61-991d-396900e5f37e div.sk-parallel {display: flex;align-items: stretch;justify-content: center;background-color: white;}#sk-3c4c79bb-e8c6-4d61-991d-396900e5f37e div.sk-parallel::before {content: \"\";position: absolute;border-left: 1px solid gray;box-sizing: border-box;top: 2em;bottom: 0;left: 50%;}#sk-3c4c79bb-e8c6-4d61-991d-396900e5f37e div.sk-parallel-item {display: flex;flex-direction: column;position: relative;background-color: white;}#sk-3c4c79bb-e8c6-4d61-991d-396900e5f37e div.sk-parallel-item:first-child::after {align-self: flex-end;width: 50%;}#sk-3c4c79bb-e8c6-4d61-991d-396900e5f37e div.sk-parallel-item:last-child::after {align-self: flex-start;width: 50%;}#sk-3c4c79bb-e8c6-4d61-991d-396900e5f37e div.sk-parallel-item:only-child::after {width: 0;}#sk-3c4c79bb-e8c6-4d61-991d-396900e5f37e div.sk-dashed-wrapped {border: 1px dashed gray;margin: 0 0.4em 0.5em 0.4em;box-sizing: border-box;padding-bottom: 0.4em;background-color: white;position: relative;}#sk-3c4c79bb-e8c6-4d61-991d-396900e5f37e div.sk-label label {font-family: monospace;font-weight: bold;background-color: white;display: inline-block;line-height: 1.2em;}#sk-3c4c79bb-e8c6-4d61-991d-396900e5f37e div.sk-label-container {position: relative;z-index: 2;text-align: center;}#sk-3c4c79bb-e8c6-4d61-991d-396900e5f37e div.sk-container {/* jupyter's `normalize.less` sets `[hidden] { display: none; }` but bootstrap.min.css set `[hidden] { display: none !important; }` so we also need the `!important` here to be able to override the default hidden behavior on the sphinx rendered scikit-learn.org. See: https://github.com/scikit-learn/scikit-learn/issues/21755 */display: inline-block !important;position: relative;}#sk-3c4c79bb-e8c6-4d61-991d-396900e5f37e div.sk-text-repr-fallback {display: none;}</style><div id=\"sk-3c4c79bb-e8c6-4d61-991d-396900e5f37e\" class=\"sk-top-container\"><div class=\"sk-text-repr-fallback\"><pre>Pipeline(steps=[(&#x27;preproc&#x27;,\n",
       "                 ColumnTransformer(remainder=&#x27;passthrough&#x27;,\n",
       "                                   transformers=[(&#x27;num_pipe&#x27;,\n",
       "                                                  Pipeline(steps=[(&#x27;scale_num&#x27;,\n",
       "                                                                   StandardScaler())]),\n",
       "                                                        L/W Ratio  T/W Ratio  Circularity  Angularity  Transparency\n",
       "0         1.436      0.956        0.907      50.000         0.475\n",
       "1         1.152      1.000        0.346      83.333         0.591\n",
       "2         2.142      0.575        0.627      55.000         0.413\n",
       "3         1.156      0.854        0.923      57.143         0.432\n",
       "4         1.525      0.699        0.828      61.667         0.492\n",
       "...         ...        ...          ...         ...           ...\n",
       "4862      2.000      1.000        0.114     120.000         0.651\n",
       "4863      2.500      1.000        0.214     110.000         0.601\n",
       "4864      4.000      1.000        0.161      87.500         0.601\n",
       "4865      4.000      1.000        0.161     116.667         0.653\n",
       "4866      2.500      1.000        0.214     110.000         0.618\n",
       "\n",
       "[9734 rows x 5 columns])])),\n",
       "                (&#x27;svcmdl&#x27;, SVC(gamma=&#x27;auto&#x27;))])</pre><b>Please rerun this cell to show the HTML repr or trust the notebook.</b></div><div class=\"sk-container\" hidden><div class=\"sk-item sk-dashed-wrapped\"><div class=\"sk-label-container\"><div class=\"sk-label sk-toggleable\"><input class=\"sk-toggleable__control sk-hidden--visually\" id=\"6490d317-a518-4959-81e7-ee6e9fc1483e\" type=\"checkbox\" ><label for=\"6490d317-a518-4959-81e7-ee6e9fc1483e\" class=\"sk-toggleable__label sk-toggleable__label-arrow\">Pipeline</label><div class=\"sk-toggleable__content\"><pre>Pipeline(steps=[(&#x27;preproc&#x27;,\n",
       "                 ColumnTransformer(remainder=&#x27;passthrough&#x27;,\n",
       "                                   transformers=[(&#x27;num_pipe&#x27;,\n",
       "                                                  Pipeline(steps=[(&#x27;scale_num&#x27;,\n",
       "                                                                   StandardScaler())]),\n",
       "                                                        L/W Ratio  T/W Ratio  Circularity  Angularity  Transparency\n",
       "0         1.436      0.956        0.907      50.000         0.475\n",
       "1         1.152      1.000        0.346      83.333         0.591\n",
       "2         2.142      0.575        0.627      55.000         0.413\n",
       "3         1.156      0.854        0.923      57.143         0.432\n",
       "4         1.525      0.699        0.828      61.667         0.492\n",
       "...         ...        ...          ...         ...           ...\n",
       "4862      2.000      1.000        0.114     120.000         0.651\n",
       "4863      2.500      1.000        0.214     110.000         0.601\n",
       "4864      4.000      1.000        0.161      87.500         0.601\n",
       "4865      4.000      1.000        0.161     116.667         0.653\n",
       "4866      2.500      1.000        0.214     110.000         0.618\n",
       "\n",
       "[9734 rows x 5 columns])])),\n",
       "                (&#x27;svcmdl&#x27;, SVC(gamma=&#x27;auto&#x27;))])</pre></div></div></div><div class=\"sk-serial\"><div class=\"sk-item sk-dashed-wrapped\"><div class=\"sk-label-container\"><div class=\"sk-label sk-toggleable\"><input class=\"sk-toggleable__control sk-hidden--visually\" id=\"e322f36f-4ff0-49a5-b130-58939ea276e2\" type=\"checkbox\" ><label for=\"e322f36f-4ff0-49a5-b130-58939ea276e2\" class=\"sk-toggleable__label sk-toggleable__label-arrow\">preproc: ColumnTransformer</label><div class=\"sk-toggleable__content\"><pre>ColumnTransformer(remainder=&#x27;passthrough&#x27;,\n",
       "                  transformers=[(&#x27;num_pipe&#x27;,\n",
       "                                 Pipeline(steps=[(&#x27;scale_num&#x27;,\n",
       "                                                  StandardScaler())]),\n",
       "                                       L/W Ratio  T/W Ratio  Circularity  Angularity  Transparency\n",
       "0         1.436      0.956        0.907      50.000         0.475\n",
       "1         1.152      1.000        0.346      83.333         0.591\n",
       "2         2.142      0.575        0.627      55.000         0.413\n",
       "3         1.156      0.854        0.923      57.143         0.432\n",
       "4         1.525      0.699        0.828      61.667         0.492\n",
       "...         ...        ...          ...         ...           ...\n",
       "4862      2.000      1.000        0.114     120.000         0.651\n",
       "4863      2.500      1.000        0.214     110.000         0.601\n",
       "4864      4.000      1.000        0.161      87.500         0.601\n",
       "4865      4.000      1.000        0.161     116.667         0.653\n",
       "4866      2.500      1.000        0.214     110.000         0.618\n",
       "\n",
       "[9734 rows x 5 columns])])</pre></div></div></div><div class=\"sk-parallel\"><div class=\"sk-parallel-item\"><div class=\"sk-item\"><div class=\"sk-label-container\"><div class=\"sk-label sk-toggleable\"><input class=\"sk-toggleable__control sk-hidden--visually\" id=\"f0325426-d0f7-4959-a033-af3d0befc1ce\" type=\"checkbox\" ><label for=\"f0325426-d0f7-4959-a033-af3d0befc1ce\" class=\"sk-toggleable__label sk-toggleable__label-arrow\">num_pipe</label><div class=\"sk-toggleable__content\"><pre>      L/W Ratio  T/W Ratio  Circularity  Angularity  Transparency\n",
       "0         1.436      0.956        0.907      50.000         0.475\n",
       "1         1.152      1.000        0.346      83.333         0.591\n",
       "2         2.142      0.575        0.627      55.000         0.413\n",
       "3         1.156      0.854        0.923      57.143         0.432\n",
       "4         1.525      0.699        0.828      61.667         0.492\n",
       "...         ...        ...          ...         ...           ...\n",
       "4862      2.000      1.000        0.114     120.000         0.651\n",
       "4863      2.500      1.000        0.214     110.000         0.601\n",
       "4864      4.000      1.000        0.161      87.500         0.601\n",
       "4865      4.000      1.000        0.161     116.667         0.653\n",
       "4866      2.500      1.000        0.214     110.000         0.618\n",
       "\n",
       "[9734 rows x 5 columns]</pre></div></div></div><div class=\"sk-serial\"><div class=\"sk-item\"><div class=\"sk-serial\"><div class=\"sk-item\"><div class=\"sk-estimator sk-toggleable\"><input class=\"sk-toggleable__control sk-hidden--visually\" id=\"d8e1d6b0-6780-472b-b263-f6eac0b1cd33\" type=\"checkbox\" ><label for=\"d8e1d6b0-6780-472b-b263-f6eac0b1cd33\" class=\"sk-toggleable__label sk-toggleable__label-arrow\">StandardScaler</label><div class=\"sk-toggleable__content\"><pre>StandardScaler()</pre></div></div></div></div></div></div></div></div><div class=\"sk-parallel-item\"><div class=\"sk-item\"><div class=\"sk-label-container\"><div class=\"sk-label sk-toggleable\"><input class=\"sk-toggleable__control sk-hidden--visually\" id=\"b93a6a48-95f7-466f-92d2-98699d18cd14\" type=\"checkbox\" ><label for=\"b93a6a48-95f7-466f-92d2-98699d18cd14\" class=\"sk-toggleable__label sk-toggleable__label-arrow\">remainder</label><div class=\"sk-toggleable__content\"><pre></pre></div></div></div><div class=\"sk-serial\"><div class=\"sk-item\"><div class=\"sk-estimator sk-toggleable\"><input class=\"sk-toggleable__control sk-hidden--visually\" id=\"dfb6e6e6-44d0-419d-8c69-017913eed8a3\" type=\"checkbox\" ><label for=\"dfb6e6e6-44d0-419d-8c69-017913eed8a3\" class=\"sk-toggleable__label sk-toggleable__label-arrow\">passthrough</label><div class=\"sk-toggleable__content\"><pre>passthrough</pre></div></div></div></div></div></div></div></div><div class=\"sk-item\"><div class=\"sk-estimator sk-toggleable\"><input class=\"sk-toggleable__control sk-hidden--visually\" id=\"199934c1-daf9-43ae-b95c-48944a589c87\" type=\"checkbox\" ><label for=\"199934c1-daf9-43ae-b95c-48944a589c87\" class=\"sk-toggleable__label sk-toggleable__label-arrow\">SVC</label><div class=\"sk-toggleable__content\"><pre>SVC(gamma=&#x27;auto&#x27;)</pre></div></div></div></div></div></div></div>"
      ],
      "text/plain": [
       "Pipeline(steps=[('preproc',\n",
       "                 ColumnTransformer(remainder='passthrough',\n",
       "                                   transformers=[('num_pipe',\n",
       "                                                  Pipeline(steps=[('scale_num',\n",
       "                                                                   StandardScaler())]),\n",
       "                                                        L/W Ratio  T/W Ratio  Circularity  Angularity  Transparency\n",
       "0         1.436      0.956        0.907      50.000         0.475\n",
       "1         1.152      1.000        0.346      83.333         0.591\n",
       "2         2.142      0.575        0.627      55.000         0.413\n",
       "3         1.156      0.854        0.923      57.143         0.432\n",
       "4         1.525      0.699        0.828      61.667         0.492\n",
       "...         ...        ...          ...         ...           ...\n",
       "4862      2.000      1.000        0.114     120.000         0.651\n",
       "4863      2.500      1.000        0.214     110.000         0.601\n",
       "4864      4.000      1.000        0.161      87.500         0.601\n",
       "4865      4.000      1.000        0.161     116.667         0.653\n",
       "4866      2.500      1.000        0.214     110.000         0.618\n",
       "\n",
       "[9734 rows x 5 columns])])),\n",
       "                ('svcmdl', SVC(gamma='auto'))])"
      ]
     },
     "metadata": {},
     "output_type": "display_data"
    }
   ],
   "source": [
    "# generate the entire training pipeline with preprocessing and modeling\n",
    "# visualization of the pipeline\n",
    "\n",
    "svc_pipe = Pipeline(steps=[('preproc', preproc),\n",
    "                       ('svcmdl', SVC(gamma='auto'))])\n",
    "\n",
    "with config_context(display='diagram'):\n",
    "    display(svc_pipe)"
   ]
  },
  {
   "cell_type": "markdown",
   "metadata": {},
   "source": [
    "#### xgboost"
   ]
  },
  {
   "cell_type": "code",
   "execution_count": 32,
   "metadata": {},
   "outputs": [
    {
     "data": {
      "text/html": [
       "<style>#sk-29fb1945-fbcb-46d0-b863-57b0c834ae58 {color: black;background-color: white;}#sk-29fb1945-fbcb-46d0-b863-57b0c834ae58 pre{padding: 0;}#sk-29fb1945-fbcb-46d0-b863-57b0c834ae58 div.sk-toggleable {background-color: white;}#sk-29fb1945-fbcb-46d0-b863-57b0c834ae58 label.sk-toggleable__label {cursor: pointer;display: block;width: 100%;margin-bottom: 0;padding: 0.3em;box-sizing: border-box;text-align: center;}#sk-29fb1945-fbcb-46d0-b863-57b0c834ae58 label.sk-toggleable__label-arrow:before {content: \"▸\";float: left;margin-right: 0.25em;color: #696969;}#sk-29fb1945-fbcb-46d0-b863-57b0c834ae58 label.sk-toggleable__label-arrow:hover:before {color: black;}#sk-29fb1945-fbcb-46d0-b863-57b0c834ae58 div.sk-estimator:hover label.sk-toggleable__label-arrow:before {color: black;}#sk-29fb1945-fbcb-46d0-b863-57b0c834ae58 div.sk-toggleable__content {max-height: 0;max-width: 0;overflow: hidden;text-align: left;background-color: #f0f8ff;}#sk-29fb1945-fbcb-46d0-b863-57b0c834ae58 div.sk-toggleable__content pre {margin: 0.2em;color: black;border-radius: 0.25em;background-color: #f0f8ff;}#sk-29fb1945-fbcb-46d0-b863-57b0c834ae58 input.sk-toggleable__control:checked~div.sk-toggleable__content {max-height: 200px;max-width: 100%;overflow: auto;}#sk-29fb1945-fbcb-46d0-b863-57b0c834ae58 input.sk-toggleable__control:checked~label.sk-toggleable__label-arrow:before {content: \"▾\";}#sk-29fb1945-fbcb-46d0-b863-57b0c834ae58 div.sk-estimator input.sk-toggleable__control:checked~label.sk-toggleable__label {background-color: #d4ebff;}#sk-29fb1945-fbcb-46d0-b863-57b0c834ae58 div.sk-label input.sk-toggleable__control:checked~label.sk-toggleable__label {background-color: #d4ebff;}#sk-29fb1945-fbcb-46d0-b863-57b0c834ae58 input.sk-hidden--visually {border: 0;clip: rect(1px 1px 1px 1px);clip: rect(1px, 1px, 1px, 1px);height: 1px;margin: -1px;overflow: hidden;padding: 0;position: absolute;width: 1px;}#sk-29fb1945-fbcb-46d0-b863-57b0c834ae58 div.sk-estimator {font-family: monospace;background-color: #f0f8ff;border: 1px dotted black;border-radius: 0.25em;box-sizing: border-box;margin-bottom: 0.5em;}#sk-29fb1945-fbcb-46d0-b863-57b0c834ae58 div.sk-estimator:hover {background-color: #d4ebff;}#sk-29fb1945-fbcb-46d0-b863-57b0c834ae58 div.sk-parallel-item::after {content: \"\";width: 100%;border-bottom: 1px solid gray;flex-grow: 1;}#sk-29fb1945-fbcb-46d0-b863-57b0c834ae58 div.sk-label:hover label.sk-toggleable__label {background-color: #d4ebff;}#sk-29fb1945-fbcb-46d0-b863-57b0c834ae58 div.sk-serial::before {content: \"\";position: absolute;border-left: 1px solid gray;box-sizing: border-box;top: 2em;bottom: 0;left: 50%;}#sk-29fb1945-fbcb-46d0-b863-57b0c834ae58 div.sk-serial {display: flex;flex-direction: column;align-items: center;background-color: white;padding-right: 0.2em;padding-left: 0.2em;}#sk-29fb1945-fbcb-46d0-b863-57b0c834ae58 div.sk-item {z-index: 1;}#sk-29fb1945-fbcb-46d0-b863-57b0c834ae58 div.sk-parallel {display: flex;align-items: stretch;justify-content: center;background-color: white;}#sk-29fb1945-fbcb-46d0-b863-57b0c834ae58 div.sk-parallel::before {content: \"\";position: absolute;border-left: 1px solid gray;box-sizing: border-box;top: 2em;bottom: 0;left: 50%;}#sk-29fb1945-fbcb-46d0-b863-57b0c834ae58 div.sk-parallel-item {display: flex;flex-direction: column;position: relative;background-color: white;}#sk-29fb1945-fbcb-46d0-b863-57b0c834ae58 div.sk-parallel-item:first-child::after {align-self: flex-end;width: 50%;}#sk-29fb1945-fbcb-46d0-b863-57b0c834ae58 div.sk-parallel-item:last-child::after {align-self: flex-start;width: 50%;}#sk-29fb1945-fbcb-46d0-b863-57b0c834ae58 div.sk-parallel-item:only-child::after {width: 0;}#sk-29fb1945-fbcb-46d0-b863-57b0c834ae58 div.sk-dashed-wrapped {border: 1px dashed gray;margin: 0 0.4em 0.5em 0.4em;box-sizing: border-box;padding-bottom: 0.4em;background-color: white;position: relative;}#sk-29fb1945-fbcb-46d0-b863-57b0c834ae58 div.sk-label label {font-family: monospace;font-weight: bold;background-color: white;display: inline-block;line-height: 1.2em;}#sk-29fb1945-fbcb-46d0-b863-57b0c834ae58 div.sk-label-container {position: relative;z-index: 2;text-align: center;}#sk-29fb1945-fbcb-46d0-b863-57b0c834ae58 div.sk-container {/* jupyter's `normalize.less` sets `[hidden] { display: none; }` but bootstrap.min.css set `[hidden] { display: none !important; }` so we also need the `!important` here to be able to override the default hidden behavior on the sphinx rendered scikit-learn.org. See: https://github.com/scikit-learn/scikit-learn/issues/21755 */display: inline-block !important;position: relative;}#sk-29fb1945-fbcb-46d0-b863-57b0c834ae58 div.sk-text-repr-fallback {display: none;}</style><div id=\"sk-29fb1945-fbcb-46d0-b863-57b0c834ae58\" class=\"sk-top-container\"><div class=\"sk-text-repr-fallback\"><pre>Pipeline(steps=[(&#x27;preproc&#x27;,\n",
       "                 ColumnTransformer(remainder=&#x27;passthrough&#x27;,\n",
       "                                   transformers=[(&#x27;num_pipe&#x27;,\n",
       "                                                  Pipeline(steps=[(&#x27;scale_num&#x27;,\n",
       "                                                                   StandardScaler())]),\n",
       "                                                        L/W Ratio  T/W Ratio  Circularity  Angularity  Transparency\n",
       "0         1.436      0.956        0.907      50.000         0.475\n",
       "1         1.152      1.000        0.346      83.333         0.591\n",
       "2         2.142      0.575        0.627      55.000         0.413\n",
       "3         1.156      0.854        0.923      57.143         0.432\n",
       "4         1.525      0.699        0.828      61.667         0.492\n",
       "...         ...        ...          ...         ...           ...\n",
       "4862...\n",
       "                               feature_types=None, gamma=None, gpu_id=None,\n",
       "                               grow_policy=None, importance_type=None,\n",
       "                               interaction_constraints=None, learning_rate=None,\n",
       "                               max_bin=None, max_cat_threshold=None,\n",
       "                               max_cat_to_onehot=None, max_delta_step=None,\n",
       "                               max_depth=None, max_leaves=None,\n",
       "                               min_child_weight=None, missing=nan,\n",
       "                               monotone_constraints=None, n_estimators=100,\n",
       "                               n_jobs=None, num_parallel_tree=None,\n",
       "                               predictor=None, random_state=None, ...))])</pre><b>Please rerun this cell to show the HTML repr or trust the notebook.</b></div><div class=\"sk-container\" hidden><div class=\"sk-item sk-dashed-wrapped\"><div class=\"sk-label-container\"><div class=\"sk-label sk-toggleable\"><input class=\"sk-toggleable__control sk-hidden--visually\" id=\"c528d5a8-7af8-4ab1-804b-a8029903a266\" type=\"checkbox\" ><label for=\"c528d5a8-7af8-4ab1-804b-a8029903a266\" class=\"sk-toggleable__label sk-toggleable__label-arrow\">Pipeline</label><div class=\"sk-toggleable__content\"><pre>Pipeline(steps=[(&#x27;preproc&#x27;,\n",
       "                 ColumnTransformer(remainder=&#x27;passthrough&#x27;,\n",
       "                                   transformers=[(&#x27;num_pipe&#x27;,\n",
       "                                                  Pipeline(steps=[(&#x27;scale_num&#x27;,\n",
       "                                                                   StandardScaler())]),\n",
       "                                                        L/W Ratio  T/W Ratio  Circularity  Angularity  Transparency\n",
       "0         1.436      0.956        0.907      50.000         0.475\n",
       "1         1.152      1.000        0.346      83.333         0.591\n",
       "2         2.142      0.575        0.627      55.000         0.413\n",
       "3         1.156      0.854        0.923      57.143         0.432\n",
       "4         1.525      0.699        0.828      61.667         0.492\n",
       "...         ...        ...          ...         ...           ...\n",
       "4862...\n",
       "                               feature_types=None, gamma=None, gpu_id=None,\n",
       "                               grow_policy=None, importance_type=None,\n",
       "                               interaction_constraints=None, learning_rate=None,\n",
       "                               max_bin=None, max_cat_threshold=None,\n",
       "                               max_cat_to_onehot=None, max_delta_step=None,\n",
       "                               max_depth=None, max_leaves=None,\n",
       "                               min_child_weight=None, missing=nan,\n",
       "                               monotone_constraints=None, n_estimators=100,\n",
       "                               n_jobs=None, num_parallel_tree=None,\n",
       "                               predictor=None, random_state=None, ...))])</pre></div></div></div><div class=\"sk-serial\"><div class=\"sk-item sk-dashed-wrapped\"><div class=\"sk-label-container\"><div class=\"sk-label sk-toggleable\"><input class=\"sk-toggleable__control sk-hidden--visually\" id=\"45847a1f-1ceb-4fec-bdc8-b89c356b667e\" type=\"checkbox\" ><label for=\"45847a1f-1ceb-4fec-bdc8-b89c356b667e\" class=\"sk-toggleable__label sk-toggleable__label-arrow\">preproc: ColumnTransformer</label><div class=\"sk-toggleable__content\"><pre>ColumnTransformer(remainder=&#x27;passthrough&#x27;,\n",
       "                  transformers=[(&#x27;num_pipe&#x27;,\n",
       "                                 Pipeline(steps=[(&#x27;scale_num&#x27;,\n",
       "                                                  StandardScaler())]),\n",
       "                                       L/W Ratio  T/W Ratio  Circularity  Angularity  Transparency\n",
       "0         1.436      0.956        0.907      50.000         0.475\n",
       "1         1.152      1.000        0.346      83.333         0.591\n",
       "2         2.142      0.575        0.627      55.000         0.413\n",
       "3         1.156      0.854        0.923      57.143         0.432\n",
       "4         1.525      0.699        0.828      61.667         0.492\n",
       "...         ...        ...          ...         ...           ...\n",
       "4862      2.000      1.000        0.114     120.000         0.651\n",
       "4863      2.500      1.000        0.214     110.000         0.601\n",
       "4864      4.000      1.000        0.161      87.500         0.601\n",
       "4865      4.000      1.000        0.161     116.667         0.653\n",
       "4866      2.500      1.000        0.214     110.000         0.618\n",
       "\n",
       "[9734 rows x 5 columns])])</pre></div></div></div><div class=\"sk-parallel\"><div class=\"sk-parallel-item\"><div class=\"sk-item\"><div class=\"sk-label-container\"><div class=\"sk-label sk-toggleable\"><input class=\"sk-toggleable__control sk-hidden--visually\" id=\"e37f0ff3-a396-492a-8897-eae80ef463d7\" type=\"checkbox\" ><label for=\"e37f0ff3-a396-492a-8897-eae80ef463d7\" class=\"sk-toggleable__label sk-toggleable__label-arrow\">num_pipe</label><div class=\"sk-toggleable__content\"><pre>      L/W Ratio  T/W Ratio  Circularity  Angularity  Transparency\n",
       "0         1.436      0.956        0.907      50.000         0.475\n",
       "1         1.152      1.000        0.346      83.333         0.591\n",
       "2         2.142      0.575        0.627      55.000         0.413\n",
       "3         1.156      0.854        0.923      57.143         0.432\n",
       "4         1.525      0.699        0.828      61.667         0.492\n",
       "...         ...        ...          ...         ...           ...\n",
       "4862      2.000      1.000        0.114     120.000         0.651\n",
       "4863      2.500      1.000        0.214     110.000         0.601\n",
       "4864      4.000      1.000        0.161      87.500         0.601\n",
       "4865      4.000      1.000        0.161     116.667         0.653\n",
       "4866      2.500      1.000        0.214     110.000         0.618\n",
       "\n",
       "[9734 rows x 5 columns]</pre></div></div></div><div class=\"sk-serial\"><div class=\"sk-item\"><div class=\"sk-serial\"><div class=\"sk-item\"><div class=\"sk-estimator sk-toggleable\"><input class=\"sk-toggleable__control sk-hidden--visually\" id=\"f509fd5d-8a3f-4028-93fe-df3cf60d7b4b\" type=\"checkbox\" ><label for=\"f509fd5d-8a3f-4028-93fe-df3cf60d7b4b\" class=\"sk-toggleable__label sk-toggleable__label-arrow\">StandardScaler</label><div class=\"sk-toggleable__content\"><pre>StandardScaler()</pre></div></div></div></div></div></div></div></div><div class=\"sk-parallel-item\"><div class=\"sk-item\"><div class=\"sk-label-container\"><div class=\"sk-label sk-toggleable\"><input class=\"sk-toggleable__control sk-hidden--visually\" id=\"bcb88be7-6e7b-47e2-a156-eefba77792f9\" type=\"checkbox\" ><label for=\"bcb88be7-6e7b-47e2-a156-eefba77792f9\" class=\"sk-toggleable__label sk-toggleable__label-arrow\">remainder</label><div class=\"sk-toggleable__content\"><pre></pre></div></div></div><div class=\"sk-serial\"><div class=\"sk-item\"><div class=\"sk-estimator sk-toggleable\"><input class=\"sk-toggleable__control sk-hidden--visually\" id=\"ca42ac06-714a-40a1-9534-3b486243a1b8\" type=\"checkbox\" ><label for=\"ca42ac06-714a-40a1-9534-3b486243a1b8\" class=\"sk-toggleable__label sk-toggleable__label-arrow\">passthrough</label><div class=\"sk-toggleable__content\"><pre>passthrough</pre></div></div></div></div></div></div></div></div><div class=\"sk-item\"><div class=\"sk-estimator sk-toggleable\"><input class=\"sk-toggleable__control sk-hidden--visually\" id=\"c719db3b-9fe2-4f35-a8a1-bba52138fbec\" type=\"checkbox\" ><label for=\"c719db3b-9fe2-4f35-a8a1-bba52138fbec\" class=\"sk-toggleable__label sk-toggleable__label-arrow\">XGBClassifier</label><div class=\"sk-toggleable__content\"><pre>XGBClassifier(base_score=None, booster=None, callbacks=None,\n",
       "              colsample_bylevel=None, colsample_bynode=None,\n",
       "              colsample_bytree=None, early_stopping_rounds=None,\n",
       "              enable_categorical=False, eval_metric=None, feature_types=None,\n",
       "              gamma=None, gpu_id=None, grow_policy=None, importance_type=None,\n",
       "              interaction_constraints=None, learning_rate=None, max_bin=None,\n",
       "              max_cat_threshold=None, max_cat_to_onehot=None,\n",
       "              max_delta_step=None, max_depth=None, max_leaves=None,\n",
       "              min_child_weight=None, missing=nan, monotone_constraints=None,\n",
       "              n_estimators=100, n_jobs=None, num_parallel_tree=None,\n",
       "              predictor=None, random_state=None, ...)</pre></div></div></div></div></div></div></div>"
      ],
      "text/plain": [
       "Pipeline(steps=[('preproc',\n",
       "                 ColumnTransformer(remainder='passthrough',\n",
       "                                   transformers=[('num_pipe',\n",
       "                                                  Pipeline(steps=[('scale_num',\n",
       "                                                                   StandardScaler())]),\n",
       "                                                        L/W Ratio  T/W Ratio  Circularity  Angularity  Transparency\n",
       "0         1.436      0.956        0.907      50.000         0.475\n",
       "1         1.152      1.000        0.346      83.333         0.591\n",
       "2         2.142      0.575        0.627      55.000         0.413\n",
       "3         1.156      0.854        0.923      57.143         0.432\n",
       "4         1.525      0.699        0.828      61.667         0.492\n",
       "...         ...        ...          ...         ...           ...\n",
       "4862...\n",
       "                               feature_types=None, gamma=None, gpu_id=None,\n",
       "                               grow_policy=None, importance_type=None,\n",
       "                               interaction_constraints=None, learning_rate=None,\n",
       "                               max_bin=None, max_cat_threshold=None,\n",
       "                               max_cat_to_onehot=None, max_delta_step=None,\n",
       "                               max_depth=None, max_leaves=None,\n",
       "                               min_child_weight=None, missing=nan,\n",
       "                               monotone_constraints=None, n_estimators=100,\n",
       "                               n_jobs=None, num_parallel_tree=None,\n",
       "                               predictor=None, random_state=None, ...))])"
      ]
     },
     "metadata": {},
     "output_type": "display_data"
    }
   ],
   "source": [
    "xgb_pipe = Pipeline(steps=[('preproc', preproc),\n",
    "                       ('xgbmdl', XGBClassifier())])\n",
    "\n",
    "with config_context(display='diagram'):\n",
    "    display(xgb_pipe)\n"
   ]
  },
  {
   "cell_type": "markdown",
   "metadata": {},
   "source": [
    "**Logistic Regression**"
   ]
  },
  {
   "cell_type": "code",
   "execution_count": 33,
   "metadata": {},
   "outputs": [
    {
     "data": {
      "text/html": [
       "<style>#sk-bbcfdad1-1179-4ff7-86e7-aff0767889bf {color: black;background-color: white;}#sk-bbcfdad1-1179-4ff7-86e7-aff0767889bf pre{padding: 0;}#sk-bbcfdad1-1179-4ff7-86e7-aff0767889bf div.sk-toggleable {background-color: white;}#sk-bbcfdad1-1179-4ff7-86e7-aff0767889bf label.sk-toggleable__label {cursor: pointer;display: block;width: 100%;margin-bottom: 0;padding: 0.3em;box-sizing: border-box;text-align: center;}#sk-bbcfdad1-1179-4ff7-86e7-aff0767889bf label.sk-toggleable__label-arrow:before {content: \"▸\";float: left;margin-right: 0.25em;color: #696969;}#sk-bbcfdad1-1179-4ff7-86e7-aff0767889bf label.sk-toggleable__label-arrow:hover:before {color: black;}#sk-bbcfdad1-1179-4ff7-86e7-aff0767889bf div.sk-estimator:hover label.sk-toggleable__label-arrow:before {color: black;}#sk-bbcfdad1-1179-4ff7-86e7-aff0767889bf div.sk-toggleable__content {max-height: 0;max-width: 0;overflow: hidden;text-align: left;background-color: #f0f8ff;}#sk-bbcfdad1-1179-4ff7-86e7-aff0767889bf div.sk-toggleable__content pre {margin: 0.2em;color: black;border-radius: 0.25em;background-color: #f0f8ff;}#sk-bbcfdad1-1179-4ff7-86e7-aff0767889bf input.sk-toggleable__control:checked~div.sk-toggleable__content {max-height: 200px;max-width: 100%;overflow: auto;}#sk-bbcfdad1-1179-4ff7-86e7-aff0767889bf input.sk-toggleable__control:checked~label.sk-toggleable__label-arrow:before {content: \"▾\";}#sk-bbcfdad1-1179-4ff7-86e7-aff0767889bf div.sk-estimator input.sk-toggleable__control:checked~label.sk-toggleable__label {background-color: #d4ebff;}#sk-bbcfdad1-1179-4ff7-86e7-aff0767889bf div.sk-label input.sk-toggleable__control:checked~label.sk-toggleable__label {background-color: #d4ebff;}#sk-bbcfdad1-1179-4ff7-86e7-aff0767889bf input.sk-hidden--visually {border: 0;clip: rect(1px 1px 1px 1px);clip: rect(1px, 1px, 1px, 1px);height: 1px;margin: -1px;overflow: hidden;padding: 0;position: absolute;width: 1px;}#sk-bbcfdad1-1179-4ff7-86e7-aff0767889bf div.sk-estimator {font-family: monospace;background-color: #f0f8ff;border: 1px dotted black;border-radius: 0.25em;box-sizing: border-box;margin-bottom: 0.5em;}#sk-bbcfdad1-1179-4ff7-86e7-aff0767889bf div.sk-estimator:hover {background-color: #d4ebff;}#sk-bbcfdad1-1179-4ff7-86e7-aff0767889bf div.sk-parallel-item::after {content: \"\";width: 100%;border-bottom: 1px solid gray;flex-grow: 1;}#sk-bbcfdad1-1179-4ff7-86e7-aff0767889bf div.sk-label:hover label.sk-toggleable__label {background-color: #d4ebff;}#sk-bbcfdad1-1179-4ff7-86e7-aff0767889bf div.sk-serial::before {content: \"\";position: absolute;border-left: 1px solid gray;box-sizing: border-box;top: 2em;bottom: 0;left: 50%;}#sk-bbcfdad1-1179-4ff7-86e7-aff0767889bf div.sk-serial {display: flex;flex-direction: column;align-items: center;background-color: white;padding-right: 0.2em;padding-left: 0.2em;}#sk-bbcfdad1-1179-4ff7-86e7-aff0767889bf div.sk-item {z-index: 1;}#sk-bbcfdad1-1179-4ff7-86e7-aff0767889bf div.sk-parallel {display: flex;align-items: stretch;justify-content: center;background-color: white;}#sk-bbcfdad1-1179-4ff7-86e7-aff0767889bf div.sk-parallel::before {content: \"\";position: absolute;border-left: 1px solid gray;box-sizing: border-box;top: 2em;bottom: 0;left: 50%;}#sk-bbcfdad1-1179-4ff7-86e7-aff0767889bf div.sk-parallel-item {display: flex;flex-direction: column;position: relative;background-color: white;}#sk-bbcfdad1-1179-4ff7-86e7-aff0767889bf div.sk-parallel-item:first-child::after {align-self: flex-end;width: 50%;}#sk-bbcfdad1-1179-4ff7-86e7-aff0767889bf div.sk-parallel-item:last-child::after {align-self: flex-start;width: 50%;}#sk-bbcfdad1-1179-4ff7-86e7-aff0767889bf div.sk-parallel-item:only-child::after {width: 0;}#sk-bbcfdad1-1179-4ff7-86e7-aff0767889bf div.sk-dashed-wrapped {border: 1px dashed gray;margin: 0 0.4em 0.5em 0.4em;box-sizing: border-box;padding-bottom: 0.4em;background-color: white;position: relative;}#sk-bbcfdad1-1179-4ff7-86e7-aff0767889bf div.sk-label label {font-family: monospace;font-weight: bold;background-color: white;display: inline-block;line-height: 1.2em;}#sk-bbcfdad1-1179-4ff7-86e7-aff0767889bf div.sk-label-container {position: relative;z-index: 2;text-align: center;}#sk-bbcfdad1-1179-4ff7-86e7-aff0767889bf div.sk-container {/* jupyter's `normalize.less` sets `[hidden] { display: none; }` but bootstrap.min.css set `[hidden] { display: none !important; }` so we also need the `!important` here to be able to override the default hidden behavior on the sphinx rendered scikit-learn.org. See: https://github.com/scikit-learn/scikit-learn/issues/21755 */display: inline-block !important;position: relative;}#sk-bbcfdad1-1179-4ff7-86e7-aff0767889bf div.sk-text-repr-fallback {display: none;}</style><div id=\"sk-bbcfdad1-1179-4ff7-86e7-aff0767889bf\" class=\"sk-top-container\"><div class=\"sk-text-repr-fallback\"><pre>Pipeline(steps=[(&#x27;preproc&#x27;,\n",
       "                 ColumnTransformer(remainder=&#x27;passthrough&#x27;,\n",
       "                                   transformers=[(&#x27;num_pipe&#x27;,\n",
       "                                                  Pipeline(steps=[(&#x27;scale_num&#x27;,\n",
       "                                                                   StandardScaler())]),\n",
       "                                                        L/W Ratio  T/W Ratio  Circularity  Angularity  Transparency\n",
       "0         1.436      0.956        0.907      50.000         0.475\n",
       "1         1.152      1.000        0.346      83.333         0.591\n",
       "2         2.142      0.575        0.627      55.000         0.413\n",
       "3         1.156      0.854        0.923      57.143         0.432\n",
       "4         1.525      0.699        0.828      61.667         0.492\n",
       "...         ...        ...          ...         ...           ...\n",
       "4862      2.000      1.000        0.114     120.000         0.651\n",
       "4863      2.500      1.000        0.214     110.000         0.601\n",
       "4864      4.000      1.000        0.161      87.500         0.601\n",
       "4865      4.000      1.000        0.161     116.667         0.653\n",
       "4866      2.500      1.000        0.214     110.000         0.618\n",
       "\n",
       "[9734 rows x 5 columns])])),\n",
       "                (&#x27;lrmdl&#x27;, LogisticRegression())])</pre><b>Please rerun this cell to show the HTML repr or trust the notebook.</b></div><div class=\"sk-container\" hidden><div class=\"sk-item sk-dashed-wrapped\"><div class=\"sk-label-container\"><div class=\"sk-label sk-toggleable\"><input class=\"sk-toggleable__control sk-hidden--visually\" id=\"a1513428-218d-4ffa-a6ac-96e3c7703c6c\" type=\"checkbox\" ><label for=\"a1513428-218d-4ffa-a6ac-96e3c7703c6c\" class=\"sk-toggleable__label sk-toggleable__label-arrow\">Pipeline</label><div class=\"sk-toggleable__content\"><pre>Pipeline(steps=[(&#x27;preproc&#x27;,\n",
       "                 ColumnTransformer(remainder=&#x27;passthrough&#x27;,\n",
       "                                   transformers=[(&#x27;num_pipe&#x27;,\n",
       "                                                  Pipeline(steps=[(&#x27;scale_num&#x27;,\n",
       "                                                                   StandardScaler())]),\n",
       "                                                        L/W Ratio  T/W Ratio  Circularity  Angularity  Transparency\n",
       "0         1.436      0.956        0.907      50.000         0.475\n",
       "1         1.152      1.000        0.346      83.333         0.591\n",
       "2         2.142      0.575        0.627      55.000         0.413\n",
       "3         1.156      0.854        0.923      57.143         0.432\n",
       "4         1.525      0.699        0.828      61.667         0.492\n",
       "...         ...        ...          ...         ...           ...\n",
       "4862      2.000      1.000        0.114     120.000         0.651\n",
       "4863      2.500      1.000        0.214     110.000         0.601\n",
       "4864      4.000      1.000        0.161      87.500         0.601\n",
       "4865      4.000      1.000        0.161     116.667         0.653\n",
       "4866      2.500      1.000        0.214     110.000         0.618\n",
       "\n",
       "[9734 rows x 5 columns])])),\n",
       "                (&#x27;lrmdl&#x27;, LogisticRegression())])</pre></div></div></div><div class=\"sk-serial\"><div class=\"sk-item sk-dashed-wrapped\"><div class=\"sk-label-container\"><div class=\"sk-label sk-toggleable\"><input class=\"sk-toggleable__control sk-hidden--visually\" id=\"7ee0ff8f-1080-4d88-b6d4-b9d4539c38b4\" type=\"checkbox\" ><label for=\"7ee0ff8f-1080-4d88-b6d4-b9d4539c38b4\" class=\"sk-toggleable__label sk-toggleable__label-arrow\">preproc: ColumnTransformer</label><div class=\"sk-toggleable__content\"><pre>ColumnTransformer(remainder=&#x27;passthrough&#x27;,\n",
       "                  transformers=[(&#x27;num_pipe&#x27;,\n",
       "                                 Pipeline(steps=[(&#x27;scale_num&#x27;,\n",
       "                                                  StandardScaler())]),\n",
       "                                       L/W Ratio  T/W Ratio  Circularity  Angularity  Transparency\n",
       "0         1.436      0.956        0.907      50.000         0.475\n",
       "1         1.152      1.000        0.346      83.333         0.591\n",
       "2         2.142      0.575        0.627      55.000         0.413\n",
       "3         1.156      0.854        0.923      57.143         0.432\n",
       "4         1.525      0.699        0.828      61.667         0.492\n",
       "...         ...        ...          ...         ...           ...\n",
       "4862      2.000      1.000        0.114     120.000         0.651\n",
       "4863      2.500      1.000        0.214     110.000         0.601\n",
       "4864      4.000      1.000        0.161      87.500         0.601\n",
       "4865      4.000      1.000        0.161     116.667         0.653\n",
       "4866      2.500      1.000        0.214     110.000         0.618\n",
       "\n",
       "[9734 rows x 5 columns])])</pre></div></div></div><div class=\"sk-parallel\"><div class=\"sk-parallel-item\"><div class=\"sk-item\"><div class=\"sk-label-container\"><div class=\"sk-label sk-toggleable\"><input class=\"sk-toggleable__control sk-hidden--visually\" id=\"99e0a1ad-64f1-4b45-a5c9-9685a10eb83c\" type=\"checkbox\" ><label for=\"99e0a1ad-64f1-4b45-a5c9-9685a10eb83c\" class=\"sk-toggleable__label sk-toggleable__label-arrow\">num_pipe</label><div class=\"sk-toggleable__content\"><pre>      L/W Ratio  T/W Ratio  Circularity  Angularity  Transparency\n",
       "0         1.436      0.956        0.907      50.000         0.475\n",
       "1         1.152      1.000        0.346      83.333         0.591\n",
       "2         2.142      0.575        0.627      55.000         0.413\n",
       "3         1.156      0.854        0.923      57.143         0.432\n",
       "4         1.525      0.699        0.828      61.667         0.492\n",
       "...         ...        ...          ...         ...           ...\n",
       "4862      2.000      1.000        0.114     120.000         0.651\n",
       "4863      2.500      1.000        0.214     110.000         0.601\n",
       "4864      4.000      1.000        0.161      87.500         0.601\n",
       "4865      4.000      1.000        0.161     116.667         0.653\n",
       "4866      2.500      1.000        0.214     110.000         0.618\n",
       "\n",
       "[9734 rows x 5 columns]</pre></div></div></div><div class=\"sk-serial\"><div class=\"sk-item\"><div class=\"sk-serial\"><div class=\"sk-item\"><div class=\"sk-estimator sk-toggleable\"><input class=\"sk-toggleable__control sk-hidden--visually\" id=\"bfd4f286-409c-41c1-9ead-b3284017f2d0\" type=\"checkbox\" ><label for=\"bfd4f286-409c-41c1-9ead-b3284017f2d0\" class=\"sk-toggleable__label sk-toggleable__label-arrow\">StandardScaler</label><div class=\"sk-toggleable__content\"><pre>StandardScaler()</pre></div></div></div></div></div></div></div></div><div class=\"sk-parallel-item\"><div class=\"sk-item\"><div class=\"sk-label-container\"><div class=\"sk-label sk-toggleable\"><input class=\"sk-toggleable__control sk-hidden--visually\" id=\"87cefe7c-1559-4147-8191-f25d0543f2ea\" type=\"checkbox\" ><label for=\"87cefe7c-1559-4147-8191-f25d0543f2ea\" class=\"sk-toggleable__label sk-toggleable__label-arrow\">remainder</label><div class=\"sk-toggleable__content\"><pre></pre></div></div></div><div class=\"sk-serial\"><div class=\"sk-item\"><div class=\"sk-estimator sk-toggleable\"><input class=\"sk-toggleable__control sk-hidden--visually\" id=\"36831e02-792e-4bca-93b8-0108422fc347\" type=\"checkbox\" ><label for=\"36831e02-792e-4bca-93b8-0108422fc347\" class=\"sk-toggleable__label sk-toggleable__label-arrow\">passthrough</label><div class=\"sk-toggleable__content\"><pre>passthrough</pre></div></div></div></div></div></div></div></div><div class=\"sk-item\"><div class=\"sk-estimator sk-toggleable\"><input class=\"sk-toggleable__control sk-hidden--visually\" id=\"35a9cb47-3677-47f9-8bea-729a96e4f5be\" type=\"checkbox\" ><label for=\"35a9cb47-3677-47f9-8bea-729a96e4f5be\" class=\"sk-toggleable__label sk-toggleable__label-arrow\">LogisticRegression</label><div class=\"sk-toggleable__content\"><pre>LogisticRegression()</pre></div></div></div></div></div></div></div>"
      ],
      "text/plain": [
       "Pipeline(steps=[('preproc',\n",
       "                 ColumnTransformer(remainder='passthrough',\n",
       "                                   transformers=[('num_pipe',\n",
       "                                                  Pipeline(steps=[('scale_num',\n",
       "                                                                   StandardScaler())]),\n",
       "                                                        L/W Ratio  T/W Ratio  Circularity  Angularity  Transparency\n",
       "0         1.436      0.956        0.907      50.000         0.475\n",
       "1         1.152      1.000        0.346      83.333         0.591\n",
       "2         2.142      0.575        0.627      55.000         0.413\n",
       "3         1.156      0.854        0.923      57.143         0.432\n",
       "4         1.525      0.699        0.828      61.667         0.492\n",
       "...         ...        ...          ...         ...           ...\n",
       "4862      2.000      1.000        0.114     120.000         0.651\n",
       "4863      2.500      1.000        0.214     110.000         0.601\n",
       "4864      4.000      1.000        0.161      87.500         0.601\n",
       "4865      4.000      1.000        0.161     116.667         0.653\n",
       "4866      2.500      1.000        0.214     110.000         0.618\n",
       "\n",
       "[9734 rows x 5 columns])])),\n",
       "                ('lrmdl', LogisticRegression())])"
      ]
     },
     "metadata": {},
     "output_type": "display_data"
    }
   ],
   "source": [
    "lr_pipe = Pipeline(steps=[('preproc', preproc),\n",
    "                       ('lrmdl', LogisticRegression(solver=\"lbfgs\") )])\n",
    "\n",
    "with config_context(display='diagram'):\n",
    "    display(lr_pipe)\n",
    "\n"
   ]
  },
  {
   "cell_type": "markdown",
   "metadata": {},
   "source": [
    "## Cross-validation with hyperparameter tuning"
   ]
  },
  {
   "cell_type": "code",
   "execution_count": 34,
   "metadata": {},
   "outputs": [],
   "source": [
    "# machine learning libs\n",
    "from sklearn.model_selection import train_test_split, GridSearchCV\n",
    "from sklearn.linear_model import LogisticRegression\n",
    "from sklearn.ensemble import RandomForestClassifier\n",
    "from sklearn.pipeline import Pipeline \n",
    "from sklearn.compose import ColumnTransformer, make_column_selector\n",
    "from sklearn.impute import SimpleImputer\n",
    "from sklearn.preprocessing import OneHotEncoder, LabelBinarizer, StandardScaler\n",
    "from sklearn import config_context\n",
    "from sklearn.metrics import classification_report, confusion_matrix, ConfusionMatrixDisplay"
   ]
  },
  {
   "cell_type": "markdown",
   "metadata": {},
   "source": [
    "### Random Forest"
   ]
  },
  {
   "cell_type": "code",
   "execution_count": 35,
   "metadata": {},
   "outputs": [
    {
     "name": "stdout",
     "output_type": "stream",
     "text": [
      "Accuracy of RF classifier on training set: 0.9751\n",
      "Accuracy of RF classifier on test set: 0.9491\n",
      "              precision    recall  f1-score   support\n",
      "\n",
      "           0       0.94      0.96      0.95      1217\n",
      "           1       0.96      0.94      0.95      1217\n",
      "\n",
      "    accuracy                           0.95      2434\n",
      "   macro avg       0.95      0.95      0.95      2434\n",
      "weighted avg       0.95      0.95      0.95      2434\n",
      "\n"
     ]
    },
    {
     "data": {
      "image/png": "[encoded data removed]",
      "text/plain": [
       "<Figure size 432x288 with 2 Axes>"
      ]
     },
     "metadata": {
      "needs_background": "light"
     },
     "output_type": "display_data"
    }
   ],
   "source": [
    "# these hyper parameters come from \"04_Features_Evaluation.ipynb\" from pipeline hyperparameter search/tuning \n",
    "rf_tuned = RandomForestClassifier(max_depth=8,n_estimators=200,max_features='log2',criterion='gini')\n",
    "rf_tuned.fit(X_train_transformed, y_train_transformed)\n",
    "\n",
    "print('Accuracy of RF classifier on training set: {:.4f}'.format(rf_tuned.score(X_train_transformed, y_train_transformed)))\n",
    "print('Accuracy of RF classifier on test set: {:.4f}'.format(rf_tuned.score(X_test_transformed, y_test_transformed)))\n",
    "\n",
    "pred_rf_tuned = rf_tuned.predict(X_test_transformed)\n",
    "\n",
    "print(classification_report(y_test_transformed, pred_rf_tuned))\n",
    "\n",
    "cm = confusion_matrix(y_test_transformed, rf_tuned.predict(X_test_transformed))\n",
    "disp = ConfusionMatrixDisplay(confusion_matrix=cm, display_labels=rf_tuned.classes_)\n",
    "disp.plot()\n",
    "\n",
    "plt.show()"
   ]
  },
  {
   "cell_type": "markdown",
   "metadata": {},
   "source": [
    "### XGBoost"
   ]
  },
  {
   "cell_type": "code",
   "execution_count": 36,
   "metadata": {
    "scrolled": false
   },
   "outputs": [
    {
     "name": "stdout",
     "output_type": "stream",
     "text": [
      "Accuracy of XGBoost classifier on training set: 0.98\n",
      "Accuracy of XGBoost classifier on test set: 0.9540\n",
      "              precision    recall  f1-score   support\n",
      "\n",
      "           0       0.95      0.96      0.95      1217\n",
      "           1       0.96      0.94      0.95      1217\n",
      "\n",
      "    accuracy                           0.95      2434\n",
      "   macro avg       0.95      0.95      0.95      2434\n",
      "weighted avg       0.95      0.95      0.95      2434\n",
      "\n"
     ]
    },
    {
     "data": {
      "image/png": "[encoded data removed]",
      "text/plain": [
       "<Figure size 432x288 with 2 Axes>"
      ]
     },
     "metadata": {
      "needs_background": "light"
     },
     "output_type": "display_data"
    }
   ],
   "source": [
    "xg_tuned = XGBClassifier(colsample_bytree = 0.8, learning_rate = 0.1, n_estimators = 100, subsample = 0.8)\n",
    "\n",
    "xg_tuned.fit(X_train_transformed, y_train_transformed)\n",
    "\n",
    "print('Accuracy of XGBoost classifier on training set: {:.2f}'.format(xg_tuned.score(X_train_transformed, y_train_transformed)))\n",
    "print('Accuracy of XGBoost classifier on test set: {:.4f}'.format(xg_tuned.score(X_test_transformed, y_test_transformed)))\n",
    "\n",
    "pred_xg_tuned = xg_tuned.predict(X_test_transformed)\n",
    "\n",
    "print(classification_report(y_test_transformed, pred_xg_tuned))\n",
    "\n",
    "cm = confusion_matrix(y_test_transformed, xg_tuned.predict(X_test_transformed))\n",
    "disp = ConfusionMatrixDisplay(confusion_matrix=cm, display_labels=xg_tuned.classes_)\n",
    "disp.plot()\n",
    "\n",
    "plt.show()"
   ]
  },
  {
   "cell_type": "markdown",
   "metadata": {},
   "source": [
    "### SVC"
   ]
  },
  {
   "cell_type": "code",
   "execution_count": 37,
   "metadata": {},
   "outputs": [
    {
     "name": "stdout",
     "output_type": "stream",
     "text": [
      "Accuracy of SVC classifier on training set: 0.97\n",
      "Accuracy of SVC classifier on test set: 0.9552\n",
      "              precision    recall  f1-score   support\n",
      "\n",
      "           0       0.95      0.97      0.96      1217\n",
      "           1       0.96      0.94      0.95      1217\n",
      "\n",
      "    accuracy                           0.96      2434\n",
      "   macro avg       0.96      0.96      0.96      2434\n",
      "weighted avg       0.96      0.96      0.96      2434\n",
      "\n"
     ]
    },
    {
     "data": {
      "image/png": "[encoded data removed]",
      "text/plain": [
       "<Figure size 432x288 with 2 Axes>"
      ]
     },
     "metadata": {
      "needs_background": "light"
     },
     "output_type": "display_data"
    }
   ],
   "source": [
    "svc_tuned = SVC(C = 1, gamma = 1, kernel = 'rbf')\n",
    "\n",
    "svc_tuned.fit(X_train_transformed, y_train_transformed)\n",
    "\n",
    "print('Accuracy of SVC classifier on training set: {:.2f}'.format(svc_tuned.score(X_train_transformed, y_train_transformed)))\n",
    "print('Accuracy of SVC classifier on test set: {:.4f}'.format(svc_tuned.score(X_test_transformed, y_test_transformed)))\n",
    "\n",
    "pred_svc_tuned = svc_tuned.predict(X_test_transformed)\n",
    "\n",
    "print(classification_report(y_test_transformed, pred_svc_tuned))\n",
    "\n",
    "cm = confusion_matrix(y_test_transformed, svc_tuned.predict(X_test_transformed))\n",
    "disp = ConfusionMatrixDisplay(confusion_matrix=cm, display_labels=svc_tuned.classes_)\n",
    "disp.plot()\n",
    "\n",
    "plt.show()"
   ]
  },
  {
   "cell_type": "markdown",
   "metadata": {},
   "source": [
    "### Logistic Regression"
   ]
  },
  {
   "cell_type": "code",
   "execution_count": 38,
   "metadata": {},
   "outputs": [
    {
     "name": "stdout",
     "output_type": "stream",
     "text": [
      "Accuracy of LR classifier on training set: 0.88\n",
      "Accuracy of LR classifier on test set: 0.8817\n",
      "              precision    recall  f1-score   support\n",
      "\n",
      "           0       0.85      0.93      0.89      1217\n",
      "           1       0.92      0.84      0.88      1217\n",
      "\n",
      "    accuracy                           0.88      2434\n",
      "   macro avg       0.88      0.88      0.88      2434\n",
      "weighted avg       0.88      0.88      0.88      2434\n",
      "\n"
     ]
    },
    {
     "data": {
      "image/png": "[encoded data removed]",
      "text/plain": [
       "<Figure size 432x288 with 2 Axes>"
      ]
     },
     "metadata": {
      "needs_background": "light"
     },
     "output_type": "display_data"
    }
   ],
   "source": [
    "lr_tuned = LogisticRegression(C = 0.1, penalty = 'l2')\n",
    "\n",
    "lr_tuned.fit(X_train_transformed, y_train_transformed)\n",
    "\n",
    "print('Accuracy of LR classifier on training set: {:.2f}'.format(lr_tuned.score(X_train_transformed, y_train_transformed)))\n",
    "print('Accuracy of LR classifier on test set: {:.4f}'.format(lr_tuned.score(X_test_transformed, y_test_transformed)))\n",
    "\n",
    "pred_lr_tuned = lr_tuned.predict(X_test_transformed)\n",
    "\n",
    "print(classification_report(y_test_transformed, pred_lr_tuned))\n",
    "\n",
    "cm = confusion_matrix(y_test_transformed, lr_tuned.predict(X_test_transformed))\n",
    "disp = ConfusionMatrixDisplay(confusion_matrix=cm, display_labels=lr_tuned.classes_)\n",
    "disp.plot()\n",
    "\n",
    "plt.show()"
   ]
  },
  {
   "cell_type": "code",
   "execution_count": 39,
   "metadata": {},
   "outputs": [],
   "source": [
    "#for param in random_lr.get_params().keys():\n",
    "#    print(param)"
   ]
  },
  {
   "cell_type": "markdown",
   "metadata": {},
   "source": [
    "## Final fit"
   ]
  },
  {
   "cell_type": "code",
   "execution_count": 33,
   "metadata": {},
   "outputs": [],
   "source": [
    "#random_rf.best_estimator_"
   ]
  },
  {
   "cell_type": "code",
   "execution_count": 34,
   "metadata": {},
   "outputs": [],
   "source": [
    "#random_svc.best_estimator_"
   ]
  },
  {
   "cell_type": "code",
   "execution_count": 35,
   "metadata": {},
   "outputs": [],
   "source": [
    "#random_xgb.best_estimator_"
   ]
  },
  {
   "cell_type": "code",
   "execution_count": 36,
   "metadata": {},
   "outputs": [],
   "source": [
    "#random_lr.best_estimator_"
   ]
  },
  {
   "cell_type": "markdown",
   "metadata": {},
   "source": [
    "## Performance metrics on test data (Model Evaluation)"
   ]
  },
  {
   "cell_type": "markdown",
   "metadata": {},
   "source": [
    "**The resulting plot from that will show how the model really performs.**"
   ]
  },
  {
   "cell_type": "code",
   "execution_count": 40,
   "metadata": {},
   "outputs": [
    {
     "name": "stdout",
     "output_type": "stream",
     "text": [
      "random forest\n"
     ]
    },
    {
     "data": {
      "image/png": "[encoded data removed]",
      "text/plain": [
       "<Figure size 432x288 with 2 Axes>"
      ]
     },
     "metadata": {
      "needs_background": "light"
     },
     "output_type": "display_data"
    },
    {
     "name": "stdout",
     "output_type": "stream",
     "text": [
      "svm\n"
     ]
    },
    {
     "data": {
      "image/png": "[encoded data removed]",
      "text/plain": [
       "<Figure size 432x288 with 2 Axes>"
      ]
     },
     "metadata": {
      "needs_background": "light"
     },
     "output_type": "display_data"
    },
    {
     "name": "stdout",
     "output_type": "stream",
     "text": [
      "xgboost\n"
     ]
    },
    {
     "data": {
      "image/png": "[encoded data removed]",
      "text/plain": [
       "<Figure size 432x288 with 2 Axes>"
      ]
     },
     "metadata": {
      "needs_background": "light"
     },
     "output_type": "display_data"
    },
    {
     "name": "stdout",
     "output_type": "stream",
     "text": [
      "logistic regression\n"
     ]
    },
    {
     "data": {
      "image/png": "[encoded data removed]",
      "text/plain": [
       "<Figure size 432x288 with 2 Axes>"
      ]
     },
     "metadata": {
      "needs_background": "light"
     },
     "output_type": "display_data"
    }
   ],
   "source": [
    "def metrics(predict,classes):\n",
    "    cm = confusion_matrix(y_test_transformed, predict(X_test_transformed))\n",
    "    disp = ConfusionMatrixDisplay(confusion_matrix=cm, display_labels=classes)\n",
    "    disp.plot()\n",
    "    \n",
    "print(\"random forest\")\n",
    "plt.show(metrics(rf.predict,rf.classes_))\n",
    "print(\"svm\")\n",
    "plt.show(metrics(svc.predict,svc.classes_))\n",
    "print(\"xgboost\")\n",
    "plt.show(metrics(xgb.predict,xgb.classes_))\n",
    "print(\"logistic regression\")\n",
    "cm_xgb = confusion_matrix(y_test, y_pred_log_reg)\n",
    "disp = ConfusionMatrixDisplay(confusion_matrix=cm_xgb, display_labels=log_reg.classes_)\n",
    "disp.plot()\n",
    "plt.show()\n"
   ]
  },
  {
   "cell_type": "markdown",
   "metadata": {},
   "source": [
    "When performing classification predictions, there's four types of outcomes that could occur.\n",
    "\n",
    "(1) True positives are when you predict an observation belongs to a class and it actually does belong to that class.\n",
    "\n",
    "(2) True negatives are when you predict an observation does not belong to a class and it actually does not belong to that class.\n",
    "\n",
    "(3) False positives occur when you predict an observation belongs to a class when in reality it does not.\n",
    "\n",
    "(4) False negatives occur when you predict an observation does not belong to a class when in fact it does.\n",
    "\n",
    "**So from four plots below, we can find that XGBoost model has the most true positives which is 973. And logistic regression model has the most true negatives which is 25767.**\n",
    "\n",
    "**Additionally, XGBoost and Random Forest seem to have very similar performance**"
   ]
  },
  {
   "cell_type": "markdown",
   "metadata": {},
   "source": [
    "#### The three main metrics used to evaluate a classification model are accuracy, precision, and recall."
   ]
  },
  {
   "cell_type": "code",
   "execution_count": 41,
   "metadata": {
    "scrolled": false
   },
   "outputs": [
    {
     "name": "stdout",
     "output_type": "stream",
     "text": [
      "Random Forest classifier accuracy on training set: 1.0000\n",
      "Random Forest classifier accuracy on testing set: 0.9523\n",
      "              precision    recall  f1-score   support\n",
      "\n",
      "           0       0.95      0.96      0.95      1217\n",
      "           1       0.96      0.94      0.95      1217\n",
      "\n",
      "    accuracy                           0.95      2434\n",
      "   macro avg       0.95      0.95      0.95      2434\n",
      "weighted avg       0.95      0.95      0.95      2434\n",
      "\n",
      "SVM classifier accuracy on training set: 0.9600\n",
      "SVM classifier accuracy on testing set: 0.9556\n",
      "              precision    recall  f1-score   support\n",
      "\n",
      "           0       0.95      0.96      0.96      1217\n",
      "           1       0.96      0.95      0.96      1217\n",
      "\n",
      "    accuracy                           0.96      2434\n",
      "   macro avg       0.96      0.96      0.96      2434\n",
      "weighted avg       0.96      0.96      0.96      2434\n",
      "\n",
      "XGBoost classifier accuracy on training set: 0.9984\n",
      "XGBoost classifier accuracy on testing set: 0.9528\n",
      "              precision    recall  f1-score   support\n",
      "\n",
      "           0       0.94      0.97      0.95      1217\n",
      "           1       0.96      0.94      0.95      1217\n",
      "\n",
      "    accuracy                           0.95      2434\n",
      "   macro avg       0.95      0.95      0.95      2434\n",
      "weighted avg       0.95      0.95      0.95      2434\n",
      "\n",
      "Logistic regression classifier accuracy on training set: 0.8882\n",
      "Logistic regression classifier accuracy on testing set: 0.8866\n",
      "              precision    recall  f1-score   support\n",
      "\n",
      "         0.0       0.86      0.93      0.89      1217\n",
      "         1.0       0.92      0.85      0.88      1217\n",
      "\n",
      "    accuracy                           0.89      2434\n",
      "   macro avg       0.89      0.89      0.89      2434\n",
      "weighted avg       0.89      0.89      0.89      2434\n",
      "\n"
     ]
    }
   ],
   "source": [
    "def accuracy(score,model_name,predict):\n",
    "    print(model_name, 'classifier accuracy on training set: {:.4f}'.format(score(X_train_transformed, y_train_transformed)))\n",
    "    print(model_name, 'classifier accuracy on testing set: {:.4f}'.format(score(X_test_transformed, y_test_transformed)))\n",
    "    pred = predict(X_test_transformed)\n",
    "    print(classification_report(y_test_transformed, pred))\n",
    "\n",
    "accuracy(rf.score,\"Random Forest\",rf.predict)\n",
    "accuracy(svc.score,\"SVM\",svc.predict)\n",
    "accuracy(xgb.score,\"XGBoost\",xgb.predict)\n",
    "\n",
    "# Print the precision, recall and f1-scores  \n",
    "print('Logistic regression classifier accuracy on training set: {:.4f}'.format(log_reg .score(X_train, y_train)))\n",
    "print('Logistic regression classifier accuracy on testing set: {:.4f}'.format(log_reg .score(X_test, y_test)))\n",
    "log_reg_accuracy = accuracy_score(y_pred_log_reg, y_test)  \n",
    "print(classification_report(y_test, y_pred_log_reg)) "
   ]
  },
  {
   "cell_type": "markdown",
   "metadata": {},
   "source": [
    "### (1) Accuracy\n",
    "\n",
    "Accuracy is defined as the percentage of correct predictions for the test data. "
   ]
  },
  {
   "cell_type": "markdown",
   "metadata": {},
   "source": [
    "-- **Accuracy on training set: Random Forest(1.0) > XGBoost(0.99) > SVM(0.98) > Logistic regression(0.96)**\n",
    "\n",
    "\n",
    "Random Forest has the highest accuracy on training set.\n",
    "\n",
    "Logistic regression has the lowest accuracy on training set.\n",
    "\n",
    "\n",
    "-- **Accuracy on testing set: Random Forest(0.98) = XGBoost(0.98) = SVM(0.98) > Logistic regression(0.96)**\n",
    "\n",
    "Random Forest, XGBoost, SVM have almost the same accuracy on testing set.\n",
    "\n",
    "Logistic regression has the lowest accuracy on testing set."
   ]
  },
  {
   "cell_type": "markdown",
   "metadata": {},
   "source": [
    "### (2) Precision \n",
    "Precision is defined as the fraction of relevant examples (true positives) "
   ]
  },
  {
   "cell_type": "markdown",
   "metadata": {},
   "source": [
    "**lithic data: XGBoost(0.93) > Random Forest(0.92) = SVM(0.92) = Logistic regression(0.92)**\n",
    "\n",
    "**soil data: Random Forest(0.99) = SVM(0.99) > XGBoost(0.98) > Logistic regression(0.96)**"
   ]
  },
  {
   "cell_type": "markdown",
   "metadata": {},
   "source": [
    "### (3) Recall\n",
    "Recall is defined as the fraction of examples which were predicted to belong to a class with respect to all of the examples that truly belong in the class."
   ]
  },
  {
   "cell_type": "markdown",
   "metadata": {},
   "source": [
    "**lithic data: XGBoost(0.73) > Random Forest(0.72) > SVM(0.63) > Logistic regression(0.16)**\n",
    "\n",
    "**soil data: Random Forest(1.0) = SVM(1.0) = XGBoost(1.0)  Logistic regression(1.0)**"
   ]
  },
  {
   "cell_type": "markdown",
   "metadata": {},
   "source": [
    "### (4) ROC and AUC\n",
    "\n",
    "An ROC curve (receiver operating characteristic curve) is a graph showing the performance of a classification model at all classification thresholds. This curve plots two parameters:(1) True Positive Rate  (2)False Positive Rate\n",
    "\n",
    "AUC: Area Under the ROC Curve\n",
    "\n",
    "AUC ranges in value from 0 to 1. A model whose predictions are 100% wrong has an AUC of 0.0; one whose predictions are 100% correct has an AUC of 1.0."
   ]
  },
  {
   "cell_type": "code",
   "execution_count": 46,
   "metadata": {},
   "outputs": [],
   "source": [
    "# Plot ROC curve and calculate AUC score  \n",
    "# The resulting ROC curve, along with the AUC score looks like this:  \n",
    "def plot_roc_curve(X_test, y_test, model, model_name=\"Classifier\"):  \n",
    "    \n",
    "    # The line below is equivalent to  \n",
    "    y_predicted = model.predict(X_test)  \n",
    " \n",
    "    # The line below is equivalent to  \n",
    "    y_predicted_proba = model.predict_proba(X_test)  \n",
    "    \n",
    "    auc_roc_log_reg = roc_auc_score(y_test, y_predicted)\n",
    "    \n",
    "    # keep probabilities for the positive outcome only\n",
    "    fpr,tpr,thresholds= roc_curve(y_test,y_predicted_proba[:,1]  )\n",
    "   \n",
    "    plt.plot(fpr, tpr, color=\"red\", lw=2,   \n",
    "              label=f\"{model_name} (area = {auc_roc_log_reg:0.5f})\")  \n",
    "    plt.plot([0, 1], [0, 1], color=\"black\", lw=2, linestyle=\"--\",   \n",
    "              label=\"Mean model (area = 0.500)\")  \n",
    "    plt.xlim([0.0, 1.0])  \n",
    "    plt.ylim([0.0, 1.05])  \n",
    "    plt.xlabel(\"False Positive Rate\")  \n",
    "    plt.ylabel(\"True Positive Rate\")  \n",
    "    plt.title(\"Receiver operating characteristic\")  \n",
    "    plt.legend(loc=\"lower right\")  \n",
    "    plt.show()  \n",
    "   \n",
    "    # Calculate the auc score  \n",
    "    auc_score = auc(fpr, tpr)  \n",
    "    print(f\"auc_score: {round(auc_score, 3)}.\")  "
   ]
  },
  {
   "cell_type": "code",
   "execution_count": 47,
   "metadata": {},
   "outputs": [
    {
     "data": {
      "image/png": "[encoded data removed]",
      "text/plain": [
       "<Figure size 432x288 with 1 Axes>"
      ]
     },
     "metadata": {
      "needs_background": "light"
     },
     "output_type": "display_data"
    },
    {
     "name": "stdout",
     "output_type": "stream",
     "text": [
      "auc_score: 0.989.\n"
     ]
    },
    {
     "data": {
      "image/png": "[encoded data removed]",
      "text/plain": [
       "<Figure size 432x288 with 1 Axes>"
      ]
     },
     "metadata": {
      "needs_background": "light"
     },
     "output_type": "display_data"
    },
    {
     "name": "stdout",
     "output_type": "stream",
     "text": [
      "auc_score: 0.989.\n"
     ]
    },
    {
     "data": {
      "image/png": "[encoded data removed]",
      "text/plain": [
       "<Figure size 432x288 with 1 Axes>"
      ]
     },
     "metadata": {
      "needs_background": "light"
     },
     "output_type": "display_data"
    },
    {
     "name": "stdout",
     "output_type": "stream",
     "text": [
      "auc_score: 0.99.\n"
     ]
    },
    {
     "data": {
      "image/png": "[encoded data removed]",
      "text/plain": [
       "<Figure size 432x288 with 1 Axes>"
      ]
     },
     "metadata": {
      "needs_background": "light"
     },
     "output_type": "display_data"
    },
    {
     "name": "stdout",
     "output_type": "stream",
     "text": [
      "auc_score: 0.933.\n"
     ]
    }
   ],
   "source": [
    "plot_roc_curve(X_test_transformed, y_test_transformed, rf, \"Random Forest\") \n",
    "plot_roc_curve(X_test_transformed, y_test_transformed, svc, \"SVM\") \n",
    "plot_roc_curve(X_test_transformed, y_test_transformed, xgb, \"XGBoost\") \n",
    "plot_roc_curve(X_test, y_test, log_reg, \"Logistic regression\") \n"
   ]
  },
  {
   "cell_type": "markdown",
   "metadata": {},
   "source": [
    "**AUC :Logistic regression(0.838) > Random Forest(0.536) > XGBoost(0.509) > SVM(0.185)**"
   ]
  },
  {
   "cell_type": "markdown",
   "metadata": {},
   "source": [
    "### (5) Bias & Variance"
   ]
  },
  {
   "cell_type": "code",
   "execution_count": null,
   "metadata": {},
   "outputs": [],
   "source": [
    "!pip install mlxtend\n",
    "from mlxtend.evaluate import bias_variance_decomp\n",
    "from sklearn import metrics\n",
    "import pandas as pd\n"
   ]
  },
  {
   "cell_type": "code",
   "execution_count": null,
   "metadata": {},
   "outputs": [],
   "source": [
    "mse, bias, var = bias_variance_decomp(log_reg , X_train.values, y_train.values, X_test.values, y_test.values, loss='mse', random_seed=1)\n",
    "\n",
    "#y_pred=xgb.predict(X_test.values.ravel())\n",
    "# summarize results\n",
    "print('MSE: %.3f' % mse)\n",
    "print('Bias: %.3f' % bias)\n",
    "print('Variance: %.3f' % var)"
   ]
  },
  {
   "cell_type": "markdown",
   "metadata": {},
   "source": [
    "## User Interface"
   ]
  },
  {
   "cell_type": "code",
   "execution_count": 20,
   "metadata": {},
   "outputs": [],
   "source": [
    "import gradio as gr\n",
    "#feature_selection = ['L/W Ratio', 'T/W Ratio', 'Circularity', 'Angularity', 'Transparency']\n"
   ]
  },
  {
   "cell_type": "code",
   "execution_count": 21,
   "metadata": {},
   "outputs": [],
   "source": [
    "from sklearn.preprocessing import StandardScaler\n",
    "\n",
    "#instantiate StandardScaler object\n",
    "scaler = StandardScaler()\n",
    "\n",
    "#scale data\n",
    "x_train_scaled = scaler.fit_transform(X_train)\n",
    "\n",
    "x_test_scaled = scaler.fit_transform(X_test)"
   ]
  },
  {
   "cell_type": "code",
   "execution_count": 24,
   "metadata": {},
   "outputs": [],
   "source": [
    "def diabetes(a,b,c,d,e,model):\n",
    "    x = np.array([a,b,c,d,e])\n",
    "    \n",
    "    if model==\"RF\":\n",
    "        model = RandomForestClassifier()\n",
    "        model.fit(x_train_scaled, y_train.values.ravel())\n",
    "        prediction=model.predict(x.reshape(1, -1))      \n",
    "        if prediction==1:\n",
    "            return \"Using RF model, this might be a lithic particle\"\n",
    "        else:\n",
    "            return \"Using RF model, this might be a soil particle\"\n",
    "        \n",
    "    if model==\"SVC\":\n",
    "        model = SVC()\n",
    "        model.fit(x_train_scaled, y_train.values.ravel())\n",
    "        prediction=model.predict(x.reshape(1, -1))      \n",
    "        if prediction==1:\n",
    "            return \"Using svc model, this might be a lithic particle\"\n",
    "        else:\n",
    "            return \"Using svc model, this might be a soil particle\"\n",
    "        \n",
    "    if model==\"XGBoost\":\n",
    "        model = XGBClassifier()\n",
    "        model.fit(x_train_scaled, y_train.values.ravel())\n",
    "        prediction=model.predict(x.reshape(1, -1))      \n",
    "        if prediction==1:\n",
    "            return \"Using XGBoost model, this might be a lithic particle\"\n",
    "        else:\n",
    "            return \"Using XGBoost model, this might be a soil particle\""
   ]
  },
  {
   "cell_type": "code",
   "execution_count": 25,
   "metadata": {},
   "outputs": [
    {
     "name": "stderr",
     "output_type": "stream",
     "text": [
      "/home/lix73/.local/lib/python3.9/site-packages/gradio/outputs.py:22: UserWarning: Usage of gradio.outputs is deprecated, and will not be supported in the future, please import your components from gradio.components\n",
      "  warnings.warn(\n"
     ]
    },
    {
     "name": "stdout",
     "output_type": "stream",
     "text": [
      "Running on local URL:  http://127.0.0.1:7861\n",
      "Running on public URL: https://1854bc7f-3694-455b.gradio.live\n",
      "\n",
      "This share link expires in 72 hours. For free permanent hosting and GPU upgrades (NEW!), check out Spaces: https://huggingface.co/spaces\n"
     ]
    },
    {
     "data": {
      "text/html": [
       "<div><iframe src=\"https://1854bc7f-3694-455b.gradio.live\" width=\"100%\" height=\"500\" allow=\"autoplay; camera; microphone; clipboard-read; clipboard-write;\" frameborder=\"0\" allowfullscreen></iframe></div>"
      ],
      "text/plain": [
       "<IPython.core.display.HTML object>"
      ]
     },
     "metadata": {},
     "output_type": "display_data"
    },
    {
     "data": {
      "text/plain": []
     },
     "execution_count": 25,
     "metadata": {},
     "output_type": "execute_result"
    }
   ],
   "source": [
    "#gr.Number(label = \"L/W Ratio\"),\n",
    "            #gr.Number(label = \"T/W Ratio\"),\n",
    "            #gr.Number(label = \"Circularity\"),\n",
    "            #gr.Number(label = \"Angularity\"),\n",
    "            #gr.Number(label = \"Transparenc\"),\n",
    "            #'number','number','number','number','number'\n",
    "            #gr.Radio(label = \"Models\", choices = [\"RF\", \"SVC\", \"XGBoost\"]),\n",
    "outputs = gr.outputs.Textbox()\n",
    "app = gr.Interface(\n",
    "    fn=diabetes, \n",
    "    inputs=[\n",
    "        gr.Number(label = \"L/W Ratio\"),\n",
    "        gr.Number(label = \"T/W Ratio\"),\n",
    "        gr.Number(label = \"Circularity\"),\n",
    "        gr.Number(label = \"Angularity\"),\n",
    "        gr.Number(label = \"Transparency\"),\n",
    "        gr.Radio(label = \"Models\", choices = [\"RF\", \"SVC\", \"XGBoost\"]),\n",
    "    ], \n",
    "    outputs=outputs,\n",
    "    description=\"This is a  model\")\n",
    "\n",
    "app.launch(share=True)"
   ]
  },
  {
   "cell_type": "code",
   "execution_count": null,
   "metadata": {},
   "outputs": [],
   "source": []
  }
 ],
 "metadata": {
  "kernelspec": {
   "display_name": "Python 3 (ipykernel)",
   "language": "python",
   "name": "python3"
  },
  "language_info": {
   "codemirror_mode": {
    "name": "ipython",
    "version": 3
   },
   "file_extension": ".py",
   "mimetype": "text/x-python",
   "name": "python",
   "nbconvert_exporter": "python",
   "pygments_lexer": "ipython3",
   "version": "3.9.12"
  }
 },
 "nbformat": 4,
 "nbformat_minor": 2
}
